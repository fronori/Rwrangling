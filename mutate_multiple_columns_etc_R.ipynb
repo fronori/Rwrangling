{
 "cells": [
  {
   "cell_type": "code",
   "execution_count": 1,
   "metadata": {
    "colab": {
     "base_uri": "https://localhost:8080/"
    },
    "id": "cs1hvLcjHpZT",
    "outputId": "81f90017-d8d1-47f7-e1c4-f3863846bc8b"
   },
   "outputs": [
    {
     "name": "stderr",
     "output_type": "stream",
     "text": [
      "Warning message in system(\"timedatectl\", intern = TRUE):\n",
      "“running command 'timedatectl' had status 1”\n",
      "── \u001b[1mAttaching packages\u001b[22m ─────────────────────────────────────── tidyverse 1.3.1 ──\n",
      "\n",
      "\u001b[32m✔\u001b[39m \u001b[34mggplot2\u001b[39m 3.3.3     \u001b[32m✔\u001b[39m \u001b[34mpurrr  \u001b[39m 0.3.4\n",
      "\u001b[32m✔\u001b[39m \u001b[34mtibble \u001b[39m 3.1.2     \u001b[32m✔\u001b[39m \u001b[34mdplyr  \u001b[39m 1.0.6\n",
      "\u001b[32m✔\u001b[39m \u001b[34mtidyr  \u001b[39m 1.1.3     \u001b[32m✔\u001b[39m \u001b[34mstringr\u001b[39m 1.4.0\n",
      "\u001b[32m✔\u001b[39m \u001b[34mreadr  \u001b[39m 1.4.0     \u001b[32m✔\u001b[39m \u001b[34mforcats\u001b[39m 0.5.1\n",
      "\n",
      "── \u001b[1mConflicts\u001b[22m ────────────────────────────────────────── tidyverse_conflicts() ──\n",
      "\u001b[31m✖\u001b[39m \u001b[34mdplyr\u001b[39m::\u001b[32mfilter()\u001b[39m masks \u001b[34mstats\u001b[39m::filter()\n",
      "\u001b[31m✖\u001b[39m \u001b[34mdplyr\u001b[39m::\u001b[32mlag()\u001b[39m    masks \u001b[34mstats\u001b[39m::lag()\n",
      "\n"
     ]
    }
   ],
   "source": [
    "library(tidyverse)"
   ]
  },
  {
   "cell_type": "markdown",
   "metadata": {
    "id": "-YW_aMPBDb6A"
   },
   "source": [
    "# 列名にスペースが含まれる場合の列の指定の仕方"
   ]
  },
  {
   "cell_type": "markdown",
   "metadata": {
    "id": "ZSw34fnaDl3f"
   },
   "source": [
    "たとえば、starwarsデータの列名にスペースが入っている場合を考えよう。"
   ]
  },
  {
   "cell_type": "code",
   "execution_count": 2,
   "metadata": {
    "colab": {
     "base_uri": "https://localhost:8080/",
     "height": 34
    },
    "id": "I365v-kfC3xB",
    "outputId": "a848d825-2125-444a-fa94-a0f1be4b7f56"
   },
   "outputs": [
    {
     "data": {
      "text/html": [
       "<style>\n",
       ".list-inline {list-style: none; margin:0; padding: 0}\n",
       ".list-inline>li {display: inline-block}\n",
       ".list-inline>li:not(:last-child)::after {content: \"\\00b7\"; padding: 0 .5ex}\n",
       "</style>\n",
       "<ol class=list-inline><li>'name'</li><li>'height'</li><li>'mass'</li><li>'hair color'</li><li>'skin color'</li><li>'eye color'</li><li>'birth year'</li><li>'sex'</li><li>'gender'</li><li>'homeworld'</li><li>'species'</li><li>'films'</li><li>'vehicles'</li><li>'starships'</li></ol>\n"
      ],
      "text/latex": [
       "\\begin{enumerate*}\n",
       "\\item 'name'\n",
       "\\item 'height'\n",
       "\\item 'mass'\n",
       "\\item 'hair color'\n",
       "\\item 'skin color'\n",
       "\\item 'eye color'\n",
       "\\item 'birth year'\n",
       "\\item 'sex'\n",
       "\\item 'gender'\n",
       "\\item 'homeworld'\n",
       "\\item 'species'\n",
       "\\item 'films'\n",
       "\\item 'vehicles'\n",
       "\\item 'starships'\n",
       "\\end{enumerate*}\n"
      ],
      "text/markdown": [
       "1. 'name'\n",
       "2. 'height'\n",
       "3. 'mass'\n",
       "4. 'hair color'\n",
       "5. 'skin color'\n",
       "6. 'eye color'\n",
       "7. 'birth year'\n",
       "8. 'sex'\n",
       "9. 'gender'\n",
       "10. 'homeworld'\n",
       "11. 'species'\n",
       "12. 'films'\n",
       "13. 'vehicles'\n",
       "14. 'starships'\n",
       "\n",
       "\n"
      ],
      "text/plain": [
       " [1] \"name\"       \"height\"     \"mass\"       \"hair color\" \"skin color\"\n",
       " [6] \"eye color\"  \"birth year\" \"sex\"        \"gender\"     \"homeworld\" \n",
       "[11] \"species\"    \"films\"      \"vehicles\"   \"starships\" "
      ]
     },
     "metadata": {
      "tags": []
     },
     "output_type": "display_data"
    }
   ],
   "source": [
    "starwars2 <- starwars\n",
    "colnames(starwars2)[4:7] <- c(\"hair color\", \"skin color\",\"eye color\" , \"birth year\")\n",
    "colnames(starwars2)"
   ]
  },
  {
   "cell_type": "markdown",
   "metadata": {
    "id": "Iw8qBd95DyR3"
   },
   "source": [
    "このstarwars2データは、列名のいくつかにスペースが入っている。このようなとき、たとえば、hair color列はどうやったら指定できるか？"
   ]
  },
  {
   "cell_type": "code",
   "execution_count": 3,
   "metadata": {
    "colab": {
     "base_uri": "https://localhost:8080/",
     "height": 130
    },
    "id": "t3BfKOEfD6xi",
    "outputId": "d418b6d6-c44c-4169-d823-f8632abf039a"
   },
   "outputs": [
    {
     "ename": "ERROR",
     "evalue": "ignored",
     "output_type": "error",
     "traceback": [
      "Error in parse(text = x, srcfile = src): <text>:1:16: unexpected symbol\n1: starwars2$hair color\n                   ^\nTraceback:\n"
     ]
    }
   ],
   "source": [
    "starwars2$hair color"
   ]
  },
  {
   "cell_type": "markdown",
   "metadata": {
    "id": "ENCIVAGrD9xb"
   },
   "source": [
    "当然、そのままデータフレームに$マークのあとに列名を書いても、スペースがあるため列名として正しく認識されない"
   ]
  },
  {
   "cell_type": "code",
   "execution_count": null,
   "metadata": {
    "id": "D6KG3gkAEHLl"
   },
   "outputs": [],
   "source": [
    "starwars2 %>%\n",
    "    select(hair color)"
   ]
  },
  {
   "cell_type": "markdown",
   "metadata": {
    "id": "jYRsvlHeEO15"
   },
   "source": [
    "もちろん、select()やpull()なども受け付けてくれない。"
   ]
  },
  {
   "cell_type": "markdown",
   "metadata": {
    "id": "a5vpacysESYu"
   },
   "source": [
    "## スペースを含むような列名の場合は、バックチック（バッククォート） `` で囲うことで列名として認識させられる。"
   ]
  },
  {
   "cell_type": "code",
   "execution_count": 4,
   "metadata": {
    "colab": {
     "base_uri": "https://localhost:8080/",
     "height": 85
    },
    "id": "nW1nJ1-cCieS",
    "outputId": "9bc8180a-5339-4119-87e4-69eabc2946e9"
   },
   "outputs": [
    {
     "data": {
      "text/html": [
       "<style>\n",
       ".list-inline {list-style: none; margin:0; padding: 0}\n",
       ".list-inline>li {display: inline-block}\n",
       ".list-inline>li:not(:last-child)::after {content: \"\\00b7\"; padding: 0 .5ex}\n",
       "</style>\n",
       "<ol class=list-inline><li>'blond'</li><li>NA</li><li>NA</li><li>'none'</li><li>'brown'</li><li>'brown, grey'</li><li>'brown'</li><li>NA</li><li>'black'</li><li>'auburn, white'</li><li>'blond'</li><li>'auburn, grey'</li><li>'brown'</li><li>'brown'</li><li>NA</li><li>NA</li><li>'brown'</li><li>'brown'</li><li>'white'</li><li>'grey'</li><li>'black'</li><li>'none'</li><li>'none'</li><li>'black'</li><li>'none'</li><li>'none'</li><li>'auburn'</li><li>'brown'</li><li>'brown'</li><li>'none'</li><li>'brown'</li><li>'none'</li><li>'blond'</li><li>'none'</li><li>'none'</li><li>'none'</li><li>'brown'</li><li>'black'</li><li>'none'</li><li>'black'</li><li>'black'</li><li>'none'</li><li>'none'</li><li>'none'</li><li>'none'</li><li>'none'</li><li>'none'</li><li>'none'</li><li>'white'</li><li>'none'</li><li>'black'</li><li>'none'</li><li>'none'</li><li>'none'</li><li>'none'</li><li>'none'</li><li>'black'</li><li>'brown'</li><li>'brown'</li><li>'none'</li><li>'black'</li><li>'black'</li><li>'brown'</li><li>'white'</li><li>'black'</li><li>'black'</li><li>'blonde'</li><li>'none'</li><li>'none'</li><li>'none'</li><li>'white'</li><li>'none'</li><li>'none'</li><li>'none'</li><li>'none'</li><li>'none'</li><li>'none'</li><li>'brown'</li><li>'brown'</li><li>'none'</li><li>'none'</li><li>'black'</li><li>'brown'</li><li>'brown'</li><li>'none'</li><li>'unknown'</li><li>'brown'</li></ol>\n"
      ],
      "text/latex": [
       "\\begin{enumerate*}\n",
       "\\item 'blond'\n",
       "\\item NA\n",
       "\\item NA\n",
       "\\item 'none'\n",
       "\\item 'brown'\n",
       "\\item 'brown, grey'\n",
       "\\item 'brown'\n",
       "\\item NA\n",
       "\\item 'black'\n",
       "\\item 'auburn, white'\n",
       "\\item 'blond'\n",
       "\\item 'auburn, grey'\n",
       "\\item 'brown'\n",
       "\\item 'brown'\n",
       "\\item NA\n",
       "\\item NA\n",
       "\\item 'brown'\n",
       "\\item 'brown'\n",
       "\\item 'white'\n",
       "\\item 'grey'\n",
       "\\item 'black'\n",
       "\\item 'none'\n",
       "\\item 'none'\n",
       "\\item 'black'\n",
       "\\item 'none'\n",
       "\\item 'none'\n",
       "\\item 'auburn'\n",
       "\\item 'brown'\n",
       "\\item 'brown'\n",
       "\\item 'none'\n",
       "\\item 'brown'\n",
       "\\item 'none'\n",
       "\\item 'blond'\n",
       "\\item 'none'\n",
       "\\item 'none'\n",
       "\\item 'none'\n",
       "\\item 'brown'\n",
       "\\item 'black'\n",
       "\\item 'none'\n",
       "\\item 'black'\n",
       "\\item 'black'\n",
       "\\item 'none'\n",
       "\\item 'none'\n",
       "\\item 'none'\n",
       "\\item 'none'\n",
       "\\item 'none'\n",
       "\\item 'none'\n",
       "\\item 'none'\n",
       "\\item 'white'\n",
       "\\item 'none'\n",
       "\\item 'black'\n",
       "\\item 'none'\n",
       "\\item 'none'\n",
       "\\item 'none'\n",
       "\\item 'none'\n",
       "\\item 'none'\n",
       "\\item 'black'\n",
       "\\item 'brown'\n",
       "\\item 'brown'\n",
       "\\item 'none'\n",
       "\\item 'black'\n",
       "\\item 'black'\n",
       "\\item 'brown'\n",
       "\\item 'white'\n",
       "\\item 'black'\n",
       "\\item 'black'\n",
       "\\item 'blonde'\n",
       "\\item 'none'\n",
       "\\item 'none'\n",
       "\\item 'none'\n",
       "\\item 'white'\n",
       "\\item 'none'\n",
       "\\item 'none'\n",
       "\\item 'none'\n",
       "\\item 'none'\n",
       "\\item 'none'\n",
       "\\item 'none'\n",
       "\\item 'brown'\n",
       "\\item 'brown'\n",
       "\\item 'none'\n",
       "\\item 'none'\n",
       "\\item 'black'\n",
       "\\item 'brown'\n",
       "\\item 'brown'\n",
       "\\item 'none'\n",
       "\\item 'unknown'\n",
       "\\item 'brown'\n",
       "\\end{enumerate*}\n"
      ],
      "text/markdown": [
       "1. 'blond'\n",
       "2. NA\n",
       "3. NA\n",
       "4. 'none'\n",
       "5. 'brown'\n",
       "6. 'brown, grey'\n",
       "7. 'brown'\n",
       "8. NA\n",
       "9. 'black'\n",
       "10. 'auburn, white'\n",
       "11. 'blond'\n",
       "12. 'auburn, grey'\n",
       "13. 'brown'\n",
       "14. 'brown'\n",
       "15. NA\n",
       "16. NA\n",
       "17. 'brown'\n",
       "18. 'brown'\n",
       "19. 'white'\n",
       "20. 'grey'\n",
       "21. 'black'\n",
       "22. 'none'\n",
       "23. 'none'\n",
       "24. 'black'\n",
       "25. 'none'\n",
       "26. 'none'\n",
       "27. 'auburn'\n",
       "28. 'brown'\n",
       "29. 'brown'\n",
       "30. 'none'\n",
       "31. 'brown'\n",
       "32. 'none'\n",
       "33. 'blond'\n",
       "34. 'none'\n",
       "35. 'none'\n",
       "36. 'none'\n",
       "37. 'brown'\n",
       "38. 'black'\n",
       "39. 'none'\n",
       "40. 'black'\n",
       "41. 'black'\n",
       "42. 'none'\n",
       "43. 'none'\n",
       "44. 'none'\n",
       "45. 'none'\n",
       "46. 'none'\n",
       "47. 'none'\n",
       "48. 'none'\n",
       "49. 'white'\n",
       "50. 'none'\n",
       "51. 'black'\n",
       "52. 'none'\n",
       "53. 'none'\n",
       "54. 'none'\n",
       "55. 'none'\n",
       "56. 'none'\n",
       "57. 'black'\n",
       "58. 'brown'\n",
       "59. 'brown'\n",
       "60. 'none'\n",
       "61. 'black'\n",
       "62. 'black'\n",
       "63. 'brown'\n",
       "64. 'white'\n",
       "65. 'black'\n",
       "66. 'black'\n",
       "67. 'blonde'\n",
       "68. 'none'\n",
       "69. 'none'\n",
       "70. 'none'\n",
       "71. 'white'\n",
       "72. 'none'\n",
       "73. 'none'\n",
       "74. 'none'\n",
       "75. 'none'\n",
       "76. 'none'\n",
       "77. 'none'\n",
       "78. 'brown'\n",
       "79. 'brown'\n",
       "80. 'none'\n",
       "81. 'none'\n",
       "82. 'black'\n",
       "83. 'brown'\n",
       "84. 'brown'\n",
       "85. 'none'\n",
       "86. 'unknown'\n",
       "87. 'brown'\n",
       "\n",
       "\n"
      ],
      "text/plain": [
       " [1] \"blond\"         NA              NA              \"none\"         \n",
       " [5] \"brown\"         \"brown, grey\"   \"brown\"         NA             \n",
       " [9] \"black\"         \"auburn, white\" \"blond\"         \"auburn, grey\" \n",
       "[13] \"brown\"         \"brown\"         NA              NA             \n",
       "[17] \"brown\"         \"brown\"         \"white\"         \"grey\"         \n",
       "[21] \"black\"         \"none\"          \"none\"          \"black\"        \n",
       "[25] \"none\"          \"none\"          \"auburn\"        \"brown\"        \n",
       "[29] \"brown\"         \"none\"          \"brown\"         \"none\"         \n",
       "[33] \"blond\"         \"none\"          \"none\"          \"none\"         \n",
       "[37] \"brown\"         \"black\"         \"none\"          \"black\"        \n",
       "[41] \"black\"         \"none\"          \"none\"          \"none\"         \n",
       "[45] \"none\"          \"none\"          \"none\"          \"none\"         \n",
       "[49] \"white\"         \"none\"          \"black\"         \"none\"         \n",
       "[53] \"none\"          \"none\"          \"none\"          \"none\"         \n",
       "[57] \"black\"         \"brown\"         \"brown\"         \"none\"         \n",
       "[61] \"black\"         \"black\"         \"brown\"         \"white\"        \n",
       "[65] \"black\"         \"black\"         \"blonde\"        \"none\"         \n",
       "[69] \"none\"          \"none\"          \"white\"         \"none\"         \n",
       "[73] \"none\"          \"none\"          \"none\"          \"none\"         \n",
       "[77] \"none\"          \"brown\"         \"brown\"         \"none\"         \n",
       "[81] \"none\"          \"black\"         \"brown\"         \"brown\"        \n",
       "[85] \"none\"          \"unknown\"       \"brown\"        "
      ]
     },
     "metadata": {
      "tags": []
     },
     "output_type": "display_data"
    }
   ],
   "source": [
    "starwars2$`hair color`"
   ]
  },
  {
   "cell_type": "markdown",
   "metadata": {
    "id": "4QrHfFo3FDaq"
   },
   "source": [
    "また、列名が記号や日本語を含む場合にも、この方法は使える。"
   ]
  },
  {
   "cell_type": "code",
   "execution_count": 5,
   "metadata": {
    "colab": {
     "base_uri": "https://localhost:8080/",
     "height": 34
    },
    "id": "Bbt7G5-SFWFU",
    "outputId": "7eb42794-8fd7-43dc-a91d-ee235139eeba"
   },
   "outputs": [
    {
     "data": {
      "text/html": [
       "<style>\n",
       ".list-inline {list-style: none; margin:0; padding: 0}\n",
       ".list-inline>li {display: inline-block}\n",
       ".list-inline>li:not(:last-child)::after {content: \"\\00b7\"; padding: 0 .5ex}\n",
       "</style>\n",
       "<ol class=list-inline><li>'名前'</li><li>'身長'</li><li>'体重'</li><li>'hair color'</li><li>'skin color'</li><li>'eye color'</li><li>'birth year'</li><li>'sex'</li><li>'gender'</li><li>'homeworld'</li><li>'species'</li><li>'films'</li><li>'vehicles'</li><li>'宇宙船リスト (*複数可)'</li></ol>\n"
      ],
      "text/latex": [
       "\\begin{enumerate*}\n",
       "\\item '名前'\n",
       "\\item '身長'\n",
       "\\item '体重'\n",
       "\\item 'hair color'\n",
       "\\item 'skin color'\n",
       "\\item 'eye color'\n",
       "\\item 'birth year'\n",
       "\\item 'sex'\n",
       "\\item 'gender'\n",
       "\\item 'homeworld'\n",
       "\\item 'species'\n",
       "\\item 'films'\n",
       "\\item 'vehicles'\n",
       "\\item '宇宙船リスト (*複数可)'\n",
       "\\end{enumerate*}\n"
      ],
      "text/markdown": [
       "1. '名前'\n",
       "2. '身長'\n",
       "3. '体重'\n",
       "4. 'hair color'\n",
       "5. 'skin color'\n",
       "6. 'eye color'\n",
       "7. 'birth year'\n",
       "8. 'sex'\n",
       "9. 'gender'\n",
       "10. 'homeworld'\n",
       "11. 'species'\n",
       "12. 'films'\n",
       "13. 'vehicles'\n",
       "14. '宇宙船リスト (*複数可)'\n",
       "\n",
       "\n"
      ],
      "text/plain": [
       " [1] \"名前\"                   \"身長\"                   \"体重\"                  \n",
       " [4] \"hair color\"             \"skin color\"             \"eye color\"             \n",
       " [7] \"birth year\"             \"sex\"                    \"gender\"                \n",
       "[10] \"homeworld\"              \"species\"                \"films\"                 \n",
       "[13] \"vehicles\"               \"宇宙船リスト (*複数可)\""
      ]
     },
     "metadata": {
      "tags": []
     },
     "output_type": "display_data"
    }
   ],
   "source": [
    "colnames(starwars2)[c(1:3, 14)] <- c(\"名前\", \"身長\", \"体重\", \"宇宙船リスト (*複数可)\")\n",
    "colnames(starwars2)"
   ]
  },
  {
   "cell_type": "code",
   "execution_count": 6,
   "metadata": {
    "colab": {
     "base_uri": "https://localhost:8080/",
     "height": 68
    },
    "id": "8AwP0lZCFl-x",
    "outputId": "ded7b07b-52ef-465a-9631-f2d29277faac"
   },
   "outputs": [
    {
     "data": {
      "text/html": [
       "<style>\n",
       ".list-inline {list-style: none; margin:0; padding: 0}\n",
       ".list-inline>li {display: inline-block}\n",
       ".list-inline>li:not(:last-child)::after {content: \"\\00b7\"; padding: 0 .5ex}\n",
       "</style>\n",
       "<ol class=list-inline><li>172</li><li>167</li><li>96</li><li>202</li><li>150</li><li>178</li><li>165</li><li>97</li><li>183</li><li>182</li><li>188</li><li>180</li><li>228</li><li>180</li><li>173</li><li>175</li><li>170</li><li>180</li><li>66</li><li>170</li><li>183</li><li>200</li><li>190</li><li>177</li><li>175</li><li>180</li><li>150</li><li>&lt;NA&gt;</li><li>88</li><li>160</li><li>193</li><li>191</li><li>170</li><li>196</li><li>224</li><li>206</li><li>183</li><li>137</li><li>112</li><li>183</li><li>163</li><li>175</li><li>180</li><li>178</li><li>94</li><li>122</li><li>163</li><li>188</li><li>198</li><li>196</li><li>171</li><li>184</li><li>188</li><li>264</li><li>188</li><li>196</li><li>185</li><li>157</li><li>183</li><li>183</li><li>170</li><li>166</li><li>165</li><li>193</li><li>191</li><li>183</li><li>168</li><li>198</li><li>229</li><li>213</li><li>167</li><li>79</li><li>96</li><li>193</li><li>191</li><li>178</li><li>216</li><li>234</li><li>188</li><li>178</li><li>206</li><li>&lt;NA&gt;</li><li>&lt;NA&gt;</li><li>&lt;NA&gt;</li><li>&lt;NA&gt;</li><li>&lt;NA&gt;</li><li>165</li></ol>\n"
      ],
      "text/latex": [
       "\\begin{enumerate*}\n",
       "\\item 172\n",
       "\\item 167\n",
       "\\item 96\n",
       "\\item 202\n",
       "\\item 150\n",
       "\\item 178\n",
       "\\item 165\n",
       "\\item 97\n",
       "\\item 183\n",
       "\\item 182\n",
       "\\item 188\n",
       "\\item 180\n",
       "\\item 228\n",
       "\\item 180\n",
       "\\item 173\n",
       "\\item 175\n",
       "\\item 170\n",
       "\\item 180\n",
       "\\item 66\n",
       "\\item 170\n",
       "\\item 183\n",
       "\\item 200\n",
       "\\item 190\n",
       "\\item 177\n",
       "\\item 175\n",
       "\\item 180\n",
       "\\item 150\n",
       "\\item <NA>\n",
       "\\item 88\n",
       "\\item 160\n",
       "\\item 193\n",
       "\\item 191\n",
       "\\item 170\n",
       "\\item 196\n",
       "\\item 224\n",
       "\\item 206\n",
       "\\item 183\n",
       "\\item 137\n",
       "\\item 112\n",
       "\\item 183\n",
       "\\item 163\n",
       "\\item 175\n",
       "\\item 180\n",
       "\\item 178\n",
       "\\item 94\n",
       "\\item 122\n",
       "\\item 163\n",
       "\\item 188\n",
       "\\item 198\n",
       "\\item 196\n",
       "\\item 171\n",
       "\\item 184\n",
       "\\item 188\n",
       "\\item 264\n",
       "\\item 188\n",
       "\\item 196\n",
       "\\item 185\n",
       "\\item 157\n",
       "\\item 183\n",
       "\\item 183\n",
       "\\item 170\n",
       "\\item 166\n",
       "\\item 165\n",
       "\\item 193\n",
       "\\item 191\n",
       "\\item 183\n",
       "\\item 168\n",
       "\\item 198\n",
       "\\item 229\n",
       "\\item 213\n",
       "\\item 167\n",
       "\\item 79\n",
       "\\item 96\n",
       "\\item 193\n",
       "\\item 191\n",
       "\\item 178\n",
       "\\item 216\n",
       "\\item 234\n",
       "\\item 188\n",
       "\\item 178\n",
       "\\item 206\n",
       "\\item <NA>\n",
       "\\item <NA>\n",
       "\\item <NA>\n",
       "\\item <NA>\n",
       "\\item <NA>\n",
       "\\item 165\n",
       "\\end{enumerate*}\n"
      ],
      "text/markdown": [
       "1. 172\n",
       "2. 167\n",
       "3. 96\n",
       "4. 202\n",
       "5. 150\n",
       "6. 178\n",
       "7. 165\n",
       "8. 97\n",
       "9. 183\n",
       "10. 182\n",
       "11. 188\n",
       "12. 180\n",
       "13. 228\n",
       "14. 180\n",
       "15. 173\n",
       "16. 175\n",
       "17. 170\n",
       "18. 180\n",
       "19. 66\n",
       "20. 170\n",
       "21. 183\n",
       "22. 200\n",
       "23. 190\n",
       "24. 177\n",
       "25. 175\n",
       "26. 180\n",
       "27. 150\n",
       "28. &lt;NA&gt;\n",
       "29. 88\n",
       "30. 160\n",
       "31. 193\n",
       "32. 191\n",
       "33. 170\n",
       "34. 196\n",
       "35. 224\n",
       "36. 206\n",
       "37. 183\n",
       "38. 137\n",
       "39. 112\n",
       "40. 183\n",
       "41. 163\n",
       "42. 175\n",
       "43. 180\n",
       "44. 178\n",
       "45. 94\n",
       "46. 122\n",
       "47. 163\n",
       "48. 188\n",
       "49. 198\n",
       "50. 196\n",
       "51. 171\n",
       "52. 184\n",
       "53. 188\n",
       "54. 264\n",
       "55. 188\n",
       "56. 196\n",
       "57. 185\n",
       "58. 157\n",
       "59. 183\n",
       "60. 183\n",
       "61. 170\n",
       "62. 166\n",
       "63. 165\n",
       "64. 193\n",
       "65. 191\n",
       "66. 183\n",
       "67. 168\n",
       "68. 198\n",
       "69. 229\n",
       "70. 213\n",
       "71. 167\n",
       "72. 79\n",
       "73. 96\n",
       "74. 193\n",
       "75. 191\n",
       "76. 178\n",
       "77. 216\n",
       "78. 234\n",
       "79. 188\n",
       "80. 178\n",
       "81. 206\n",
       "82. &lt;NA&gt;\n",
       "83. &lt;NA&gt;\n",
       "84. &lt;NA&gt;\n",
       "85. &lt;NA&gt;\n",
       "86. &lt;NA&gt;\n",
       "87. 165\n",
       "\n",
       "\n"
      ],
      "text/plain": [
       " [1] 172 167  96 202 150 178 165  97 183 182 188 180 228 180 173 175 170 180  66\n",
       "[20] 170 183 200 190 177 175 180 150  NA  88 160 193 191 170 196 224 206 183 137\n",
       "[39] 112 183 163 175 180 178  94 122 163 188 198 196 171 184 188 264 188 196 185\n",
       "[58] 157 183 183 170 166 165 193 191 183 168 198 229 213 167  79  96 193 191 178\n",
       "[77] 216 234 188 178 206  NA  NA  NA  NA  NA 165"
      ]
     },
     "metadata": {
      "tags": []
     },
     "output_type": "display_data"
    }
   ],
   "source": [
    "starwars2$`身長`"
   ]
  },
  {
   "cell_type": "markdown",
   "metadata": {
    "id": "zyow-cByHtGv"
   },
   "source": [
    "日本語でも、文字が連続している場合は `` がなくてもよいこともある。"
   ]
  },
  {
   "cell_type": "code",
   "execution_count": 7,
   "metadata": {
    "colab": {
     "base_uri": "https://localhost:8080/",
     "height": 68
    },
    "id": "T1xStDksHkTs",
    "outputId": "7a1f7a5b-ecad-43cc-b487-fdbb4ff6f40a"
   },
   "outputs": [
    {
     "data": {
      "text/html": [
       "<style>\n",
       ".list-inline {list-style: none; margin:0; padding: 0}\n",
       ".list-inline>li {display: inline-block}\n",
       ".list-inline>li:not(:last-child)::after {content: \"\\00b7\"; padding: 0 .5ex}\n",
       "</style>\n",
       "<ol class=list-inline><li>172</li><li>167</li><li>96</li><li>202</li><li>150</li><li>178</li><li>165</li><li>97</li><li>183</li><li>182</li><li>188</li><li>180</li><li>228</li><li>180</li><li>173</li><li>175</li><li>170</li><li>180</li><li>66</li><li>170</li><li>183</li><li>200</li><li>190</li><li>177</li><li>175</li><li>180</li><li>150</li><li>&lt;NA&gt;</li><li>88</li><li>160</li><li>193</li><li>191</li><li>170</li><li>196</li><li>224</li><li>206</li><li>183</li><li>137</li><li>112</li><li>183</li><li>163</li><li>175</li><li>180</li><li>178</li><li>94</li><li>122</li><li>163</li><li>188</li><li>198</li><li>196</li><li>171</li><li>184</li><li>188</li><li>264</li><li>188</li><li>196</li><li>185</li><li>157</li><li>183</li><li>183</li><li>170</li><li>166</li><li>165</li><li>193</li><li>191</li><li>183</li><li>168</li><li>198</li><li>229</li><li>213</li><li>167</li><li>79</li><li>96</li><li>193</li><li>191</li><li>178</li><li>216</li><li>234</li><li>188</li><li>178</li><li>206</li><li>&lt;NA&gt;</li><li>&lt;NA&gt;</li><li>&lt;NA&gt;</li><li>&lt;NA&gt;</li><li>&lt;NA&gt;</li><li>165</li></ol>\n"
      ],
      "text/latex": [
       "\\begin{enumerate*}\n",
       "\\item 172\n",
       "\\item 167\n",
       "\\item 96\n",
       "\\item 202\n",
       "\\item 150\n",
       "\\item 178\n",
       "\\item 165\n",
       "\\item 97\n",
       "\\item 183\n",
       "\\item 182\n",
       "\\item 188\n",
       "\\item 180\n",
       "\\item 228\n",
       "\\item 180\n",
       "\\item 173\n",
       "\\item 175\n",
       "\\item 170\n",
       "\\item 180\n",
       "\\item 66\n",
       "\\item 170\n",
       "\\item 183\n",
       "\\item 200\n",
       "\\item 190\n",
       "\\item 177\n",
       "\\item 175\n",
       "\\item 180\n",
       "\\item 150\n",
       "\\item <NA>\n",
       "\\item 88\n",
       "\\item 160\n",
       "\\item 193\n",
       "\\item 191\n",
       "\\item 170\n",
       "\\item 196\n",
       "\\item 224\n",
       "\\item 206\n",
       "\\item 183\n",
       "\\item 137\n",
       "\\item 112\n",
       "\\item 183\n",
       "\\item 163\n",
       "\\item 175\n",
       "\\item 180\n",
       "\\item 178\n",
       "\\item 94\n",
       "\\item 122\n",
       "\\item 163\n",
       "\\item 188\n",
       "\\item 198\n",
       "\\item 196\n",
       "\\item 171\n",
       "\\item 184\n",
       "\\item 188\n",
       "\\item 264\n",
       "\\item 188\n",
       "\\item 196\n",
       "\\item 185\n",
       "\\item 157\n",
       "\\item 183\n",
       "\\item 183\n",
       "\\item 170\n",
       "\\item 166\n",
       "\\item 165\n",
       "\\item 193\n",
       "\\item 191\n",
       "\\item 183\n",
       "\\item 168\n",
       "\\item 198\n",
       "\\item 229\n",
       "\\item 213\n",
       "\\item 167\n",
       "\\item 79\n",
       "\\item 96\n",
       "\\item 193\n",
       "\\item 191\n",
       "\\item 178\n",
       "\\item 216\n",
       "\\item 234\n",
       "\\item 188\n",
       "\\item 178\n",
       "\\item 206\n",
       "\\item <NA>\n",
       "\\item <NA>\n",
       "\\item <NA>\n",
       "\\item <NA>\n",
       "\\item <NA>\n",
       "\\item 165\n",
       "\\end{enumerate*}\n"
      ],
      "text/markdown": [
       "1. 172\n",
       "2. 167\n",
       "3. 96\n",
       "4. 202\n",
       "5. 150\n",
       "6. 178\n",
       "7. 165\n",
       "8. 97\n",
       "9. 183\n",
       "10. 182\n",
       "11. 188\n",
       "12. 180\n",
       "13. 228\n",
       "14. 180\n",
       "15. 173\n",
       "16. 175\n",
       "17. 170\n",
       "18. 180\n",
       "19. 66\n",
       "20. 170\n",
       "21. 183\n",
       "22. 200\n",
       "23. 190\n",
       "24. 177\n",
       "25. 175\n",
       "26. 180\n",
       "27. 150\n",
       "28. &lt;NA&gt;\n",
       "29. 88\n",
       "30. 160\n",
       "31. 193\n",
       "32. 191\n",
       "33. 170\n",
       "34. 196\n",
       "35. 224\n",
       "36. 206\n",
       "37. 183\n",
       "38. 137\n",
       "39. 112\n",
       "40. 183\n",
       "41. 163\n",
       "42. 175\n",
       "43. 180\n",
       "44. 178\n",
       "45. 94\n",
       "46. 122\n",
       "47. 163\n",
       "48. 188\n",
       "49. 198\n",
       "50. 196\n",
       "51. 171\n",
       "52. 184\n",
       "53. 188\n",
       "54. 264\n",
       "55. 188\n",
       "56. 196\n",
       "57. 185\n",
       "58. 157\n",
       "59. 183\n",
       "60. 183\n",
       "61. 170\n",
       "62. 166\n",
       "63. 165\n",
       "64. 193\n",
       "65. 191\n",
       "66. 183\n",
       "67. 168\n",
       "68. 198\n",
       "69. 229\n",
       "70. 213\n",
       "71. 167\n",
       "72. 79\n",
       "73. 96\n",
       "74. 193\n",
       "75. 191\n",
       "76. 178\n",
       "77. 216\n",
       "78. 234\n",
       "79. 188\n",
       "80. 178\n",
       "81. 206\n",
       "82. &lt;NA&gt;\n",
       "83. &lt;NA&gt;\n",
       "84. &lt;NA&gt;\n",
       "85. &lt;NA&gt;\n",
       "86. &lt;NA&gt;\n",
       "87. 165\n",
       "\n",
       "\n"
      ],
      "text/plain": [
       " [1] 172 167  96 202 150 178 165  97 183 182 188 180 228 180 173 175 170 180  66\n",
       "[20] 170 183 200 190 177 175 180 150  NA  88 160 193 191 170 196 224 206 183 137\n",
       "[39] 112 183 163 175 180 178  94 122 163 188 198 196 171 184 188 264 188 196 185\n",
       "[58] 157 183 183 170 166 165 193 191 183 168 198 229 213 167  79  96 193 191 178\n",
       "[77] 216 234 188 178 206  NA  NA  NA  NA  NA 165"
      ]
     },
     "metadata": {
      "tags": []
     },
     "output_type": "display_data"
    }
   ],
   "source": [
    "starwars2$身長"
   ]
  },
  {
   "cell_type": "markdown",
   "metadata": {
    "id": "5-P5svwgH3LV"
   },
   "source": [
    "こんな複雑な列名でも大丈夫。"
   ]
  },
  {
   "cell_type": "code",
   "execution_count": 8,
   "metadata": {
    "colab": {
     "base_uri": "https://localhost:8080/",
     "height": 190
    },
    "id": "hTuyoc1pGGaq",
    "outputId": "de1d4f8e-c728-4262-c5a6-0c5e4bffb13f"
   },
   "outputs": [
    {
     "data": {
      "text/html": [
       "<table class=\"dataframe\">\n",
       "<caption>A tibble: 3 × 2</caption>\n",
       "<thead>\n",
       "\t<tr><th scope=col>名前</th><th scope=col>宇宙船リスト (*複数可)</th></tr>\n",
       "\t<tr><th scope=col>&lt;chr&gt;</th><th scope=col>&lt;list&gt;</th></tr>\n",
       "</thead>\n",
       "<tbody>\n",
       "\t<tr><td>Luke Skywalker</td><td>X-wing          , Imperial shuttle</td></tr>\n",
       "\t<tr><td>Darth Vader   </td><td>TIE Advanced x1</td></tr>\n",
       "\t<tr><td>Obi-Wan Kenobi</td><td>Jedi starfighter        , Trade Federation cruiser, Naboo star skiff        , Jedi Interceptor        , Belbullab-22 starfighter</td></tr>\n",
       "</tbody>\n",
       "</table>\n"
      ],
      "text/latex": [
       "A tibble: 3 × 2\n",
       "\\begin{tabular}{ll}\n",
       " 名前 & 宇宙船リスト (*複数可)\\\\\n",
       " <chr> & <list>\\\\\n",
       "\\hline\n",
       "\t Luke Skywalker & X-wing          , Imperial shuttle\\\\\n",
       "\t Darth Vader    & TIE Advanced x1\\\\\n",
       "\t Obi-Wan Kenobi & Jedi starfighter        , Trade Federation cruiser, Naboo star skiff        , Jedi Interceptor        , Belbullab-22 starfighter\\\\\n",
       "\\end{tabular}\n"
      ],
      "text/markdown": [
       "\n",
       "A tibble: 3 × 2\n",
       "\n",
       "| 名前 &lt;chr&gt; | 宇宙船リスト (*複数可) &lt;list&gt; |\n",
       "|---|---|\n",
       "| Luke Skywalker | X-wing          , Imperial shuttle |\n",
       "| Darth Vader    | TIE Advanced x1 |\n",
       "| Obi-Wan Kenobi | Jedi starfighter        , Trade Federation cruiser, Naboo star skiff        , Jedi Interceptor        , Belbullab-22 starfighter |\n",
       "\n"
      ],
      "text/plain": [
       "  名前          \n",
       "1 Luke Skywalker\n",
       "2 Darth Vader   \n",
       "3 Obi-Wan Kenobi\n",
       "  宇宙船リスト (*複数可)                                                                                                          \n",
       "1 X-wing          , Imperial shuttle                                                                                              \n",
       "2 TIE Advanced x1                                                                                                                 \n",
       "3 Jedi starfighter        , Trade Federation cruiser, Naboo star skiff        , Jedi Interceptor        , Belbullab-22 starfighter"
      ]
     },
     "metadata": {
      "tags": []
     },
     "output_type": "display_data"
    }
   ],
   "source": [
    "starwars2 %>%\n",
    "    select(`名前`, `宇宙船リスト (*複数可)`) %>%\n",
    "    slice(1, 4, 10)"
   ]
  },
  {
   "cell_type": "markdown",
   "metadata": {
    "id": "57ZocLqfEin8"
   },
   "source": [
    "ちなみに、$マークまで打ったところでTabキーを押すことで、列名をTab補完して選択することもできる（開発環境にもよる）。"
   ]
  },
  {
   "cell_type": "markdown",
   "metadata": {
    "id": "gR1pG-3snR9O"
   },
   "source": [
    "# チルダ ~ の秘密（通称、にょろ。全角だと「〜」）"
   ]
  },
  {
   "cell_type": "markdown",
   "metadata": {
    "id": "W-Ch8QDWv364"
   },
   "source": [
    "## チルダ ~ が関数の前に付くときとそうでないときの違いを検討する。"
   ]
  },
  {
   "cell_type": "markdown",
   "metadata": {
    "id": "ndI0TWzBn8vg"
   },
   "source": [
    "説明の便宜上、scale2()という自作の関数を名前をつけて定義する。\n",
    "デフォルトのscale()関数とほぼ同じだが、na.rmというオプションで欠損値NAを除去するかどうかを明示的に指定できる。"
   ]
  },
  {
   "cell_type": "code",
   "execution_count": 10,
   "metadata": {
    "id": "WPnBDGxun2D_"
   },
   "outputs": [],
   "source": [
    "scale2 <- function(x, na.rm = FALSE) (x - mean(x, na.rm = na.rm)) / sd(x, na.rm = na.rm)"
   ]
  },
  {
   "cell_type": "markdown",
   "metadata": {
    "id": "HGfWe8imonV8"
   },
   "source": [
    "まずは、にょろがつかない場合"
   ]
  },
  {
   "cell_type": "code",
   "execution_count": 11,
   "metadata": {
    "colab": {
     "base_uri": "https://localhost:8080/",
     "height": 159
    },
    "id": "PFLhtOiFocOC",
    "outputId": "27fca988-5f5e-4ad2-8d29-8bf6e20e16e4"
   },
   "outputs": [
    {
     "data": {
      "text/html": [
       "<table class=\"dataframe\">\n",
       "<caption>A tibble: 2 × 3</caption>\n",
       "<thead>\n",
       "\t<tr><th scope=col>name</th><th scope=col>height</th><th scope=col>mass</th></tr>\n",
       "\t<tr><th scope=col>&lt;chr&gt;</th><th scope=col>&lt;dbl&gt;</th><th scope=col>&lt;dbl&gt;</th></tr>\n",
       "</thead>\n",
       "<tbody>\n",
       "\t<tr><td>Luke Skywalker</td><td>NA</td><td>NA</td></tr>\n",
       "\t<tr><td>C-3PO         </td><td>NA</td><td>NA</td></tr>\n",
       "</tbody>\n",
       "</table>\n"
      ],
      "text/latex": [
       "A tibble: 2 × 3\n",
       "\\begin{tabular}{lll}\n",
       " name & height & mass\\\\\n",
       " <chr> & <dbl> & <dbl>\\\\\n",
       "\\hline\n",
       "\t Luke Skywalker & NA & NA\\\\\n",
       "\t C-3PO          & NA & NA\\\\\n",
       "\\end{tabular}\n"
      ],
      "text/markdown": [
       "\n",
       "A tibble: 2 × 3\n",
       "\n",
       "| name &lt;chr&gt; | height &lt;dbl&gt; | mass &lt;dbl&gt; |\n",
       "|---|---|---|\n",
       "| Luke Skywalker | NA | NA |\n",
       "| C-3PO          | NA | NA |\n",
       "\n"
      ],
      "text/plain": [
       "  name           height mass\n",
       "1 Luke Skywalker NA     NA  \n",
       "2 C-3PO          NA     NA  "
      ]
     },
     "metadata": {
      "tags": []
     },
     "output_type": "display_data"
    }
   ],
   "source": [
    "starwars %>% \n",
    "    select(name:mass) %>%\n",
    "    mutate_at(c(\"height\", \"mass\"), scale2) %>% \n",
    "    head(n = 2)"
   ]
  },
  {
   "cell_type": "markdown",
   "metadata": {
    "id": "Kjufdq4opK6K"
   },
   "source": [
    "ルークやC-3POなどの身長や体重がNAになってしまっている。（標準化に失敗している）"
   ]
  },
  {
   "cell_type": "markdown",
   "metadata": {
    "id": "Suo7PqnHpWlS"
   },
   "source": [
    "これを避けるために、scale2の引数で、na.rm = TRUE を指定する。その指定の仕方にいくつかパターンがある。"
   ]
  },
  {
   "cell_type": "code",
   "execution_count": 12,
   "metadata": {
    "colab": {
     "base_uri": "https://localhost:8080/",
     "height": 159
    },
    "id": "9LoMRDJcowZE",
    "outputId": "3ff90ace-9801-4b76-be09-5b32a8445de2"
   },
   "outputs": [
    {
     "data": {
      "text/html": [
       "<table class=\"dataframe\">\n",
       "<caption>A tibble: 2 × 3</caption>\n",
       "<thead>\n",
       "\t<tr><th scope=col>name</th><th scope=col>height</th><th scope=col>mass</th></tr>\n",
       "\t<tr><th scope=col>&lt;chr&gt;</th><th scope=col>&lt;dbl&gt;</th><th scope=col>&lt;dbl&gt;</th></tr>\n",
       "</thead>\n",
       "<tbody>\n",
       "\t<tr><td>Luke Skywalker</td><td>-0.06781696</td><td>-0.1198643</td></tr>\n",
       "\t<tr><td>C-3PO         </td><td>-0.21161731</td><td>-0.1316667</td></tr>\n",
       "</tbody>\n",
       "</table>\n"
      ],
      "text/latex": [
       "A tibble: 2 × 3\n",
       "\\begin{tabular}{lll}\n",
       " name & height & mass\\\\\n",
       " <chr> & <dbl> & <dbl>\\\\\n",
       "\\hline\n",
       "\t Luke Skywalker & -0.06781696 & -0.1198643\\\\\n",
       "\t C-3PO          & -0.21161731 & -0.1316667\\\\\n",
       "\\end{tabular}\n"
      ],
      "text/markdown": [
       "\n",
       "A tibble: 2 × 3\n",
       "\n",
       "| name &lt;chr&gt; | height &lt;dbl&gt; | mass &lt;dbl&gt; |\n",
       "|---|---|---|\n",
       "| Luke Skywalker | -0.06781696 | -0.1198643 |\n",
       "| C-3PO          | -0.21161731 | -0.1316667 |\n",
       "\n"
      ],
      "text/plain": [
       "  name           height      mass      \n",
       "1 Luke Skywalker -0.06781696 -0.1198643\n",
       "2 C-3PO          -0.21161731 -0.1316667"
      ]
     },
     "metadata": {
      "tags": []
     },
     "output_type": "display_data"
    }
   ],
   "source": [
    "starwars %>% \n",
    "    select(name:mass) %>%\n",
    "    mutate_at(c(\"height\", \"mass\"), scale2, na.rm = TRUE) %>%\n",
    "    head(n = 2)"
   ]
  },
  {
   "cell_type": "markdown",
   "metadata": {
    "id": "MCp5jPeTpkk_"
   },
   "source": [
    "mutate_at()の３番目の引数にna.rm = TRUEを書くと、それがscale2()の引数に渡される。\n",
    "しかし、この書き方だと、どの引数がどの関数のどの場所に渡されるか、不安だ（わかりにくい）。\n",
    "そこで、明示的に引数を渡す方法がある。"
   ]
  },
  {
   "cell_type": "markdown",
   "metadata": {
    "id": "zaNdN6YSw9oQ"
   },
   "source": [
    "## ここでチルダ ~ とプレースホルダー . が登場する。"
   ]
  },
  {
   "cell_type": "code",
   "execution_count": 13,
   "metadata": {
    "colab": {
     "base_uri": "https://localhost:8080/",
     "height": 159
    },
    "id": "T0QD0tb0p1g1",
    "outputId": "6b2d8f10-4f75-4b64-f9c4-a5c97ada8e66"
   },
   "outputs": [
    {
     "data": {
      "text/html": [
       "<table class=\"dataframe\">\n",
       "<caption>A tibble: 2 × 3</caption>\n",
       "<thead>\n",
       "\t<tr><th scope=col>name</th><th scope=col>height</th><th scope=col>mass</th></tr>\n",
       "\t<tr><th scope=col>&lt;chr&gt;</th><th scope=col>&lt;dbl&gt;</th><th scope=col>&lt;dbl&gt;</th></tr>\n",
       "</thead>\n",
       "<tbody>\n",
       "\t<tr><td>Luke Skywalker</td><td>-0.06781696</td><td>-0.1198643</td></tr>\n",
       "\t<tr><td>C-3PO         </td><td>-0.21161731</td><td>-0.1316667</td></tr>\n",
       "</tbody>\n",
       "</table>\n"
      ],
      "text/latex": [
       "A tibble: 2 × 3\n",
       "\\begin{tabular}{lll}\n",
       " name & height & mass\\\\\n",
       " <chr> & <dbl> & <dbl>\\\\\n",
       "\\hline\n",
       "\t Luke Skywalker & -0.06781696 & -0.1198643\\\\\n",
       "\t C-3PO          & -0.21161731 & -0.1316667\\\\\n",
       "\\end{tabular}\n"
      ],
      "text/markdown": [
       "\n",
       "A tibble: 2 × 3\n",
       "\n",
       "| name &lt;chr&gt; | height &lt;dbl&gt; | mass &lt;dbl&gt; |\n",
       "|---|---|---|\n",
       "| Luke Skywalker | -0.06781696 | -0.1198643 |\n",
       "| C-3PO          | -0.21161731 | -0.1316667 |\n",
       "\n"
      ],
      "text/plain": [
       "  name           height      mass      \n",
       "1 Luke Skywalker -0.06781696 -0.1198643\n",
       "2 C-3PO          -0.21161731 -0.1316667"
      ]
     },
     "metadata": {
      "tags": []
     },
     "output_type": "display_data"
    }
   ],
   "source": [
    "starwars %>% \n",
    "    select(name:mass) %>%\n",
    "    mutate_at(c(\"height\", \"mass\"), ~scale2(., na.rm = TRUE)) %>%\n",
    "    head(n = 2)"
   ]
  },
  {
   "cell_type": "markdown",
   "metadata": {
    "id": "A0lq0alxqFkh"
   },
   "source": [
    "scale2の()の中に引数を指定するとともに、scale2の左に　にょろ　を書く。\n",
    "~scale2(.)という形で関数を指定する。"
   ]
  },
  {
   "cell_type": "markdown",
   "metadata": {
    "id": "CQmq1szNwn1w"
   },
   "source": [
    "## 一番厳密に詳しく書くと、こんな感じになる。"
   ]
  },
  {
   "cell_type": "code",
   "execution_count": 14,
   "metadata": {
    "colab": {
     "base_uri": "https://localhost:8080/",
     "height": 159
    },
    "id": "mOuRgGYkqf9v",
    "outputId": "8372aa2d-a5c1-445f-9bbb-07d921993e46"
   },
   "outputs": [
    {
     "data": {
      "text/html": [
       "<table class=\"dataframe\">\n",
       "<caption>A tibble: 2 × 3</caption>\n",
       "<thead>\n",
       "\t<tr><th scope=col>name</th><th scope=col>height</th><th scope=col>mass</th></tr>\n",
       "\t<tr><th scope=col>&lt;chr&gt;</th><th scope=col>&lt;dbl&gt;</th><th scope=col>&lt;dbl&gt;</th></tr>\n",
       "</thead>\n",
       "<tbody>\n",
       "\t<tr><td>Luke Skywalker</td><td>-0.06781696</td><td>-0.1198643</td></tr>\n",
       "\t<tr><td>C-3PO         </td><td>-0.21161731</td><td>-0.1316667</td></tr>\n",
       "</tbody>\n",
       "</table>\n"
      ],
      "text/latex": [
       "A tibble: 2 × 3\n",
       "\\begin{tabular}{lll}\n",
       " name & height & mass\\\\\n",
       " <chr> & <dbl> & <dbl>\\\\\n",
       "\\hline\n",
       "\t Luke Skywalker & -0.06781696 & -0.1198643\\\\\n",
       "\t C-3PO          & -0.21161731 & -0.1316667\\\\\n",
       "\\end{tabular}\n"
      ],
      "text/markdown": [
       "\n",
       "A tibble: 2 × 3\n",
       "\n",
       "| name &lt;chr&gt; | height &lt;dbl&gt; | mass &lt;dbl&gt; |\n",
       "|---|---|---|\n",
       "| Luke Skywalker | -0.06781696 | -0.1198643 |\n",
       "| C-3PO          | -0.21161731 | -0.1316667 |\n",
       "\n"
      ],
      "text/plain": [
       "  name           height      mass      \n",
       "1 Luke Skywalker -0.06781696 -0.1198643\n",
       "2 C-3PO          -0.21161731 -0.1316667"
      ]
     },
     "metadata": {
      "tags": []
     },
     "output_type": "display_data"
    }
   ],
   "source": [
    "starwars %>% \n",
    "    select(name:mass) %>%\n",
    "    mutate_at(.tbl = ., .vars = c(\"height\", \"mass\"), .funs = ~scale2(x = ., na.rm = TRUE)) %>%\n",
    "    head(n = 2)"
   ]
  },
  {
   "cell_type": "markdown",
   "metadata": {
    "id": "f7RX0LMawy7I"
   },
   "source": [
    "厳密に書こうとしすぎると、かえってわかりづらくなる。なお、x = . の部分の\".\"は、\".x\"や\"..1\"でもよい。これをpurrrスタイルと呼ぶ。しかし、そのことは今は忘れて良い。"
   ]
  },
  {
   "cell_type": "markdown",
   "metadata": {
    "id": "lmOHuyl7rxnn"
   },
   "source": [
    "## これを略記すると、このようになる。これぐらいの省略具合がおそらく一番わかりやすい。"
   ]
  },
  {
   "cell_type": "code",
   "execution_count": 15,
   "metadata": {
    "colab": {
     "base_uri": "https://localhost:8080/",
     "height": 159
    },
    "id": "c_J3W_l_roGQ",
    "outputId": "c4e2a3ea-a570-45b9-c29d-31a447a0932a"
   },
   "outputs": [
    {
     "data": {
      "text/html": [
       "<table class=\"dataframe\">\n",
       "<caption>A tibble: 2 × 3</caption>\n",
       "<thead>\n",
       "\t<tr><th scope=col>name</th><th scope=col>height</th><th scope=col>mass</th></tr>\n",
       "\t<tr><th scope=col>&lt;chr&gt;</th><th scope=col>&lt;dbl&gt;</th><th scope=col>&lt;dbl&gt;</th></tr>\n",
       "</thead>\n",
       "<tbody>\n",
       "\t<tr><td>Luke Skywalker</td><td>-0.06781696</td><td>-0.1198643</td></tr>\n",
       "\t<tr><td>C-3PO         </td><td>-0.21161731</td><td>-0.1316667</td></tr>\n",
       "</tbody>\n",
       "</table>\n"
      ],
      "text/latex": [
       "A tibble: 2 × 3\n",
       "\\begin{tabular}{lll}\n",
       " name & height & mass\\\\\n",
       " <chr> & <dbl> & <dbl>\\\\\n",
       "\\hline\n",
       "\t Luke Skywalker & -0.06781696 & -0.1198643\\\\\n",
       "\t C-3PO          & -0.21161731 & -0.1316667\\\\\n",
       "\\end{tabular}\n"
      ],
      "text/markdown": [
       "\n",
       "A tibble: 2 × 3\n",
       "\n",
       "| name &lt;chr&gt; | height &lt;dbl&gt; | mass &lt;dbl&gt; |\n",
       "|---|---|---|\n",
       "| Luke Skywalker | -0.06781696 | -0.1198643 |\n",
       "| C-3PO          | -0.21161731 | -0.1316667 |\n",
       "\n"
      ],
      "text/plain": [
       "  name           height      mass      \n",
       "1 Luke Skywalker -0.06781696 -0.1198643\n",
       "2 C-3PO          -0.21161731 -0.1316667"
      ]
     },
     "metadata": {
      "tags": []
     },
     "output_type": "display_data"
    }
   ],
   "source": [
    "starwars %>% \n",
    "    select(name:mass) %>%\n",
    "    mutate_at(c(\"height\", \"mass\"), ~scale2(., na.rm = TRUE)) %>%\n",
    "    head(n = 2)"
   ]
  },
  {
   "cell_type": "markdown",
   "metadata": {
    "id": "GgVP6VGQsONH"
   },
   "source": [
    "にょろをなくして、scale2の右側の()もなくすと、どうなるか？"
   ]
  },
  {
   "cell_type": "code",
   "execution_count": 16,
   "metadata": {
    "colab": {
     "base_uri": "https://localhost:8080/",
     "height": 159
    },
    "id": "XUDysfeosHqL",
    "outputId": "4b9109c9-6dd8-4298-c3ab-fed9278768f0"
   },
   "outputs": [
    {
     "data": {
      "text/html": [
       "<table class=\"dataframe\">\n",
       "<caption>A tibble: 2 × 3</caption>\n",
       "<thead>\n",
       "\t<tr><th scope=col>name</th><th scope=col>height</th><th scope=col>mass</th></tr>\n",
       "\t<tr><th scope=col>&lt;chr&gt;</th><th scope=col>&lt;dbl&gt;</th><th scope=col>&lt;dbl&gt;</th></tr>\n",
       "</thead>\n",
       "<tbody>\n",
       "\t<tr><td>Luke Skywalker</td><td>NA</td><td>NA</td></tr>\n",
       "\t<tr><td>C-3PO         </td><td>NA</td><td>NA</td></tr>\n",
       "</tbody>\n",
       "</table>\n"
      ],
      "text/latex": [
       "A tibble: 2 × 3\n",
       "\\begin{tabular}{lll}\n",
       " name & height & mass\\\\\n",
       " <chr> & <dbl> & <dbl>\\\\\n",
       "\\hline\n",
       "\t Luke Skywalker & NA & NA\\\\\n",
       "\t C-3PO          & NA & NA\\\\\n",
       "\\end{tabular}\n"
      ],
      "text/markdown": [
       "\n",
       "A tibble: 2 × 3\n",
       "\n",
       "| name &lt;chr&gt; | height &lt;dbl&gt; | mass &lt;dbl&gt; |\n",
       "|---|---|---|\n",
       "| Luke Skywalker | NA | NA |\n",
       "| C-3PO          | NA | NA |\n",
       "\n"
      ],
      "text/plain": [
       "  name           height mass\n",
       "1 Luke Skywalker NA     NA  \n",
       "2 C-3PO          NA     NA  "
      ]
     },
     "metadata": {
      "tags": []
     },
     "output_type": "display_data"
    }
   ],
   "source": [
    "starwars %>% \n",
    "    select(name:mass) %>%\n",
    "    mutate_at(c(\"height\", \"mass\"), scale2) %>%\n",
    "    head(n = 2)"
   ]
  },
  {
   "cell_type": "markdown",
   "metadata": {
    "id": "EokN37eIsWL7"
   },
   "source": [
    "動くには動くが、na.rm = TRUEの引数を指定していないので、ルークやC-3POの身長や体重がNAになってしまっている。それを防ぐには、mutate_at()の３番目の引数（scale2という関数名のうしろ）にna.rm = TRUEの引数を指定すれば良い。"
   ]
  },
  {
   "cell_type": "code",
   "execution_count": 17,
   "metadata": {
    "colab": {
     "base_uri": "https://localhost:8080/",
     "height": 159
    },
    "id": "d_DA54J2seV-",
    "outputId": "70e01626-7390-449d-82ea-46eba920067b"
   },
   "outputs": [
    {
     "data": {
      "text/html": [
       "<table class=\"dataframe\">\n",
       "<caption>A tibble: 2 × 3</caption>\n",
       "<thead>\n",
       "\t<tr><th scope=col>name</th><th scope=col>height</th><th scope=col>mass</th></tr>\n",
       "\t<tr><th scope=col>&lt;chr&gt;</th><th scope=col>&lt;dbl&gt;</th><th scope=col>&lt;dbl&gt;</th></tr>\n",
       "</thead>\n",
       "<tbody>\n",
       "\t<tr><td>Luke Skywalker</td><td>-0.06781696</td><td>-0.1198643</td></tr>\n",
       "\t<tr><td>C-3PO         </td><td>-0.21161731</td><td>-0.1316667</td></tr>\n",
       "</tbody>\n",
       "</table>\n"
      ],
      "text/latex": [
       "A tibble: 2 × 3\n",
       "\\begin{tabular}{lll}\n",
       " name & height & mass\\\\\n",
       " <chr> & <dbl> & <dbl>\\\\\n",
       "\\hline\n",
       "\t Luke Skywalker & -0.06781696 & -0.1198643\\\\\n",
       "\t C-3PO          & -0.21161731 & -0.1316667\\\\\n",
       "\\end{tabular}\n"
      ],
      "text/markdown": [
       "\n",
       "A tibble: 2 × 3\n",
       "\n",
       "| name &lt;chr&gt; | height &lt;dbl&gt; | mass &lt;dbl&gt; |\n",
       "|---|---|---|\n",
       "| Luke Skywalker | -0.06781696 | -0.1198643 |\n",
       "| C-3PO          | -0.21161731 | -0.1316667 |\n",
       "\n"
      ],
      "text/plain": [
       "  name           height      mass      \n",
       "1 Luke Skywalker -0.06781696 -0.1198643\n",
       "2 C-3PO          -0.21161731 -0.1316667"
      ]
     },
     "metadata": {
      "tags": []
     },
     "output_type": "display_data"
    }
   ],
   "source": [
    "starwars %>% \n",
    "    select(name:mass) %>%\n",
    "    mutate_at(c(\"height\", \"mass\"), scale2, na.rm = TRUE) %>%\n",
    "    head(n = 2)"
   ]
  },
  {
   "cell_type": "markdown",
   "metadata": {
    "id": "d23qKPmvsxRU"
   },
   "source": [
    "しかし、冒頭でも述べたように、この書き方は、na.rmがどこのオプションを指定しているのかわかりにくい。ゆえに、チルダを用いた ~fun(.) のような記法が、慣れれば便利になる。"
   ]
  },
  {
   "cell_type": "markdown",
   "metadata": {
    "id": "CeJ3z1hYyoai"
   },
   "source": [
    "# プレースホルダー . の役割"
   ]
  },
  {
   "cell_type": "markdown",
   "metadata": {
    "id": "mQpr7iz60XnJ"
   },
   "source": [
    "## 引数の順番の影響を見るために、敢えて、大事な引数が２番目に来るような次の自作関数を作ってみる。"
   ]
  },
  {
   "cell_type": "code",
   "execution_count": 18,
   "metadata": {
    "id": "XeOpcLSU0RMw"
   },
   "outputs": [],
   "source": [
    "scale3 <- function(na.rm = FALSE, x) (x - mean(x, na.rm = na.rm)) / sd(x, na.rm = na.rm)"
   ]
  },
  {
   "cell_type": "markdown",
   "metadata": {
    "id": "xE-SYstF1Wn_"
   },
   "source": [
    "今度は、na.rmのデフォルトの引数のままで使おうとすると、エラーになる。"
   ]
  },
  {
   "cell_type": "code",
   "execution_count": 19,
   "metadata": {
    "colab": {
     "base_uri": "https://localhost:8080/",
     "height": 1000
    },
    "collapsed": true,
    "id": "yKhecaEr1O47",
    "jupyter": {
     "outputs_hidden": true
    },
    "outputId": "63a0c9c4-ddcb-437f-aec2-54f38f4a5603"
   },
   "outputs": [
    {
     "ename": "ERROR",
     "evalue": "ignored",
     "output_type": "error",
     "traceback": [
      "Error: Problem with `mutate()` column `height`.\n\u001b[34mℹ\u001b[39m `height = (structure(function (..., .x = ..1, .y = ..2, . = ..1) ...`.\n\u001b[31m✖\u001b[39m argument \"x\" is missing, with no default\nTraceback:\n",
      "1. starwars %>% select(name:mass) %>% mutate_at(c(\"height\", \"mass\"), \n .     ~scale3(.)) %>% head(n = 2)",
      "2. head(., n = 2)",
      "3. mutate_at(., c(\"height\", \"mass\"), ~scale3(.))",
      "4. mutate(.tbl, !!!funs)",
      "5. mutate.data.frame(.tbl, !!!funs)",
      "6. mutate_cols(.data, ..., caller_env = caller_env())",
      "7. withCallingHandlers({\n .     for (i in seq_along(dots)) {\n .         mask$across_cache_reset()\n .         context_poke(\"column\", old_current_column)\n .         quosures <- expand_across(dots[[i]])\n .         quosures_results <- vector(mode = \"list\", length = length(quosures))\n .         for (k in seq_along(quosures)) {\n .             quo <- quosures[[k]]\n .             quo_data <- attr(quo, \"dplyr:::data\")\n .             if (!is.null(quo_data$column)) {\n .                 context_poke(\"column\", quo_data$column)\n .             }\n .             chunks <- NULL\n .             result <- NULL\n .             if (quo_is_symbol(quo)) {\n .                 name <- as_string(quo_get_expr(quo))\n .                 if (name %in% names(new_columns)) {\n .                   result <- new_columns[[name]]\n .                   chunks <- mask$resolve(name)\n .                 }\n .                 else if (name %in% names(.data)) {\n .                   result <- .data[[name]]\n .                   chunks <- mask$resolve(name)\n .                 }\n .                 if (inherits(.data, \"rowwise_df\") && vec_is_list(result)) {\n .                   sizes <- list_sizes(result)\n .                   wrong <- which(sizes != 1)\n .                   if (length(wrong)) {\n .                     group <- wrong[1L]\n .                     mask$set_current_group(group)\n .                     abort(x_size = sizes[group], class = \"dplyr:::mutate_incompatible_size\")\n .                   }\n .                 }\n .             }\n .             if (is.null(chunks)) {\n .                 chunks <- mask$eval_all_mutate(quo)\n .             }\n .             if (is.null(chunks)) {\n .                 next\n .             }\n .             if (is.null(result)) {\n .                 if (length(rows) == 1) {\n .                   result <- chunks[[1]]\n .                 }\n .                 else {\n .                   result <- withCallingHandlers(vec_unchop(chunks <- vec_cast_common(!!!chunks), \n .                     rows), vctrs_error_incompatible_type = function(cnd) {\n .                     abort(class = \"dplyr:::error_mutate_incompatible_combine\", \n .                       parent = cnd)\n .                   })\n .                 }\n .             }\n .             quosures_results[[k]] <- list(result = result, chunks = chunks)\n .         }\n .         for (k in seq_along(quosures)) {\n .             quo <- quosures[[k]]\n .             quo_data <- attr(quo, \"dplyr:::data\")\n .             quo_result <- quosures_results[[k]]\n .             if (is.null(quo_result)) {\n .                 if (quo_data$is_named) {\n .                   name <- quo_data$name_given\n .                   new_columns[[name]] <- zap()\n .                   mask$remove(name)\n .                 }\n .                 next\n .             }\n .             result <- quo_result$result\n .             chunks <- quo_result$chunks\n .             if (!quo_data$is_named && is.data.frame(result)) {\n .                 new_columns[names(result)] <- result\n .                 mask$add_many(result, chunks)\n .             }\n .             else {\n .                 name <- quo_data$name_auto\n .                 new_columns[[name]] <- result\n .                 mask$add_one(name, chunks)\n .             }\n .         }\n .     }\n . }, error = function(e) {\n .     local_call_step(dots = dots, .index = i, .fn = \"mutate\", \n .         .dot_data = inherits(e, \"rlang_error_data_pronoun_not_found\"))\n .     call_step_envir <- peek_call_step()\n .     error_name <- call_step_envir$error_name\n .     error_expression <- call_step_envir$error_expression\n .     show_group_details <- TRUE\n .     if (inherits(e, \"dplyr:::mutate_incompatible_size\")) {\n .         size <- vec_size(rows[[mask$get_current_group()]])\n .         x_size <- e$x_size\n .         bullets <- c(i = cnd_bullet_column_info(), i = glue(\"`{error_name}` must be size {or_1(size)}, not {x_size}.\"), \n .             i = cnd_bullet_rowwise_unlist())\n .     }\n .     else if (inherits(e, \"dplyr:::mutate_mixed_null\")) {\n .         show_group_details <- FALSE\n .         bullets <- c(i = cnd_bullet_column_info(), x = glue(\"`{error_name}` must return compatible vectors across groups.\"), \n .             i = \"Cannot combine NULL and non NULL results.\", \n .             i = cnd_bullet_rowwise_unlist())\n .     }\n .     else if (inherits(e, \"dplyr:::mutate_not_vector\")) {\n .         bullets <- c(i = cnd_bullet_column_info(), x = glue(\"`{error_name}` must be a vector, not {friendly_type_of(e$result)}.\"), \n .             i = cnd_bullet_rowwise_unlist())\n .     }\n .     else if (inherits(e, \"dplyr:::error_mutate_incompatible_combine\")) {\n .         show_group_details <- FALSE\n .         bullets <- c(i = cnd_bullet_column_info(), x = glue(\"`{error_name}` must return compatible vectors across groups\"), \n .             i = cnd_bullet_combine_details(e$parent$x, e$parent$x_arg), \n .             i = cnd_bullet_combine_details(e$parent$y, e$parent$y_arg))\n .     }\n .     else {\n .         bullets <- c(i = cnd_bullet_column_info(), x = conditionMessage(e))\n .     }\n .     bullets <- c(cnd_bullet_header(), bullets, i = if (show_group_details) cnd_bullet_cur_group_label())\n .     abort(bullets, class = c(\"dplyr:::mutate_error\", \"dplyr_error\"), \n .         error_name = error_name, error_expression = error_expression, \n .         parent = e, bullets = bullets)\n . }, warning = function(w) {\n .     if (check_muffled_warning(w)) {\n .         maybe_restart(\"muffleWarning\")\n .     }\n .     local_call_step(dots = dots, .index = i, .fn = \"mutate\")\n .     warn(c(cnd_bullet_header(), i = cnd_bullet_column_info(), \n .         i = conditionMessage(w), i = cnd_bullet_cur_group_label(what = \"warning\")))\n .     maybe_restart(\"muffleWarning\")\n . })",
      "8. mask$eval_all_mutate(quo)",
      "9. (structure(function (..., .x = ..1, .y = ..2, . = ..1) \n . {\n .     base::pairlist(...)\n .     `_quo` <- rlang::quo(scale3(.))\n .     rlang::eval_bare(`_quo`, base::parent.frame())\n . }, class = \"inline_colwise_function\", formula = ~scale3(.)))(height)",
      "10. rlang::eval_bare(`_quo`, base::parent.frame())",
      "11. ~scale3(.)",
      "12. scale3(.)",
      "13. .handleSimpleError(function (e) \n  . {\n  .     local_call_step(dots = dots, .index = i, .fn = \"mutate\", \n  .         .dot_data = inherits(e, \"rlang_error_data_pronoun_not_found\"))\n  .     call_step_envir <- peek_call_step()\n  .     error_name <- call_step_envir$error_name\n  .     error_expression <- call_step_envir$error_expression\n  .     show_group_details <- TRUE\n  .     if (inherits(e, \"dplyr:::mutate_incompatible_size\")) {\n  .         size <- vec_size(rows[[mask$get_current_group()]])\n  .         x_size <- e$x_size\n  .         bullets <- c(i = cnd_bullet_column_info(), i = glue(\"`{error_name}` must be size {or_1(size)}, not {x_size}.\"), \n  .             i = cnd_bullet_rowwise_unlist())\n  .     }\n  .     else if (inherits(e, \"dplyr:::mutate_mixed_null\")) {\n  .         show_group_details <- FALSE\n  .         bullets <- c(i = cnd_bullet_column_info(), x = glue(\"`{error_name}` must return compatible vectors across groups.\"), \n  .             i = \"Cannot combine NULL and non NULL results.\", \n  .             i = cnd_bullet_rowwise_unlist())\n  .     }\n  .     else if (inherits(e, \"dplyr:::mutate_not_vector\")) {\n  .         bullets <- c(i = cnd_bullet_column_info(), x = glue(\"`{error_name}` must be a vector, not {friendly_type_of(e$result)}.\"), \n  .             i = cnd_bullet_rowwise_unlist())\n  .     }\n  .     else if (inherits(e, \"dplyr:::error_mutate_incompatible_combine\")) {\n  .         show_group_details <- FALSE\n  .         bullets <- c(i = cnd_bullet_column_info(), x = glue(\"`{error_name}` must return compatible vectors across groups\"), \n  .             i = cnd_bullet_combine_details(e$parent$x, e$parent$x_arg), \n  .             i = cnd_bullet_combine_details(e$parent$y, e$parent$y_arg))\n  .     }\n  .     else {\n  .         bullets <- c(i = cnd_bullet_column_info(), x = conditionMessage(e))\n  .     }\n  .     bullets <- c(cnd_bullet_header(), bullets, i = if (show_group_details) cnd_bullet_cur_group_label())\n  .     abort(bullets, class = c(\"dplyr:::mutate_error\", \"dplyr_error\"), \n  .         error_name = error_name, error_expression = error_expression, \n  .         parent = e, bullets = bullets)\n  . }, \"argument \\\"x\\\" is missing, with no default\", base::quote(scale3(.)))   # at line 1 of file <text>",
      "14. h(simpleError(msg, call))",
      "15. abort(bullets, class = c(\"dplyr:::mutate_error\", \"dplyr_error\"), \n  .     error_name = error_name, error_expression = error_expression, \n  .     parent = e, bullets = bullets)",
      "16. signal_abort(cnd)"
     ]
    }
   ],
   "source": [
    "starwars %>% \n",
    "    select(name:mass) %>%\n",
    "    mutate_at(c(\"height\", \"mass\"), ~scale3(.)) %>%\n",
    "    head(n = 2)"
   ]
  },
  {
   "cell_type": "markdown",
   "metadata": {
    "id": "Ymo0Gnks1eNv"
   },
   "source": [
    "なぜなら、na.rmという引数の中に . を入れようとしてしまうから。"
   ]
  },
  {
   "cell_type": "markdown",
   "metadata": {
    "id": "G8ufE08D3SXB"
   },
   "source": [
    "## . を渡したいのは２番目の引数なので、このように書けばちゃんと動く。"
   ]
  },
  {
   "cell_type": "code",
   "execution_count": 20,
   "metadata": {
    "colab": {
     "base_uri": "https://localhost:8080/",
     "height": 159
    },
    "id": "qMPUDWVa0u5z",
    "outputId": "4a008533-97a3-41b6-c173-f5a0806c3b02"
   },
   "outputs": [
    {
     "data": {
      "text/html": [
       "<table class=\"dataframe\">\n",
       "<caption>A tibble: 2 × 3</caption>\n",
       "<thead>\n",
       "\t<tr><th scope=col>name</th><th scope=col>height</th><th scope=col>mass</th></tr>\n",
       "\t<tr><th scope=col>&lt;chr&gt;</th><th scope=col>&lt;dbl&gt;</th><th scope=col>&lt;dbl&gt;</th></tr>\n",
       "</thead>\n",
       "<tbody>\n",
       "\t<tr><td>Luke Skywalker</td><td>-0.06781696</td><td>-0.1198643</td></tr>\n",
       "\t<tr><td>C-3PO         </td><td>-0.21161731</td><td>-0.1316667</td></tr>\n",
       "</tbody>\n",
       "</table>\n"
      ],
      "text/latex": [
       "A tibble: 2 × 3\n",
       "\\begin{tabular}{lll}\n",
       " name & height & mass\\\\\n",
       " <chr> & <dbl> & <dbl>\\\\\n",
       "\\hline\n",
       "\t Luke Skywalker & -0.06781696 & -0.1198643\\\\\n",
       "\t C-3PO          & -0.21161731 & -0.1316667\\\\\n",
       "\\end{tabular}\n"
      ],
      "text/markdown": [
       "\n",
       "A tibble: 2 × 3\n",
       "\n",
       "| name &lt;chr&gt; | height &lt;dbl&gt; | mass &lt;dbl&gt; |\n",
       "|---|---|---|\n",
       "| Luke Skywalker | -0.06781696 | -0.1198643 |\n",
       "| C-3PO          | -0.21161731 | -0.1316667 |\n",
       "\n"
      ],
      "text/plain": [
       "  name           height      mass      \n",
       "1 Luke Skywalker -0.06781696 -0.1198643\n",
       "2 C-3PO          -0.21161731 -0.1316667"
      ]
     },
     "metadata": {
      "tags": []
     },
     "output_type": "display_data"
    }
   ],
   "source": [
    "starwars %>% \n",
    "    select(name:mass) %>%\n",
    "    mutate_at(c(\"height\", \"mass\"), ~scale3(TRUE, .)) %>%\n",
    "    head(n = 2)"
   ]
  },
  {
   "cell_type": "markdown",
   "metadata": {
    "id": "HVdZvdsf6TPK"
   },
   "source": [
    "scale3()関数のna.rmの引数のデフォルト設定が分からない（つまり、TRUEかFALSEか知らない）が、どちらにせよデフォルト値で計算したい場合、１番目の引数を \"...\" で代用もできる。しかし、それはちょっとやりすぎというもの…。"
   ]
  },
  {
   "cell_type": "markdown",
   "metadata": {
    "id": "4m5U9XR91wVN"
   },
   "source": [
    "## 一番真面目に書くなら下記のように"
   ]
  },
  {
   "cell_type": "code",
   "execution_count": 21,
   "metadata": {
    "colab": {
     "base_uri": "https://localhost:8080/",
     "height": 159
    },
    "id": "AAGq0Cfj0VuN",
    "outputId": "d1f9090f-6f8e-4b3e-dc40-c6f965211eae"
   },
   "outputs": [
    {
     "data": {
      "text/html": [
       "<table class=\"dataframe\">\n",
       "<caption>A tibble: 2 × 3</caption>\n",
       "<thead>\n",
       "\t<tr><th scope=col>name</th><th scope=col>height</th><th scope=col>mass</th></tr>\n",
       "\t<tr><th scope=col>&lt;chr&gt;</th><th scope=col>&lt;dbl&gt;</th><th scope=col>&lt;dbl&gt;</th></tr>\n",
       "</thead>\n",
       "<tbody>\n",
       "\t<tr><td>Luke Skywalker</td><td>-0.06781696</td><td>-0.1198643</td></tr>\n",
       "\t<tr><td>C-3PO         </td><td>-0.21161731</td><td>-0.1316667</td></tr>\n",
       "</tbody>\n",
       "</table>\n"
      ],
      "text/latex": [
       "A tibble: 2 × 3\n",
       "\\begin{tabular}{lll}\n",
       " name & height & mass\\\\\n",
       " <chr> & <dbl> & <dbl>\\\\\n",
       "\\hline\n",
       "\t Luke Skywalker & -0.06781696 & -0.1198643\\\\\n",
       "\t C-3PO          & -0.21161731 & -0.1316667\\\\\n",
       "\\end{tabular}\n"
      ],
      "text/markdown": [
       "\n",
       "A tibble: 2 × 3\n",
       "\n",
       "| name &lt;chr&gt; | height &lt;dbl&gt; | mass &lt;dbl&gt; |\n",
       "|---|---|---|\n",
       "| Luke Skywalker | -0.06781696 | -0.1198643 |\n",
       "| C-3PO          | -0.21161731 | -0.1316667 |\n",
       "\n"
      ],
      "text/plain": [
       "  name           height      mass      \n",
       "1 Luke Skywalker -0.06781696 -0.1198643\n",
       "2 C-3PO          -0.21161731 -0.1316667"
      ]
     },
     "metadata": {
      "tags": []
     },
     "output_type": "display_data"
    }
   ],
   "source": [
    "starwars %>% \n",
    "    select(name:mass) %>%\n",
    "    mutate_at(.tbl = ., .vars = c(\"height\", \"mass\"), .funs = ~scale3(na.rm = TRUE, x = .)) %>%\n",
    "    head(n = 2)"
   ]
  },
  {
   "cell_type": "markdown",
   "metadata": {
    "id": "P1uNtJBa2gKk"
   },
   "source": [
    "## 簡略化すると、こんな感じ。"
   ]
  },
  {
   "cell_type": "code",
   "execution_count": 22,
   "metadata": {
    "colab": {
     "base_uri": "https://localhost:8080/",
     "height": 159
    },
    "id": "t4TwI83B15WI",
    "outputId": "9dc65677-a778-411c-e6dd-b527d51efd6d"
   },
   "outputs": [
    {
     "data": {
      "text/html": [
       "<table class=\"dataframe\">\n",
       "<caption>A tibble: 2 × 3</caption>\n",
       "<thead>\n",
       "\t<tr><th scope=col>name</th><th scope=col>height</th><th scope=col>mass</th></tr>\n",
       "\t<tr><th scope=col>&lt;chr&gt;</th><th scope=col>&lt;dbl&gt;</th><th scope=col>&lt;dbl&gt;</th></tr>\n",
       "</thead>\n",
       "<tbody>\n",
       "\t<tr><td>Luke Skywalker</td><td>-0.06781696</td><td>-0.1198643</td></tr>\n",
       "\t<tr><td>C-3PO         </td><td>-0.21161731</td><td>-0.1316667</td></tr>\n",
       "</tbody>\n",
       "</table>\n"
      ],
      "text/latex": [
       "A tibble: 2 × 3\n",
       "\\begin{tabular}{lll}\n",
       " name & height & mass\\\\\n",
       " <chr> & <dbl> & <dbl>\\\\\n",
       "\\hline\n",
       "\t Luke Skywalker & -0.06781696 & -0.1198643\\\\\n",
       "\t C-3PO          & -0.21161731 & -0.1316667\\\\\n",
       "\\end{tabular}\n"
      ],
      "text/markdown": [
       "\n",
       "A tibble: 2 × 3\n",
       "\n",
       "| name &lt;chr&gt; | height &lt;dbl&gt; | mass &lt;dbl&gt; |\n",
       "|---|---|---|\n",
       "| Luke Skywalker | -0.06781696 | -0.1198643 |\n",
       "| C-3PO          | -0.21161731 | -0.1316667 |\n",
       "\n"
      ],
      "text/plain": [
       "  name           height      mass      \n",
       "1 Luke Skywalker -0.06781696 -0.1198643\n",
       "2 C-3PO          -0.21161731 -0.1316667"
      ]
     },
     "metadata": {
      "tags": []
     },
     "output_type": "display_data"
    }
   ],
   "source": [
    "starwars %>% \n",
    "    select(name:mass) %>%\n",
    "    mutate_at(c(\"height\", \"mass\"), ~scale3(na.rm = TRUE, .)) %>%\n",
    "    head(n = 2)"
   ]
  },
  {
   "cell_type": "markdown",
   "metadata": {
    "id": "f6HWqo5n2jXy"
   },
   "source": [
    "## 引数名をあからさまに書けば、引数の与える順番は違っても良い。"
   ]
  },
  {
   "cell_type": "code",
   "execution_count": 23,
   "metadata": {
    "colab": {
     "base_uri": "https://localhost:8080/",
     "height": 159
    },
    "id": "gMqD18Nx2YOx",
    "outputId": "9422b7b6-dc64-4e94-8e14-7249ea13fdb9"
   },
   "outputs": [
    {
     "data": {
      "text/html": [
       "<table class=\"dataframe\">\n",
       "<caption>A tibble: 2 × 3</caption>\n",
       "<thead>\n",
       "\t<tr><th scope=col>name</th><th scope=col>height</th><th scope=col>mass</th></tr>\n",
       "\t<tr><th scope=col>&lt;chr&gt;</th><th scope=col>&lt;dbl&gt;</th><th scope=col>&lt;dbl&gt;</th></tr>\n",
       "</thead>\n",
       "<tbody>\n",
       "\t<tr><td>Luke Skywalker</td><td>-0.06781696</td><td>-0.1198643</td></tr>\n",
       "\t<tr><td>C-3PO         </td><td>-0.21161731</td><td>-0.1316667</td></tr>\n",
       "</tbody>\n",
       "</table>\n"
      ],
      "text/latex": [
       "A tibble: 2 × 3\n",
       "\\begin{tabular}{lll}\n",
       " name & height & mass\\\\\n",
       " <chr> & <dbl> & <dbl>\\\\\n",
       "\\hline\n",
       "\t Luke Skywalker & -0.06781696 & -0.1198643\\\\\n",
       "\t C-3PO          & -0.21161731 & -0.1316667\\\\\n",
       "\\end{tabular}\n"
      ],
      "text/markdown": [
       "\n",
       "A tibble: 2 × 3\n",
       "\n",
       "| name &lt;chr&gt; | height &lt;dbl&gt; | mass &lt;dbl&gt; |\n",
       "|---|---|---|\n",
       "| Luke Skywalker | -0.06781696 | -0.1198643 |\n",
       "| C-3PO          | -0.21161731 | -0.1316667 |\n",
       "\n"
      ],
      "text/plain": [
       "  name           height      mass      \n",
       "1 Luke Skywalker -0.06781696 -0.1198643\n",
       "2 C-3PO          -0.21161731 -0.1316667"
      ]
     },
     "metadata": {
      "tags": []
     },
     "output_type": "display_data"
    }
   ],
   "source": [
    "starwars %>% \n",
    "    select(name:mass) %>%\n",
    "    mutate_at(c(\"height\", \"mass\"), ~scale3(x = ., na.rm = TRUE)) %>%\n",
    "    head(n = 2)"
   ]
  },
  {
   "cell_type": "markdown",
   "metadata": {
    "id": "Sctyzrp7zLAU"
   },
   "source": [
    "# 実は、最近になってbaseのR（レトロなR）にもパイプが逆輸入された。\n",
    "それもずばり、 |> というちょっと変な形のパイプ。使い方は下記のような感じ。"
   ]
  },
  {
   "cell_type": "code",
   "execution_count": 24,
   "metadata": {
    "colab": {
     "base_uri": "https://localhost:8080/",
     "height": 190
    },
    "id": "Dn0gAyE4zBD2",
    "outputId": "42dcab0a-350a-456f-c464-a09760a7fd2f"
   },
   "outputs": [
    {
     "data": {
      "text/html": [
       "<table class=\"dataframe\">\n",
       "<caption>A data.frame: 3 × 5</caption>\n",
       "<thead>\n",
       "\t<tr><th></th><th scope=col>Sepal.Length</th><th scope=col>Sepal.Width</th><th scope=col>Petal.Length</th><th scope=col>Petal.Width</th><th scope=col>Species</th></tr>\n",
       "\t<tr><th></th><th scope=col>&lt;dbl&gt;</th><th scope=col>&lt;dbl&gt;</th><th scope=col>&lt;dbl&gt;</th><th scope=col>&lt;dbl&gt;</th><th scope=col>&lt;fct&gt;</th></tr>\n",
       "</thead>\n",
       "<tbody>\n",
       "\t<tr><th scope=row>1</th><td>5.1</td><td>3.5</td><td>1.4</td><td>0.2</td><td>setosa</td></tr>\n",
       "\t<tr><th scope=row>2</th><td>4.9</td><td>3.0</td><td>1.4</td><td>0.2</td><td>setosa</td></tr>\n",
       "\t<tr><th scope=row>3</th><td>4.7</td><td>3.2</td><td>1.3</td><td>0.2</td><td>setosa</td></tr>\n",
       "</tbody>\n",
       "</table>\n"
      ],
      "text/latex": [
       "A data.frame: 3 × 5\n",
       "\\begin{tabular}{r|lllll}\n",
       "  & Sepal.Length & Sepal.Width & Petal.Length & Petal.Width & Species\\\\\n",
       "  & <dbl> & <dbl> & <dbl> & <dbl> & <fct>\\\\\n",
       "\\hline\n",
       "\t1 & 5.1 & 3.5 & 1.4 & 0.2 & setosa\\\\\n",
       "\t2 & 4.9 & 3.0 & 1.4 & 0.2 & setosa\\\\\n",
       "\t3 & 4.7 & 3.2 & 1.3 & 0.2 & setosa\\\\\n",
       "\\end{tabular}\n"
      ],
      "text/markdown": [
       "\n",
       "A data.frame: 3 × 5\n",
       "\n",
       "| <!--/--> | Sepal.Length &lt;dbl&gt; | Sepal.Width &lt;dbl&gt; | Petal.Length &lt;dbl&gt; | Petal.Width &lt;dbl&gt; | Species &lt;fct&gt; |\n",
       "|---|---|---|---|---|---|\n",
       "| 1 | 5.1 | 3.5 | 1.4 | 0.2 | setosa |\n",
       "| 2 | 4.9 | 3.0 | 1.4 | 0.2 | setosa |\n",
       "| 3 | 4.7 | 3.2 | 1.3 | 0.2 | setosa |\n",
       "\n"
      ],
      "text/plain": [
       "  Sepal.Length Sepal.Width Petal.Length Petal.Width Species\n",
       "1 5.1          3.5         1.4          0.2         setosa \n",
       "2 4.9          3.0         1.4          0.2         setosa \n",
       "3 4.7          3.2         1.3          0.2         setosa "
      ]
     },
     "metadata": {
      "tags": []
     },
     "output_type": "display_data"
    }
   ],
   "source": [
    "iris |>\n",
    "    head(n = 3)"
   ]
  },
  {
   "cell_type": "code",
   "execution_count": 25,
   "metadata": {
    "colab": {
     "base_uri": "https://localhost:8080/",
     "height": 190
    },
    "id": "lKgt9_7qzm3e",
    "outputId": "1586aeb2-542e-49d7-c929-6f4297b26475"
   },
   "outputs": [
    {
     "data": {
      "text/html": [
       "<table class=\"dataframe\">\n",
       "<caption>A data.frame: 3 × 4</caption>\n",
       "<thead>\n",
       "\t<tr><th></th><th scope=col>Sepal.Length</th><th scope=col>Sepal.Width</th><th scope=col>Petal.Length</th><th scope=col>Petal.Width</th></tr>\n",
       "\t<tr><th></th><th scope=col>&lt;dbl&gt;</th><th scope=col>&lt;dbl&gt;</th><th scope=col>&lt;dbl&gt;</th><th scope=col>&lt;dbl&gt;</th></tr>\n",
       "</thead>\n",
       "<tbody>\n",
       "\t<tr><th scope=row>1</th><td>5.1</td><td>3.5</td><td>1.4</td><td>0.2</td></tr>\n",
       "\t<tr><th scope=row>2</th><td>4.9</td><td>3.0</td><td>1.4</td><td>0.2</td></tr>\n",
       "\t<tr><th scope=row>3</th><td>4.7</td><td>3.2</td><td>1.3</td><td>0.2</td></tr>\n",
       "</tbody>\n",
       "</table>\n"
      ],
      "text/latex": [
       "A data.frame: 3 × 4\n",
       "\\begin{tabular}{r|llll}\n",
       "  & Sepal.Length & Sepal.Width & Petal.Length & Petal.Width\\\\\n",
       "  & <dbl> & <dbl> & <dbl> & <dbl>\\\\\n",
       "\\hline\n",
       "\t1 & 5.1 & 3.5 & 1.4 & 0.2\\\\\n",
       "\t2 & 4.9 & 3.0 & 1.4 & 0.2\\\\\n",
       "\t3 & 4.7 & 3.2 & 1.3 & 0.2\\\\\n",
       "\\end{tabular}\n"
      ],
      "text/markdown": [
       "\n",
       "A data.frame: 3 × 4\n",
       "\n",
       "| <!--/--> | Sepal.Length &lt;dbl&gt; | Sepal.Width &lt;dbl&gt; | Petal.Length &lt;dbl&gt; | Petal.Width &lt;dbl&gt; |\n",
       "|---|---|---|---|---|\n",
       "| 1 | 5.1 | 3.5 | 1.4 | 0.2 |\n",
       "| 2 | 4.9 | 3.0 | 1.4 | 0.2 |\n",
       "| 3 | 4.7 | 3.2 | 1.3 | 0.2 |\n",
       "\n"
      ],
      "text/plain": [
       "  Sepal.Length Sepal.Width Petal.Length Petal.Width\n",
       "1 5.1          3.5         1.4          0.2        \n",
       "2 4.9          3.0         1.4          0.2        \n",
       "3 4.7          3.2         1.3          0.2        "
      ]
     },
     "metadata": {
      "tags": []
     },
     "output_type": "display_data"
    }
   ],
   "source": [
    "iris |>\n",
    "    select_if(is.numeric) |>\n",
    "    head(n = 3)"
   ]
  },
  {
   "cell_type": "code",
   "execution_count": 26,
   "metadata": {
    "colab": {
     "base_uri": "https://localhost:8080/",
     "height": 190
    },
    "id": "_BrRupwn8H7w",
    "outputId": "b111bea9-1f2e-45bb-ab38-dc4f7ba81a5a"
   },
   "outputs": [
    {
     "data": {
      "text/html": [
       "<table class=\"dataframe\">\n",
       "<caption>A data.frame: 3 × 5</caption>\n",
       "<thead>\n",
       "\t<tr><th></th><th scope=col>Sepal.Length</th><th scope=col>Sepal.Width</th><th scope=col>Petal.Length</th><th scope=col>Petal.Width</th><th scope=col>Species</th></tr>\n",
       "\t<tr><th></th><th scope=col>&lt;dbl&gt;</th><th scope=col>&lt;dbl&gt;</th><th scope=col>&lt;dbl&gt;</th><th scope=col>&lt;dbl&gt;</th><th scope=col>&lt;fct&gt;</th></tr>\n",
       "</thead>\n",
       "<tbody>\n",
       "\t<tr><th scope=row>1</th><td>-0.8976739</td><td>3.5</td><td>1.4</td><td>-1.311052</td><td>setosa</td></tr>\n",
       "\t<tr><th scope=row>2</th><td>-1.1392005</td><td>3.0</td><td>1.4</td><td>-1.311052</td><td>setosa</td></tr>\n",
       "\t<tr><th scope=row>3</th><td>-1.3807271</td><td>3.2</td><td>1.3</td><td>-1.311052</td><td>setosa</td></tr>\n",
       "</tbody>\n",
       "</table>\n"
      ],
      "text/latex": [
       "A data.frame: 3 × 5\n",
       "\\begin{tabular}{r|lllll}\n",
       "  & Sepal.Length & Sepal.Width & Petal.Length & Petal.Width & Species\\\\\n",
       "  & <dbl> & <dbl> & <dbl> & <dbl> & <fct>\\\\\n",
       "\\hline\n",
       "\t1 & -0.8976739 & 3.5 & 1.4 & -1.311052 & setosa\\\\\n",
       "\t2 & -1.1392005 & 3.0 & 1.4 & -1.311052 & setosa\\\\\n",
       "\t3 & -1.3807271 & 3.2 & 1.3 & -1.311052 & setosa\\\\\n",
       "\\end{tabular}\n"
      ],
      "text/markdown": [
       "\n",
       "A data.frame: 3 × 5\n",
       "\n",
       "| <!--/--> | Sepal.Length &lt;dbl&gt; | Sepal.Width &lt;dbl&gt; | Petal.Length &lt;dbl&gt; | Petal.Width &lt;dbl&gt; | Species &lt;fct&gt; |\n",
       "|---|---|---|---|---|---|\n",
       "| 1 | -0.8976739 | 3.5 | 1.4 | -1.311052 | setosa |\n",
       "| 2 | -1.1392005 | 3.0 | 1.4 | -1.311052 | setosa |\n",
       "| 3 | -1.3807271 | 3.2 | 1.3 | -1.311052 | setosa |\n",
       "\n"
      ],
      "text/plain": [
       "  Sepal.Length Sepal.Width Petal.Length Petal.Width Species\n",
       "1 -0.8976739   3.5         1.4          -1.311052   setosa \n",
       "2 -1.1392005   3.0         1.4          -1.311052   setosa \n",
       "3 -1.3807271   3.2         1.3          -1.311052   setosa "
      ]
     },
     "metadata": {
      "tags": []
     },
     "output_type": "display_data"
    }
   ],
   "source": [
    "iris |>\n",
    "    mutate_at(c(\"Sepal.Length\", \"Petal.Width\"), scale2) |>\n",
    "    head(n = 3)"
   ]
  },
  {
   "cell_type": "markdown",
   "metadata": {
    "id": "1P18kaXH8nTy"
   },
   "source": [
    "scale2()なら一見これで動く。ではscale3()では？"
   ]
  },
  {
   "cell_type": "code",
   "execution_count": 27,
   "metadata": {
    "colab": {
     "base_uri": "https://localhost:8080/",
     "height": 326
    },
    "id": "h5kj7wZY8tuz",
    "outputId": "84bfab73-653b-4b1c-a8e9-c8fccb80af2d"
   },
   "outputs": [
    {
     "name": "stderr",
     "output_type": "stream",
     "text": [
      "Warning message in if (na.rm) x <- x[!is.na(x)]:\n",
      "“the condition has length > 1 and only the first element will be used”\n",
      "Warning message in if (na.rm) \"na.or.complete\" else \"everything\":\n",
      "“the condition has length > 1 and only the first element will be used”\n",
      "Warning message in if (na.rm) x <- x[!is.na(x)]:\n",
      "“the condition has length > 1 and only the first element will be used”\n",
      "Warning message in if (na.rm) \"na.or.complete\" else \"everything\":\n",
      "“the condition has length > 1 and only the first element will be used”\n"
     ]
    },
    {
     "data": {
      "text/html": [
       "<table class=\"dataframe\">\n",
       "<caption>A data.frame: 3 × 5</caption>\n",
       "<thead>\n",
       "\t<tr><th></th><th scope=col>Sepal.Length</th><th scope=col>Sepal.Width</th><th scope=col>Petal.Length</th><th scope=col>Petal.Width</th><th scope=col>Species</th></tr>\n",
       "\t<tr><th></th><th scope=col>&lt;dbl&gt;</th><th scope=col>&lt;dbl&gt;</th><th scope=col>&lt;dbl&gt;</th><th scope=col>&lt;dbl&gt;</th><th scope=col>&lt;fct&gt;</th></tr>\n",
       "</thead>\n",
       "<tbody>\n",
       "\t<tr><th scope=row>1</th><td>NA</td><td>3.5</td><td>1.4</td><td>NA</td><td>setosa</td></tr>\n",
       "\t<tr><th scope=row>2</th><td>NA</td><td>3.0</td><td>1.4</td><td>NA</td><td>setosa</td></tr>\n",
       "\t<tr><th scope=row>3</th><td>NA</td><td>3.2</td><td>1.3</td><td>NA</td><td>setosa</td></tr>\n",
       "</tbody>\n",
       "</table>\n"
      ],
      "text/latex": [
       "A data.frame: 3 × 5\n",
       "\\begin{tabular}{r|lllll}\n",
       "  & Sepal.Length & Sepal.Width & Petal.Length & Petal.Width & Species\\\\\n",
       "  & <dbl> & <dbl> & <dbl> & <dbl> & <fct>\\\\\n",
       "\\hline\n",
       "\t1 & NA & 3.5 & 1.4 & NA & setosa\\\\\n",
       "\t2 & NA & 3.0 & 1.4 & NA & setosa\\\\\n",
       "\t3 & NA & 3.2 & 1.3 & NA & setosa\\\\\n",
       "\\end{tabular}\n"
      ],
      "text/markdown": [
       "\n",
       "A data.frame: 3 × 5\n",
       "\n",
       "| <!--/--> | Sepal.Length &lt;dbl&gt; | Sepal.Width &lt;dbl&gt; | Petal.Length &lt;dbl&gt; | Petal.Width &lt;dbl&gt; | Species &lt;fct&gt; |\n",
       "|---|---|---|---|---|---|\n",
       "| 1 | NA | 3.5 | 1.4 | NA | setosa |\n",
       "| 2 | NA | 3.0 | 1.4 | NA | setosa |\n",
       "| 3 | NA | 3.2 | 1.3 | NA | setosa |\n",
       "\n"
      ],
      "text/plain": [
       "  Sepal.Length Sepal.Width Petal.Length Petal.Width Species\n",
       "1 NA           3.5         1.4          NA          setosa \n",
       "2 NA           3.0         1.4          NA          setosa \n",
       "3 NA           3.2         1.3          NA          setosa "
      ]
     },
     "metadata": {
      "tags": []
     },
     "output_type": "display_data"
    }
   ],
   "source": [
    "iris |>\n",
    "    mutate_at(c(\"Sepal.Length\", \"Petal.Width\"), scale3, TRUE) |>\n",
    "    head(n = 3)"
   ]
  },
  {
   "cell_type": "markdown",
   "metadata": {
    "id": "N2fZzsXX8zKo"
   },
   "source": [
    "失敗してる。また、scale2()でチルダを使えるか試してみると、"
   ]
  },
  {
   "cell_type": "code",
   "execution_count": 28,
   "metadata": {
    "colab": {
     "base_uri": "https://localhost:8080/",
     "height": 190
    },
    "id": "vn2DX9XA81JY",
    "outputId": "c64c0765-b509-41ac-9d47-6af99e58d57e"
   },
   "outputs": [
    {
     "data": {
      "text/html": [
       "<table class=\"dataframe\">\n",
       "<caption>A data.frame: 3 × 5</caption>\n",
       "<thead>\n",
       "\t<tr><th></th><th scope=col>Sepal.Length</th><th scope=col>Sepal.Width</th><th scope=col>Petal.Length</th><th scope=col>Petal.Width</th><th scope=col>Species</th></tr>\n",
       "\t<tr><th></th><th scope=col>&lt;dbl&gt;</th><th scope=col>&lt;dbl&gt;</th><th scope=col>&lt;dbl&gt;</th><th scope=col>&lt;dbl&gt;</th><th scope=col>&lt;fct&gt;</th></tr>\n",
       "</thead>\n",
       "<tbody>\n",
       "\t<tr><th scope=row>1</th><td>-0.8976739</td><td>3.5</td><td>1.4</td><td>-1.311052</td><td>setosa</td></tr>\n",
       "\t<tr><th scope=row>2</th><td>-1.1392005</td><td>3.0</td><td>1.4</td><td>-1.311052</td><td>setosa</td></tr>\n",
       "\t<tr><th scope=row>3</th><td>-1.3807271</td><td>3.2</td><td>1.3</td><td>-1.311052</td><td>setosa</td></tr>\n",
       "</tbody>\n",
       "</table>\n"
      ],
      "text/latex": [
       "A data.frame: 3 × 5\n",
       "\\begin{tabular}{r|lllll}\n",
       "  & Sepal.Length & Sepal.Width & Petal.Length & Petal.Width & Species\\\\\n",
       "  & <dbl> & <dbl> & <dbl> & <dbl> & <fct>\\\\\n",
       "\\hline\n",
       "\t1 & -0.8976739 & 3.5 & 1.4 & -1.311052 & setosa\\\\\n",
       "\t2 & -1.1392005 & 3.0 & 1.4 & -1.311052 & setosa\\\\\n",
       "\t3 & -1.3807271 & 3.2 & 1.3 & -1.311052 & setosa\\\\\n",
       "\\end{tabular}\n"
      ],
      "text/markdown": [
       "\n",
       "A data.frame: 3 × 5\n",
       "\n",
       "| <!--/--> | Sepal.Length &lt;dbl&gt; | Sepal.Width &lt;dbl&gt; | Petal.Length &lt;dbl&gt; | Petal.Width &lt;dbl&gt; | Species &lt;fct&gt; |\n",
       "|---|---|---|---|---|---|\n",
       "| 1 | -0.8976739 | 3.5 | 1.4 | -1.311052 | setosa |\n",
       "| 2 | -1.1392005 | 3.0 | 1.4 | -1.311052 | setosa |\n",
       "| 3 | -1.3807271 | 3.2 | 1.3 | -1.311052 | setosa |\n",
       "\n"
      ],
      "text/plain": [
       "  Sepal.Length Sepal.Width Petal.Length Petal.Width Species\n",
       "1 -0.8976739   3.5         1.4          -1.311052   setosa \n",
       "2 -1.1392005   3.0         1.4          -1.311052   setosa \n",
       "3 -1.3807271   3.2         1.3          -1.311052   setosa "
      ]
     },
     "metadata": {
      "tags": []
     },
     "output_type": "display_data"
    }
   ],
   "source": [
    "iris |>\n",
    "    mutate_at(c(\"Sepal.Length\", \"Petal.Width\"), ~scale2(.)) |>\n",
    "    head(n = 3)"
   ]
  },
  {
   "cell_type": "code",
   "execution_count": 29,
   "metadata": {
    "colab": {
     "base_uri": "https://localhost:8080/",
     "height": 190
    },
    "id": "VL1snc3A95KF",
    "outputId": "49ce5918-edbf-4d08-d97e-e4a9d896e0ed"
   },
   "outputs": [
    {
     "data": {
      "text/html": [
       "<table class=\"dataframe\">\n",
       "<caption>A data.frame: 3 × 5</caption>\n",
       "<thead>\n",
       "\t<tr><th></th><th scope=col>Sepal.Length</th><th scope=col>Sepal.Width</th><th scope=col>Petal.Length</th><th scope=col>Petal.Width</th><th scope=col>Species</th></tr>\n",
       "\t<tr><th></th><th scope=col>&lt;dbl&gt;</th><th scope=col>&lt;dbl&gt;</th><th scope=col>&lt;dbl&gt;</th><th scope=col>&lt;dbl&gt;</th><th scope=col>&lt;fct&gt;</th></tr>\n",
       "</thead>\n",
       "<tbody>\n",
       "\t<tr><th scope=row>1</th><td>-0.8976739</td><td>3.5</td><td>1.4</td><td>-1.311052</td><td>setosa</td></tr>\n",
       "\t<tr><th scope=row>2</th><td>-1.1392005</td><td>3.0</td><td>1.4</td><td>-1.311052</td><td>setosa</td></tr>\n",
       "\t<tr><th scope=row>3</th><td>-1.3807271</td><td>3.2</td><td>1.3</td><td>-1.311052</td><td>setosa</td></tr>\n",
       "</tbody>\n",
       "</table>\n"
      ],
      "text/latex": [
       "A data.frame: 3 × 5\n",
       "\\begin{tabular}{r|lllll}\n",
       "  & Sepal.Length & Sepal.Width & Petal.Length & Petal.Width & Species\\\\\n",
       "  & <dbl> & <dbl> & <dbl> & <dbl> & <fct>\\\\\n",
       "\\hline\n",
       "\t1 & -0.8976739 & 3.5 & 1.4 & -1.311052 & setosa\\\\\n",
       "\t2 & -1.1392005 & 3.0 & 1.4 & -1.311052 & setosa\\\\\n",
       "\t3 & -1.3807271 & 3.2 & 1.3 & -1.311052 & setosa\\\\\n",
       "\\end{tabular}\n"
      ],
      "text/markdown": [
       "\n",
       "A data.frame: 3 × 5\n",
       "\n",
       "| <!--/--> | Sepal.Length &lt;dbl&gt; | Sepal.Width &lt;dbl&gt; | Petal.Length &lt;dbl&gt; | Petal.Width &lt;dbl&gt; | Species &lt;fct&gt; |\n",
       "|---|---|---|---|---|---|\n",
       "| 1 | -0.8976739 | 3.5 | 1.4 | -1.311052 | setosa |\n",
       "| 2 | -1.1392005 | 3.0 | 1.4 | -1.311052 | setosa |\n",
       "| 3 | -1.3807271 | 3.2 | 1.3 | -1.311052 | setosa |\n",
       "\n"
      ],
      "text/plain": [
       "  Sepal.Length Sepal.Width Petal.Length Petal.Width Species\n",
       "1 -0.8976739   3.5         1.4          -1.311052   setosa \n",
       "2 -1.1392005   3.0         1.4          -1.311052   setosa \n",
       "3 -1.3807271   3.2         1.3          -1.311052   setosa "
      ]
     },
     "metadata": {
      "tags": []
     },
     "output_type": "display_data"
    }
   ],
   "source": [
    "iris |>\n",
    "    mutate_at(c(\"Sepal.Length\", \"Petal.Width\"), ~scale2(., TRUE)) |>\n",
    "    head(n = 3)"
   ]
  },
  {
   "cell_type": "code",
   "execution_count": 30,
   "metadata": {
    "colab": {
     "base_uri": "https://localhost:8080/",
     "height": 326
    },
    "id": "_eSKqPej-FLr",
    "outputId": "4f8474e4-3b58-4730-c15c-0c25a99343cd"
   },
   "outputs": [
    {
     "name": "stderr",
     "output_type": "stream",
     "text": [
      "Warning message in if (na.rm) x <- x[!is.na(x)]:\n",
      "“the condition has length > 1 and only the first element will be used”\n",
      "Warning message in if (na.rm) \"na.or.complete\" else \"everything\":\n",
      "“the condition has length > 1 and only the first element will be used”\n",
      "Warning message in if (na.rm) x <- x[!is.na(x)]:\n",
      "“the condition has length > 1 and only the first element will be used”\n",
      "Warning message in if (na.rm) \"na.or.complete\" else \"everything\":\n",
      "“the condition has length > 1 and only the first element will be used”\n"
     ]
    },
    {
     "data": {
      "text/html": [
       "<table class=\"dataframe\">\n",
       "<caption>A data.frame: 3 × 5</caption>\n",
       "<thead>\n",
       "\t<tr><th></th><th scope=col>Sepal.Length</th><th scope=col>Sepal.Width</th><th scope=col>Petal.Length</th><th scope=col>Petal.Width</th><th scope=col>Species</th></tr>\n",
       "\t<tr><th></th><th scope=col>&lt;dbl&gt;</th><th scope=col>&lt;dbl&gt;</th><th scope=col>&lt;dbl&gt;</th><th scope=col>&lt;dbl&gt;</th><th scope=col>&lt;fct&gt;</th></tr>\n",
       "</thead>\n",
       "<tbody>\n",
       "\t<tr><th scope=row>1</th><td>NA</td><td>3.5</td><td>1.4</td><td>NA</td><td>setosa</td></tr>\n",
       "\t<tr><th scope=row>2</th><td>NA</td><td>3.0</td><td>1.4</td><td>NA</td><td>setosa</td></tr>\n",
       "\t<tr><th scope=row>3</th><td>NA</td><td>3.2</td><td>1.3</td><td>NA</td><td>setosa</td></tr>\n",
       "</tbody>\n",
       "</table>\n"
      ],
      "text/latex": [
       "A data.frame: 3 × 5\n",
       "\\begin{tabular}{r|lllll}\n",
       "  & Sepal.Length & Sepal.Width & Petal.Length & Petal.Width & Species\\\\\n",
       "  & <dbl> & <dbl> & <dbl> & <dbl> & <fct>\\\\\n",
       "\\hline\n",
       "\t1 & NA & 3.5 & 1.4 & NA & setosa\\\\\n",
       "\t2 & NA & 3.0 & 1.4 & NA & setosa\\\\\n",
       "\t3 & NA & 3.2 & 1.3 & NA & setosa\\\\\n",
       "\\end{tabular}\n"
      ],
      "text/markdown": [
       "\n",
       "A data.frame: 3 × 5\n",
       "\n",
       "| <!--/--> | Sepal.Length &lt;dbl&gt; | Sepal.Width &lt;dbl&gt; | Petal.Length &lt;dbl&gt; | Petal.Width &lt;dbl&gt; | Species &lt;fct&gt; |\n",
       "|---|---|---|---|---|---|\n",
       "| 1 | NA | 3.5 | 1.4 | NA | setosa |\n",
       "| 2 | NA | 3.0 | 1.4 | NA | setosa |\n",
       "| 3 | NA | 3.2 | 1.3 | NA | setosa |\n",
       "\n"
      ],
      "text/plain": [
       "  Sepal.Length Sepal.Width Petal.Length Petal.Width Species\n",
       "1 NA           3.5         1.4          NA          setosa \n",
       "2 NA           3.0         1.4          NA          setosa \n",
       "3 NA           3.2         1.3          NA          setosa "
      ]
     },
     "metadata": {
      "tags": []
     },
     "output_type": "display_data"
    }
   ],
   "source": [
    "iris |>\n",
    "    mutate_at(c(\"Sepal.Length\", \"Petal.Width\"), ~scale2(TRUE, .)) |>\n",
    "    head(n = 3)"
   ]
  },
  {
   "cell_type": "markdown",
   "metadata": {
    "id": "LwEMxfzo_M9N"
   },
   "source": [
    "引数名をあらわに書かない場合、プレースホルダーの順番が大事になる。"
   ]
  },
  {
   "cell_type": "code",
   "execution_count": 31,
   "metadata": {
    "colab": {
     "base_uri": "https://localhost:8080/",
     "height": 326
    },
    "id": "xjHnISSp-m0N",
    "outputId": "1566bec9-f646-4a96-e07c-02cafdb33ba7"
   },
   "outputs": [
    {
     "name": "stderr",
     "output_type": "stream",
     "text": [
      "Warning message in if (na.rm) x <- x[!is.na(x)]:\n",
      "“the condition has length > 1 and only the first element will be used”\n",
      "Warning message in if (na.rm) \"na.or.complete\" else \"everything\":\n",
      "“the condition has length > 1 and only the first element will be used”\n",
      "Warning message in if (na.rm) x <- x[!is.na(x)]:\n",
      "“the condition has length > 1 and only the first element will be used”\n",
      "Warning message in if (na.rm) \"na.or.complete\" else \"everything\":\n",
      "“the condition has length > 1 and only the first element will be used”\n"
     ]
    },
    {
     "data": {
      "text/html": [
       "<table class=\"dataframe\">\n",
       "<caption>A data.frame: 3 × 5</caption>\n",
       "<thead>\n",
       "\t<tr><th></th><th scope=col>Sepal.Length</th><th scope=col>Sepal.Width</th><th scope=col>Petal.Length</th><th scope=col>Petal.Width</th><th scope=col>Species</th></tr>\n",
       "\t<tr><th></th><th scope=col>&lt;dbl&gt;</th><th scope=col>&lt;dbl&gt;</th><th scope=col>&lt;dbl&gt;</th><th scope=col>&lt;dbl&gt;</th><th scope=col>&lt;fct&gt;</th></tr>\n",
       "</thead>\n",
       "<tbody>\n",
       "\t<tr><th scope=row>1</th><td>NA</td><td>3.5</td><td>1.4</td><td>NA</td><td>setosa</td></tr>\n",
       "\t<tr><th scope=row>2</th><td>NA</td><td>3.0</td><td>1.4</td><td>NA</td><td>setosa</td></tr>\n",
       "\t<tr><th scope=row>3</th><td>NA</td><td>3.2</td><td>1.3</td><td>NA</td><td>setosa</td></tr>\n",
       "</tbody>\n",
       "</table>\n"
      ],
      "text/latex": [
       "A data.frame: 3 × 5\n",
       "\\begin{tabular}{r|lllll}\n",
       "  & Sepal.Length & Sepal.Width & Petal.Length & Petal.Width & Species\\\\\n",
       "  & <dbl> & <dbl> & <dbl> & <dbl> & <fct>\\\\\n",
       "\\hline\n",
       "\t1 & NA & 3.5 & 1.4 & NA & setosa\\\\\n",
       "\t2 & NA & 3.0 & 1.4 & NA & setosa\\\\\n",
       "\t3 & NA & 3.2 & 1.3 & NA & setosa\\\\\n",
       "\\end{tabular}\n"
      ],
      "text/markdown": [
       "\n",
       "A data.frame: 3 × 5\n",
       "\n",
       "| <!--/--> | Sepal.Length &lt;dbl&gt; | Sepal.Width &lt;dbl&gt; | Petal.Length &lt;dbl&gt; | Petal.Width &lt;dbl&gt; | Species &lt;fct&gt; |\n",
       "|---|---|---|---|---|---|\n",
       "| 1 | NA | 3.5 | 1.4 | NA | setosa |\n",
       "| 2 | NA | 3.0 | 1.4 | NA | setosa |\n",
       "| 3 | NA | 3.2 | 1.3 | NA | setosa |\n",
       "\n"
      ],
      "text/plain": [
       "  Sepal.Length Sepal.Width Petal.Length Petal.Width Species\n",
       "1 NA           3.5         1.4          NA          setosa \n",
       "2 NA           3.0         1.4          NA          setosa \n",
       "3 NA           3.2         1.3          NA          setosa "
      ]
     },
     "metadata": {
      "tags": []
     },
     "output_type": "display_data"
    }
   ],
   "source": [
    "iris |>\n",
    "    mutate_at(c(\"Sepal.Length\", \"Petal.Width\"), ~scale3(., TRUE)) |>\n",
    "    head(n = 3)"
   ]
  },
  {
   "cell_type": "code",
   "execution_count": 32,
   "metadata": {
    "colab": {
     "base_uri": "https://localhost:8080/",
     "height": 190
    },
    "id": "rJHpwWEY-xp8",
    "outputId": "2c16250a-3069-4d31-9ccd-d468c4ff69b9"
   },
   "outputs": [
    {
     "data": {
      "text/html": [
       "<table class=\"dataframe\">\n",
       "<caption>A data.frame: 3 × 5</caption>\n",
       "<thead>\n",
       "\t<tr><th></th><th scope=col>Sepal.Length</th><th scope=col>Sepal.Width</th><th scope=col>Petal.Length</th><th scope=col>Petal.Width</th><th scope=col>Species</th></tr>\n",
       "\t<tr><th></th><th scope=col>&lt;dbl&gt;</th><th scope=col>&lt;dbl&gt;</th><th scope=col>&lt;dbl&gt;</th><th scope=col>&lt;dbl&gt;</th><th scope=col>&lt;fct&gt;</th></tr>\n",
       "</thead>\n",
       "<tbody>\n",
       "\t<tr><th scope=row>1</th><td>-0.8976739</td><td>3.5</td><td>1.4</td><td>-1.311052</td><td>setosa</td></tr>\n",
       "\t<tr><th scope=row>2</th><td>-1.1392005</td><td>3.0</td><td>1.4</td><td>-1.311052</td><td>setosa</td></tr>\n",
       "\t<tr><th scope=row>3</th><td>-1.3807271</td><td>3.2</td><td>1.3</td><td>-1.311052</td><td>setosa</td></tr>\n",
       "</tbody>\n",
       "</table>\n"
      ],
      "text/latex": [
       "A data.frame: 3 × 5\n",
       "\\begin{tabular}{r|lllll}\n",
       "  & Sepal.Length & Sepal.Width & Petal.Length & Petal.Width & Species\\\\\n",
       "  & <dbl> & <dbl> & <dbl> & <dbl> & <fct>\\\\\n",
       "\\hline\n",
       "\t1 & -0.8976739 & 3.5 & 1.4 & -1.311052 & setosa\\\\\n",
       "\t2 & -1.1392005 & 3.0 & 1.4 & -1.311052 & setosa\\\\\n",
       "\t3 & -1.3807271 & 3.2 & 1.3 & -1.311052 & setosa\\\\\n",
       "\\end{tabular}\n"
      ],
      "text/markdown": [
       "\n",
       "A data.frame: 3 × 5\n",
       "\n",
       "| <!--/--> | Sepal.Length &lt;dbl&gt; | Sepal.Width &lt;dbl&gt; | Petal.Length &lt;dbl&gt; | Petal.Width &lt;dbl&gt; | Species &lt;fct&gt; |\n",
       "|---|---|---|---|---|---|\n",
       "| 1 | -0.8976739 | 3.5 | 1.4 | -1.311052 | setosa |\n",
       "| 2 | -1.1392005 | 3.0 | 1.4 | -1.311052 | setosa |\n",
       "| 3 | -1.3807271 | 3.2 | 1.3 | -1.311052 | setosa |\n",
       "\n"
      ],
      "text/plain": [
       "  Sepal.Length Sepal.Width Petal.Length Petal.Width Species\n",
       "1 -0.8976739   3.5         1.4          -1.311052   setosa \n",
       "2 -1.1392005   3.0         1.4          -1.311052   setosa \n",
       "3 -1.3807271   3.2         1.3          -1.311052   setosa "
      ]
     },
     "metadata": {
      "tags": []
     },
     "output_type": "display_data"
    }
   ],
   "source": [
    "iris |>\n",
    "    mutate_at(c(\"Sepal.Length\", \"Petal.Width\"), ~scale3(x = ., na.rm = TRUE)) |>\n",
    "    head(n = 3)"
   ]
  },
  {
   "cell_type": "code",
   "execution_count": 33,
   "metadata": {
    "colab": {
     "base_uri": "https://localhost:8080/",
     "height": 190
    },
    "id": "PFP7ykLE9Dmy",
    "outputId": "c10081f5-b18f-4507-f822-9fccdc71c0fb"
   },
   "outputs": [
    {
     "data": {
      "text/html": [
       "<table class=\"dataframe\">\n",
       "<caption>A data.frame: 3 × 5</caption>\n",
       "<thead>\n",
       "\t<tr><th></th><th scope=col>Sepal.Length</th><th scope=col>Sepal.Width</th><th scope=col>Petal.Length</th><th scope=col>Petal.Width</th><th scope=col>Species</th></tr>\n",
       "\t<tr><th></th><th scope=col>&lt;dbl&gt;</th><th scope=col>&lt;dbl&gt;</th><th scope=col>&lt;dbl&gt;</th><th scope=col>&lt;dbl&gt;</th><th scope=col>&lt;fct&gt;</th></tr>\n",
       "</thead>\n",
       "<tbody>\n",
       "\t<tr><th scope=row>1</th><td>-0.8976739</td><td>3.5</td><td>1.4</td><td>-1.311052</td><td>setosa</td></tr>\n",
       "\t<tr><th scope=row>2</th><td>-1.1392005</td><td>3.0</td><td>1.4</td><td>-1.311052</td><td>setosa</td></tr>\n",
       "\t<tr><th scope=row>3</th><td>-1.3807271</td><td>3.2</td><td>1.3</td><td>-1.311052</td><td>setosa</td></tr>\n",
       "</tbody>\n",
       "</table>\n"
      ],
      "text/latex": [
       "A data.frame: 3 × 5\n",
       "\\begin{tabular}{r|lllll}\n",
       "  & Sepal.Length & Sepal.Width & Petal.Length & Petal.Width & Species\\\\\n",
       "  & <dbl> & <dbl> & <dbl> & <dbl> & <fct>\\\\\n",
       "\\hline\n",
       "\t1 & -0.8976739 & 3.5 & 1.4 & -1.311052 & setosa\\\\\n",
       "\t2 & -1.1392005 & 3.0 & 1.4 & -1.311052 & setosa\\\\\n",
       "\t3 & -1.3807271 & 3.2 & 1.3 & -1.311052 & setosa\\\\\n",
       "\\end{tabular}\n"
      ],
      "text/markdown": [
       "\n",
       "A data.frame: 3 × 5\n",
       "\n",
       "| <!--/--> | Sepal.Length &lt;dbl&gt; | Sepal.Width &lt;dbl&gt; | Petal.Length &lt;dbl&gt; | Petal.Width &lt;dbl&gt; | Species &lt;fct&gt; |\n",
       "|---|---|---|---|---|---|\n",
       "| 1 | -0.8976739 | 3.5 | 1.4 | -1.311052 | setosa |\n",
       "| 2 | -1.1392005 | 3.0 | 1.4 | -1.311052 | setosa |\n",
       "| 3 | -1.3807271 | 3.2 | 1.3 | -1.311052 | setosa |\n",
       "\n"
      ],
      "text/plain": [
       "  Sepal.Length Sepal.Width Petal.Length Petal.Width Species\n",
       "1 -0.8976739   3.5         1.4          -1.311052   setosa \n",
       "2 -1.1392005   3.0         1.4          -1.311052   setosa \n",
       "3 -1.3807271   3.2         1.3          -1.311052   setosa "
      ]
     },
     "metadata": {
      "tags": []
     },
     "output_type": "display_data"
    }
   ],
   "source": [
    "iris |>\n",
    "    mutate_at(c(\"Sepal.Length\", \"Petal.Width\"), ~scale3(TRUE, .)) |>\n",
    "    head(n = 3)"
   ]
  },
  {
   "cell_type": "markdown",
   "metadata": {
    "id": "s3DKuvAt_ysn"
   },
   "source": [
    "base パイプ |>とプレースホルダー . は組み合わせられないのかと思ったが、そうではないようだ（tidyverseをロードしているからだろう）。ただし、magrittrの%>% と組み合わせるときと同様、引数の順番を気にしないといけないのは同じ。また、プレースホルダー . を用いた場合は、base パイプ |> の本来のスピードを得られない可能性がある。"
   ]
  },
  {
   "cell_type": "markdown",
   "metadata": {
    "id": "A9UyO9CnIYOJ"
   },
   "source": [
    "# mutate_atの引数の指定の仕方を色々試してみる"
   ]
  },
  {
   "cell_type": "markdown",
   "metadata": {
    "id": "0wMJXYwGJcFz"
   },
   "source": [
    "vars()の中に文字列で列名を入れて見る"
   ]
  },
  {
   "cell_type": "code",
   "execution_count": 34,
   "metadata": {
    "colab": {
     "base_uri": "https://localhost:8080/",
     "height": 190
    },
    "id": "b35LhxenmYNI",
    "outputId": "4869cc0d-b74f-48a8-e0d9-137a6e518a9b"
   },
   "outputs": [
    {
     "data": {
      "text/html": [
       "<table class=\"dataframe\">\n",
       "<caption>A data.frame: 3 × 5</caption>\n",
       "<thead>\n",
       "\t<tr><th></th><th scope=col>Sepal.Length</th><th scope=col>Sepal.Width</th><th scope=col>Petal.Length</th><th scope=col>Petal.Width</th><th scope=col>Species</th></tr>\n",
       "\t<tr><th></th><th scope=col>&lt;dbl&gt;</th><th scope=col>&lt;dbl&gt;</th><th scope=col>&lt;dbl[,1]&gt;</th><th scope=col>&lt;dbl[,1]&gt;</th><th scope=col>&lt;fct&gt;</th></tr>\n",
       "</thead>\n",
       "<tbody>\n",
       "\t<tr><th scope=row>1</th><td>5.1</td><td>3.5</td><td>-1.335752</td><td>-1.311052</td><td>setosa</td></tr>\n",
       "\t<tr><th scope=row>2</th><td>4.9</td><td>3.0</td><td>-1.335752</td><td>-1.311052</td><td>setosa</td></tr>\n",
       "\t<tr><th scope=row>3</th><td>4.7</td><td>3.2</td><td>-1.392399</td><td>-1.311052</td><td>setosa</td></tr>\n",
       "</tbody>\n",
       "</table>\n"
      ],
      "text/latex": [
       "A data.frame: 3 × 5\n",
       "\\begin{tabular}{r|lllll}\n",
       "  & Sepal.Length & Sepal.Width & Petal.Length & Petal.Width & Species\\\\\n",
       "  & <dbl> & <dbl> & <dbl{[},1{]}> & <dbl{[},1{]}> & <fct>\\\\\n",
       "\\hline\n",
       "\t1 & 5.1 & 3.5 & -1.335752 & -1.311052 & setosa\\\\\n",
       "\t2 & 4.9 & 3.0 & -1.335752 & -1.311052 & setosa\\\\\n",
       "\t3 & 4.7 & 3.2 & -1.392399 & -1.311052 & setosa\\\\\n",
       "\\end{tabular}\n"
      ],
      "text/markdown": [
       "\n",
       "A data.frame: 3 × 5\n",
       "\n",
       "| <!--/--> | Sepal.Length &lt;dbl&gt; | Sepal.Width &lt;dbl&gt; | Petal.Length &lt;dbl[,1]&gt; | Petal.Width &lt;dbl[,1]&gt; | Species &lt;fct&gt; |\n",
       "|---|---|---|---|---|---|\n",
       "| 1 | 5.1 | 3.5 | -1.335752 | -1.311052 | setosa |\n",
       "| 2 | 4.9 | 3.0 | -1.335752 | -1.311052 | setosa |\n",
       "| 3 | 4.7 | 3.2 | -1.392399 | -1.311052 | setosa |\n",
       "\n"
      ],
      "text/plain": [
       "  Sepal.Length Sepal.Width Petal.Length Petal.Width Species\n",
       "1 5.1          3.5         -1.335752    -1.311052   setosa \n",
       "2 4.9          3.0         -1.335752    -1.311052   setosa \n",
       "3 4.7          3.2         -1.392399    -1.311052   setosa "
      ]
     },
     "metadata": {
      "tags": []
     },
     "output_type": "display_data"
    }
   ],
   "source": [
    "iris %>%\n",
    "    mutate_at(vars(\"Petal.Length\", \"Petal.Width\"), ~ scale(.)) %>%\n",
    "    head(n = 3)"
   ]
  },
  {
   "cell_type": "code",
   "execution_count": 35,
   "metadata": {
    "colab": {
     "base_uri": "https://localhost:8080/",
     "height": 190
    },
    "id": "ia10sZ68m_PF",
    "outputId": "ded64d64-4610-4064-eefa-b2ed75c62b51"
   },
   "outputs": [
    {
     "data": {
      "text/html": [
       "<table class=\"dataframe\">\n",
       "<caption>A data.frame: 3 × 5</caption>\n",
       "<thead>\n",
       "\t<tr><th></th><th scope=col>Sepal.Length</th><th scope=col>Sepal.Width</th><th scope=col>Petal.Length</th><th scope=col>Petal.Width</th><th scope=col>Species</th></tr>\n",
       "\t<tr><th></th><th scope=col>&lt;dbl&gt;</th><th scope=col>&lt;dbl&gt;</th><th scope=col>&lt;dbl[,1]&gt;</th><th scope=col>&lt;dbl[,1]&gt;</th><th scope=col>&lt;fct&gt;</th></tr>\n",
       "</thead>\n",
       "<tbody>\n",
       "\t<tr><th scope=row>1</th><td>5.1</td><td>3.5</td><td>-1.335752</td><td>-1.311052</td><td>setosa</td></tr>\n",
       "\t<tr><th scope=row>2</th><td>4.9</td><td>3.0</td><td>-1.335752</td><td>-1.311052</td><td>setosa</td></tr>\n",
       "\t<tr><th scope=row>3</th><td>4.7</td><td>3.2</td><td>-1.392399</td><td>-1.311052</td><td>setosa</td></tr>\n",
       "</tbody>\n",
       "</table>\n"
      ],
      "text/latex": [
       "A data.frame: 3 × 5\n",
       "\\begin{tabular}{r|lllll}\n",
       "  & Sepal.Length & Sepal.Width & Petal.Length & Petal.Width & Species\\\\\n",
       "  & <dbl> & <dbl> & <dbl{[},1{]}> & <dbl{[},1{]}> & <fct>\\\\\n",
       "\\hline\n",
       "\t1 & 5.1 & 3.5 & -1.335752 & -1.311052 & setosa\\\\\n",
       "\t2 & 4.9 & 3.0 & -1.335752 & -1.311052 & setosa\\\\\n",
       "\t3 & 4.7 & 3.2 & -1.392399 & -1.311052 & setosa\\\\\n",
       "\\end{tabular}\n"
      ],
      "text/markdown": [
       "\n",
       "A data.frame: 3 × 5\n",
       "\n",
       "| <!--/--> | Sepal.Length &lt;dbl&gt; | Sepal.Width &lt;dbl&gt; | Petal.Length &lt;dbl[,1]&gt; | Petal.Width &lt;dbl[,1]&gt; | Species &lt;fct&gt; |\n",
       "|---|---|---|---|---|---|\n",
       "| 1 | 5.1 | 3.5 | -1.335752 | -1.311052 | setosa |\n",
       "| 2 | 4.9 | 3.0 | -1.335752 | -1.311052 | setosa |\n",
       "| 3 | 4.7 | 3.2 | -1.392399 | -1.311052 | setosa |\n",
       "\n"
      ],
      "text/plain": [
       "  Sepal.Length Sepal.Width Petal.Length Petal.Width Species\n",
       "1 5.1          3.5         -1.335752    -1.311052   setosa \n",
       "2 4.9          3.0         -1.335752    -1.311052   setosa \n",
       "3 4.7          3.2         -1.392399    -1.311052   setosa "
      ]
     },
     "metadata": {
      "tags": []
     },
     "output_type": "display_data"
    }
   ],
   "source": [
    "iris %>%\n",
    "    mutate_at(vars(\"Petal.Length\", \"Petal.Width\"), ~ scale(.x)) %>%\n",
    "    head(n = 3)"
   ]
  },
  {
   "cell_type": "code",
   "execution_count": 36,
   "metadata": {
    "colab": {
     "base_uri": "https://localhost:8080/",
     "height": 190
    },
    "id": "7qpfUbVVnCB7",
    "outputId": "27e51b84-7795-4d19-a404-969cffda8116"
   },
   "outputs": [
    {
     "data": {
      "text/html": [
       "<table class=\"dataframe\">\n",
       "<caption>A data.frame: 3 × 5</caption>\n",
       "<thead>\n",
       "\t<tr><th></th><th scope=col>Sepal.Length</th><th scope=col>Sepal.Width</th><th scope=col>Petal.Length</th><th scope=col>Petal.Width</th><th scope=col>Species</th></tr>\n",
       "\t<tr><th></th><th scope=col>&lt;dbl&gt;</th><th scope=col>&lt;dbl&gt;</th><th scope=col>&lt;dbl[,1]&gt;</th><th scope=col>&lt;dbl[,1]&gt;</th><th scope=col>&lt;fct&gt;</th></tr>\n",
       "</thead>\n",
       "<tbody>\n",
       "\t<tr><th scope=row>1</th><td>5.1</td><td>3.5</td><td>-1.335752</td><td>-1.311052</td><td>setosa</td></tr>\n",
       "\t<tr><th scope=row>2</th><td>4.9</td><td>3.0</td><td>-1.335752</td><td>-1.311052</td><td>setosa</td></tr>\n",
       "\t<tr><th scope=row>3</th><td>4.7</td><td>3.2</td><td>-1.392399</td><td>-1.311052</td><td>setosa</td></tr>\n",
       "</tbody>\n",
       "</table>\n"
      ],
      "text/latex": [
       "A data.frame: 3 × 5\n",
       "\\begin{tabular}{r|lllll}\n",
       "  & Sepal.Length & Sepal.Width & Petal.Length & Petal.Width & Species\\\\\n",
       "  & <dbl> & <dbl> & <dbl{[},1{]}> & <dbl{[},1{]}> & <fct>\\\\\n",
       "\\hline\n",
       "\t1 & 5.1 & 3.5 & -1.335752 & -1.311052 & setosa\\\\\n",
       "\t2 & 4.9 & 3.0 & -1.335752 & -1.311052 & setosa\\\\\n",
       "\t3 & 4.7 & 3.2 & -1.392399 & -1.311052 & setosa\\\\\n",
       "\\end{tabular}\n"
      ],
      "text/markdown": [
       "\n",
       "A data.frame: 3 × 5\n",
       "\n",
       "| <!--/--> | Sepal.Length &lt;dbl&gt; | Sepal.Width &lt;dbl&gt; | Petal.Length &lt;dbl[,1]&gt; | Petal.Width &lt;dbl[,1]&gt; | Species &lt;fct&gt; |\n",
       "|---|---|---|---|---|---|\n",
       "| 1 | 5.1 | 3.5 | -1.335752 | -1.311052 | setosa |\n",
       "| 2 | 4.9 | 3.0 | -1.335752 | -1.311052 | setosa |\n",
       "| 3 | 4.7 | 3.2 | -1.392399 | -1.311052 | setosa |\n",
       "\n"
      ],
      "text/plain": [
       "  Sepal.Length Sepal.Width Petal.Length Petal.Width Species\n",
       "1 5.1          3.5         -1.335752    -1.311052   setosa \n",
       "2 4.9          3.0         -1.335752    -1.311052   setosa \n",
       "3 4.7          3.2         -1.392399    -1.311052   setosa "
      ]
     },
     "metadata": {
      "tags": []
     },
     "output_type": "display_data"
    }
   ],
   "source": [
    "iris %>%\n",
    "    mutate_at(vars(\"Petal.Length\", \"Petal.Width\"), .funs = ~ scale(.)) %>%\n",
    "    head(n = 3)"
   ]
  },
  {
   "cell_type": "code",
   "execution_count": 37,
   "metadata": {
    "colab": {
     "base_uri": "https://localhost:8080/",
     "height": 190
    },
    "id": "wpJUHGZiHsod",
    "outputId": "86babedf-9e79-4eba-a61f-733cddc2aae3"
   },
   "outputs": [
    {
     "data": {
      "text/html": [
       "<table class=\"dataframe\">\n",
       "<caption>A data.frame: 3 × 5</caption>\n",
       "<thead>\n",
       "\t<tr><th></th><th scope=col>Sepal.Length</th><th scope=col>Sepal.Width</th><th scope=col>Petal.Length</th><th scope=col>Petal.Width</th><th scope=col>Species</th></tr>\n",
       "\t<tr><th></th><th scope=col>&lt;dbl&gt;</th><th scope=col>&lt;dbl&gt;</th><th scope=col>&lt;dbl[,1]&gt;</th><th scope=col>&lt;dbl[,1]&gt;</th><th scope=col>&lt;fct&gt;</th></tr>\n",
       "</thead>\n",
       "<tbody>\n",
       "\t<tr><th scope=row>1</th><td>5.1</td><td>3.5</td><td>-1.335752</td><td>-1.311052</td><td>setosa</td></tr>\n",
       "\t<tr><th scope=row>2</th><td>4.9</td><td>3.0</td><td>-1.335752</td><td>-1.311052</td><td>setosa</td></tr>\n",
       "\t<tr><th scope=row>3</th><td>4.7</td><td>3.2</td><td>-1.392399</td><td>-1.311052</td><td>setosa</td></tr>\n",
       "</tbody>\n",
       "</table>\n"
      ],
      "text/latex": [
       "A data.frame: 3 × 5\n",
       "\\begin{tabular}{r|lllll}\n",
       "  & Sepal.Length & Sepal.Width & Petal.Length & Petal.Width & Species\\\\\n",
       "  & <dbl> & <dbl> & <dbl{[},1{]}> & <dbl{[},1{]}> & <fct>\\\\\n",
       "\\hline\n",
       "\t1 & 5.1 & 3.5 & -1.335752 & -1.311052 & setosa\\\\\n",
       "\t2 & 4.9 & 3.0 & -1.335752 & -1.311052 & setosa\\\\\n",
       "\t3 & 4.7 & 3.2 & -1.392399 & -1.311052 & setosa\\\\\n",
       "\\end{tabular}\n"
      ],
      "text/markdown": [
       "\n",
       "A data.frame: 3 × 5\n",
       "\n",
       "| <!--/--> | Sepal.Length &lt;dbl&gt; | Sepal.Width &lt;dbl&gt; | Petal.Length &lt;dbl[,1]&gt; | Petal.Width &lt;dbl[,1]&gt; | Species &lt;fct&gt; |\n",
       "|---|---|---|---|---|---|\n",
       "| 1 | 5.1 | 3.5 | -1.335752 | -1.311052 | setosa |\n",
       "| 2 | 4.9 | 3.0 | -1.335752 | -1.311052 | setosa |\n",
       "| 3 | 4.7 | 3.2 | -1.392399 | -1.311052 | setosa |\n",
       "\n"
      ],
      "text/plain": [
       "  Sepal.Length Sepal.Width Petal.Length Petal.Width Species\n",
       "1 5.1          3.5         -1.335752    -1.311052   setosa \n",
       "2 4.9          3.0         -1.335752    -1.311052   setosa \n",
       "3 4.7          3.2         -1.392399    -1.311052   setosa "
      ]
     },
     "metadata": {
      "tags": []
     },
     "output_type": "display_data"
    }
   ],
   "source": [
    "iris %>%\n",
    "    mutate_at(vars(\"Petal.Length\", \"Petal.Width\"), scale) %>%\n",
    "    head(n = 3)"
   ]
  },
  {
   "cell_type": "markdown",
   "metadata": {
    "id": "1q3mY_z1JiyL"
   },
   "source": [
    "vars()の中に列の範囲を : で区切って入れて見る"
   ]
  },
  {
   "cell_type": "code",
   "execution_count": 38,
   "metadata": {
    "colab": {
     "base_uri": "https://localhost:8080/",
     "height": 190
    },
    "id": "hzDB5agdH-Na",
    "outputId": "48711af4-e2d0-459d-f378-26687bdff98f"
   },
   "outputs": [
    {
     "data": {
      "text/html": [
       "<table class=\"dataframe\">\n",
       "<caption>A data.frame: 3 × 5</caption>\n",
       "<thead>\n",
       "\t<tr><th></th><th scope=col>Sepal.Length</th><th scope=col>Sepal.Width</th><th scope=col>Petal.Length</th><th scope=col>Petal.Width</th><th scope=col>Species</th></tr>\n",
       "\t<tr><th></th><th scope=col>&lt;dbl&gt;</th><th scope=col>&lt;dbl&gt;</th><th scope=col>&lt;dbl[,1]&gt;</th><th scope=col>&lt;dbl[,1]&gt;</th><th scope=col>&lt;fct&gt;</th></tr>\n",
       "</thead>\n",
       "<tbody>\n",
       "\t<tr><th scope=row>1</th><td>5.1</td><td>3.5</td><td>-1.335752</td><td>-1.311052</td><td>setosa</td></tr>\n",
       "\t<tr><th scope=row>2</th><td>4.9</td><td>3.0</td><td>-1.335752</td><td>-1.311052</td><td>setosa</td></tr>\n",
       "\t<tr><th scope=row>3</th><td>4.7</td><td>3.2</td><td>-1.392399</td><td>-1.311052</td><td>setosa</td></tr>\n",
       "</tbody>\n",
       "</table>\n"
      ],
      "text/latex": [
       "A data.frame: 3 × 5\n",
       "\\begin{tabular}{r|lllll}\n",
       "  & Sepal.Length & Sepal.Width & Petal.Length & Petal.Width & Species\\\\\n",
       "  & <dbl> & <dbl> & <dbl{[},1{]}> & <dbl{[},1{]}> & <fct>\\\\\n",
       "\\hline\n",
       "\t1 & 5.1 & 3.5 & -1.335752 & -1.311052 & setosa\\\\\n",
       "\t2 & 4.9 & 3.0 & -1.335752 & -1.311052 & setosa\\\\\n",
       "\t3 & 4.7 & 3.2 & -1.392399 & -1.311052 & setosa\\\\\n",
       "\\end{tabular}\n"
      ],
      "text/markdown": [
       "\n",
       "A data.frame: 3 × 5\n",
       "\n",
       "| <!--/--> | Sepal.Length &lt;dbl&gt; | Sepal.Width &lt;dbl&gt; | Petal.Length &lt;dbl[,1]&gt; | Petal.Width &lt;dbl[,1]&gt; | Species &lt;fct&gt; |\n",
       "|---|---|---|---|---|---|\n",
       "| 1 | 5.1 | 3.5 | -1.335752 | -1.311052 | setosa |\n",
       "| 2 | 4.9 | 3.0 | -1.335752 | -1.311052 | setosa |\n",
       "| 3 | 4.7 | 3.2 | -1.392399 | -1.311052 | setosa |\n",
       "\n"
      ],
      "text/plain": [
       "  Sepal.Length Sepal.Width Petal.Length Petal.Width Species\n",
       "1 5.1          3.5         -1.335752    -1.311052   setosa \n",
       "2 4.9          3.0         -1.335752    -1.311052   setosa \n",
       "3 4.7          3.2         -1.392399    -1.311052   setosa "
      ]
     },
     "metadata": {
      "tags": []
     },
     "output_type": "display_data"
    }
   ],
   "source": [
    "iris %>%\n",
    "    mutate_at(vars(Petal.Length:Petal.Width), scale) %>%\n",
    "    head(n = 3)"
   ]
  },
  {
   "cell_type": "markdown",
   "metadata": {
    "id": "llwW4awOJorF"
   },
   "source": [
    "vars()の中に \"Petal\"で始まる列を starts_with()を使って指定してみる"
   ]
  },
  {
   "cell_type": "code",
   "execution_count": 39,
   "metadata": {
    "colab": {
     "base_uri": "https://localhost:8080/",
     "height": 190
    },
    "id": "YLawPd99IH1-",
    "outputId": "2890f2fc-974a-436b-9326-5be7a683d883"
   },
   "outputs": [
    {
     "data": {
      "text/html": [
       "<table class=\"dataframe\">\n",
       "<caption>A data.frame: 3 × 5</caption>\n",
       "<thead>\n",
       "\t<tr><th></th><th scope=col>Sepal.Length</th><th scope=col>Sepal.Width</th><th scope=col>Petal.Length</th><th scope=col>Petal.Width</th><th scope=col>Species</th></tr>\n",
       "\t<tr><th></th><th scope=col>&lt;dbl&gt;</th><th scope=col>&lt;dbl&gt;</th><th scope=col>&lt;dbl[,1]&gt;</th><th scope=col>&lt;dbl[,1]&gt;</th><th scope=col>&lt;fct&gt;</th></tr>\n",
       "</thead>\n",
       "<tbody>\n",
       "\t<tr><th scope=row>1</th><td>5.1</td><td>3.5</td><td>-1.335752</td><td>-1.311052</td><td>setosa</td></tr>\n",
       "\t<tr><th scope=row>2</th><td>4.9</td><td>3.0</td><td>-1.335752</td><td>-1.311052</td><td>setosa</td></tr>\n",
       "\t<tr><th scope=row>3</th><td>4.7</td><td>3.2</td><td>-1.392399</td><td>-1.311052</td><td>setosa</td></tr>\n",
       "</tbody>\n",
       "</table>\n"
      ],
      "text/latex": [
       "A data.frame: 3 × 5\n",
       "\\begin{tabular}{r|lllll}\n",
       "  & Sepal.Length & Sepal.Width & Petal.Length & Petal.Width & Species\\\\\n",
       "  & <dbl> & <dbl> & <dbl{[},1{]}> & <dbl{[},1{]}> & <fct>\\\\\n",
       "\\hline\n",
       "\t1 & 5.1 & 3.5 & -1.335752 & -1.311052 & setosa\\\\\n",
       "\t2 & 4.9 & 3.0 & -1.335752 & -1.311052 & setosa\\\\\n",
       "\t3 & 4.7 & 3.2 & -1.392399 & -1.311052 & setosa\\\\\n",
       "\\end{tabular}\n"
      ],
      "text/markdown": [
       "\n",
       "A data.frame: 3 × 5\n",
       "\n",
       "| <!--/--> | Sepal.Length &lt;dbl&gt; | Sepal.Width &lt;dbl&gt; | Petal.Length &lt;dbl[,1]&gt; | Petal.Width &lt;dbl[,1]&gt; | Species &lt;fct&gt; |\n",
       "|---|---|---|---|---|---|\n",
       "| 1 | 5.1 | 3.5 | -1.335752 | -1.311052 | setosa |\n",
       "| 2 | 4.9 | 3.0 | -1.335752 | -1.311052 | setosa |\n",
       "| 3 | 4.7 | 3.2 | -1.392399 | -1.311052 | setosa |\n",
       "\n"
      ],
      "text/plain": [
       "  Sepal.Length Sepal.Width Petal.Length Petal.Width Species\n",
       "1 5.1          3.5         -1.335752    -1.311052   setosa \n",
       "2 4.9          3.0         -1.335752    -1.311052   setosa \n",
       "3 4.7          3.2         -1.392399    -1.311052   setosa "
      ]
     },
     "metadata": {
      "tags": []
     },
     "output_type": "display_data"
    }
   ],
   "source": [
    "iris %>%\n",
    "    mutate_at(vars(starts_with(\"Petal\")), scale) %>%\n",
    "    head(n = 3)"
   ]
  },
  {
   "cell_type": "markdown",
   "metadata": {
    "id": "4yVxQm8VJzmF"
   },
   "source": [
    "適用する関数の引数であることを明示するために、 .funs = を加えみる"
   ]
  },
  {
   "cell_type": "code",
   "execution_count": 40,
   "metadata": {
    "colab": {
     "base_uri": "https://localhost:8080/",
     "height": 190
    },
    "id": "VrKCi_NRINrt",
    "outputId": "47c8b81e-c24b-4e73-c50d-4c36b9bdcbc5"
   },
   "outputs": [
    {
     "data": {
      "text/html": [
       "<table class=\"dataframe\">\n",
       "<caption>A data.frame: 3 × 5</caption>\n",
       "<thead>\n",
       "\t<tr><th></th><th scope=col>Sepal.Length</th><th scope=col>Sepal.Width</th><th scope=col>Petal.Length</th><th scope=col>Petal.Width</th><th scope=col>Species</th></tr>\n",
       "\t<tr><th></th><th scope=col>&lt;dbl&gt;</th><th scope=col>&lt;dbl&gt;</th><th scope=col>&lt;dbl[,1]&gt;</th><th scope=col>&lt;dbl[,1]&gt;</th><th scope=col>&lt;fct&gt;</th></tr>\n",
       "</thead>\n",
       "<tbody>\n",
       "\t<tr><th scope=row>1</th><td>5.1</td><td>3.5</td><td>-1.335752</td><td>-1.311052</td><td>setosa</td></tr>\n",
       "\t<tr><th scope=row>2</th><td>4.9</td><td>3.0</td><td>-1.335752</td><td>-1.311052</td><td>setosa</td></tr>\n",
       "\t<tr><th scope=row>3</th><td>4.7</td><td>3.2</td><td>-1.392399</td><td>-1.311052</td><td>setosa</td></tr>\n",
       "</tbody>\n",
       "</table>\n"
      ],
      "text/latex": [
       "A data.frame: 3 × 5\n",
       "\\begin{tabular}{r|lllll}\n",
       "  & Sepal.Length & Sepal.Width & Petal.Length & Petal.Width & Species\\\\\n",
       "  & <dbl> & <dbl> & <dbl{[},1{]}> & <dbl{[},1{]}> & <fct>\\\\\n",
       "\\hline\n",
       "\t1 & 5.1 & 3.5 & -1.335752 & -1.311052 & setosa\\\\\n",
       "\t2 & 4.9 & 3.0 & -1.335752 & -1.311052 & setosa\\\\\n",
       "\t3 & 4.7 & 3.2 & -1.392399 & -1.311052 & setosa\\\\\n",
       "\\end{tabular}\n"
      ],
      "text/markdown": [
       "\n",
       "A data.frame: 3 × 5\n",
       "\n",
       "| <!--/--> | Sepal.Length &lt;dbl&gt; | Sepal.Width &lt;dbl&gt; | Petal.Length &lt;dbl[,1]&gt; | Petal.Width &lt;dbl[,1]&gt; | Species &lt;fct&gt; |\n",
       "|---|---|---|---|---|---|\n",
       "| 1 | 5.1 | 3.5 | -1.335752 | -1.311052 | setosa |\n",
       "| 2 | 4.9 | 3.0 | -1.335752 | -1.311052 | setosa |\n",
       "| 3 | 4.7 | 3.2 | -1.392399 | -1.311052 | setosa |\n",
       "\n"
      ],
      "text/plain": [
       "  Sepal.Length Sepal.Width Petal.Length Petal.Width Species\n",
       "1 5.1          3.5         -1.335752    -1.311052   setosa \n",
       "2 4.9          3.0         -1.335752    -1.311052   setosa \n",
       "3 4.7          3.2         -1.392399    -1.311052   setosa "
      ]
     },
     "metadata": {
      "tags": []
     },
     "output_type": "display_data"
    }
   ],
   "source": [
    "iris %>%\n",
    "    mutate_at(vars(starts_with(\"Petal\")), .funs = scale) %>%\n",
    "    head(n = 3)"
   ]
  },
  {
   "cell_type": "markdown",
   "metadata": {
    "id": "KS-NBG5hLqOR"
   },
   "source": [
    "vars()の中で-Species で指定してみる。"
   ]
  },
  {
   "cell_type": "code",
   "execution_count": 41,
   "metadata": {
    "colab": {
     "base_uri": "https://localhost:8080/",
     "height": 190
    },
    "id": "SMbDARQAJyu2",
    "outputId": "321d5e22-df51-4c19-bea8-f921025cc59e"
   },
   "outputs": [
    {
     "data": {
      "text/html": [
       "<table class=\"dataframe\">\n",
       "<caption>A data.frame: 3 × 5</caption>\n",
       "<thead>\n",
       "\t<tr><th></th><th scope=col>Sepal.Length</th><th scope=col>Sepal.Width</th><th scope=col>Petal.Length</th><th scope=col>Petal.Width</th><th scope=col>Species</th></tr>\n",
       "\t<tr><th></th><th scope=col>&lt;dbl[,1]&gt;</th><th scope=col>&lt;dbl[,1]&gt;</th><th scope=col>&lt;dbl[,1]&gt;</th><th scope=col>&lt;dbl[,1]&gt;</th><th scope=col>&lt;fct&gt;</th></tr>\n",
       "</thead>\n",
       "<tbody>\n",
       "\t<tr><th scope=row>1</th><td>-0.8976739</td><td> 1.0156020</td><td>-1.335752</td><td>-1.311052</td><td>setosa</td></tr>\n",
       "\t<tr><th scope=row>2</th><td>-1.1392005</td><td>-0.1315388</td><td>-1.335752</td><td>-1.311052</td><td>setosa</td></tr>\n",
       "\t<tr><th scope=row>3</th><td>-1.3807271</td><td> 0.3273175</td><td>-1.392399</td><td>-1.311052</td><td>setosa</td></tr>\n",
       "</tbody>\n",
       "</table>\n"
      ],
      "text/latex": [
       "A data.frame: 3 × 5\n",
       "\\begin{tabular}{r|lllll}\n",
       "  & Sepal.Length & Sepal.Width & Petal.Length & Petal.Width & Species\\\\\n",
       "  & <dbl{[},1{]}> & <dbl{[},1{]}> & <dbl{[},1{]}> & <dbl{[},1{]}> & <fct>\\\\\n",
       "\\hline\n",
       "\t1 & -0.8976739 &  1.0156020 & -1.335752 & -1.311052 & setosa\\\\\n",
       "\t2 & -1.1392005 & -0.1315388 & -1.335752 & -1.311052 & setosa\\\\\n",
       "\t3 & -1.3807271 &  0.3273175 & -1.392399 & -1.311052 & setosa\\\\\n",
       "\\end{tabular}\n"
      ],
      "text/markdown": [
       "\n",
       "A data.frame: 3 × 5\n",
       "\n",
       "| <!--/--> | Sepal.Length &lt;dbl[,1]&gt; | Sepal.Width &lt;dbl[,1]&gt; | Petal.Length &lt;dbl[,1]&gt; | Petal.Width &lt;dbl[,1]&gt; | Species &lt;fct&gt; |\n",
       "|---|---|---|---|---|---|\n",
       "| 1 | -0.8976739 |  1.0156020 | -1.335752 | -1.311052 | setosa |\n",
       "| 2 | -1.1392005 | -0.1315388 | -1.335752 | -1.311052 | setosa |\n",
       "| 3 | -1.3807271 |  0.3273175 | -1.392399 | -1.311052 | setosa |\n",
       "\n"
      ],
      "text/plain": [
       "  Sepal.Length Sepal.Width Petal.Length Petal.Width Species\n",
       "1 -0.8976739    1.0156020  -1.335752    -1.311052   setosa \n",
       "2 -1.1392005   -0.1315388  -1.335752    -1.311052   setosa \n",
       "3 -1.3807271    0.3273175  -1.392399    -1.311052   setosa "
      ]
     },
     "metadata": {
      "tags": []
     },
     "output_type": "display_data"
    }
   ],
   "source": [
    "iris %>%\n",
    "    mutate_at(vars(-Species), scale) %>%\n",
    "    head(n = 3)"
   ]
  },
  {
   "cell_type": "markdown",
   "metadata": {
    "id": "GktYWj51N69v"
   },
   "source": [
    "\"Species\"を文字列で指定しても大丈夫みたいだ"
   ]
  },
  {
   "cell_type": "code",
   "execution_count": 42,
   "metadata": {
    "colab": {
     "base_uri": "https://localhost:8080/",
     "height": 190
    },
    "id": "TRAu7GAzJ_xS",
    "outputId": "2999140d-bc05-4b4b-bba7-e37f798414fc"
   },
   "outputs": [
    {
     "data": {
      "text/html": [
       "<table class=\"dataframe\">\n",
       "<caption>A data.frame: 3 × 5</caption>\n",
       "<thead>\n",
       "\t<tr><th></th><th scope=col>Sepal.Length</th><th scope=col>Sepal.Width</th><th scope=col>Petal.Length</th><th scope=col>Petal.Width</th><th scope=col>Species</th></tr>\n",
       "\t<tr><th></th><th scope=col>&lt;dbl[,1]&gt;</th><th scope=col>&lt;dbl[,1]&gt;</th><th scope=col>&lt;dbl[,1]&gt;</th><th scope=col>&lt;dbl[,1]&gt;</th><th scope=col>&lt;fct&gt;</th></tr>\n",
       "</thead>\n",
       "<tbody>\n",
       "\t<tr><th scope=row>1</th><td>-0.8976739</td><td> 1.0156020</td><td>-1.335752</td><td>-1.311052</td><td>setosa</td></tr>\n",
       "\t<tr><th scope=row>2</th><td>-1.1392005</td><td>-0.1315388</td><td>-1.335752</td><td>-1.311052</td><td>setosa</td></tr>\n",
       "\t<tr><th scope=row>3</th><td>-1.3807271</td><td> 0.3273175</td><td>-1.392399</td><td>-1.311052</td><td>setosa</td></tr>\n",
       "</tbody>\n",
       "</table>\n"
      ],
      "text/latex": [
       "A data.frame: 3 × 5\n",
       "\\begin{tabular}{r|lllll}\n",
       "  & Sepal.Length & Sepal.Width & Petal.Length & Petal.Width & Species\\\\\n",
       "  & <dbl{[},1{]}> & <dbl{[},1{]}> & <dbl{[},1{]}> & <dbl{[},1{]}> & <fct>\\\\\n",
       "\\hline\n",
       "\t1 & -0.8976739 &  1.0156020 & -1.335752 & -1.311052 & setosa\\\\\n",
       "\t2 & -1.1392005 & -0.1315388 & -1.335752 & -1.311052 & setosa\\\\\n",
       "\t3 & -1.3807271 &  0.3273175 & -1.392399 & -1.311052 & setosa\\\\\n",
       "\\end{tabular}\n"
      ],
      "text/markdown": [
       "\n",
       "A data.frame: 3 × 5\n",
       "\n",
       "| <!--/--> | Sepal.Length &lt;dbl[,1]&gt; | Sepal.Width &lt;dbl[,1]&gt; | Petal.Length &lt;dbl[,1]&gt; | Petal.Width &lt;dbl[,1]&gt; | Species &lt;fct&gt; |\n",
       "|---|---|---|---|---|---|\n",
       "| 1 | -0.8976739 |  1.0156020 | -1.335752 | -1.311052 | setosa |\n",
       "| 2 | -1.1392005 | -0.1315388 | -1.335752 | -1.311052 | setosa |\n",
       "| 3 | -1.3807271 |  0.3273175 | -1.392399 | -1.311052 | setosa |\n",
       "\n"
      ],
      "text/plain": [
       "  Sepal.Length Sepal.Width Petal.Length Petal.Width Species\n",
       "1 -0.8976739    1.0156020  -1.335752    -1.311052   setosa \n",
       "2 -1.1392005   -0.1315388  -1.335752    -1.311052   setosa \n",
       "3 -1.3807271    0.3273175  -1.392399    -1.311052   setosa "
      ]
     },
     "metadata": {
      "tags": []
     },
     "output_type": "display_data"
    }
   ],
   "source": [
    "iris %>%\n",
    "    mutate_at(vars(-\"Species\"), scale) %>%\n",
    "    head(n = 3)"
   ]
  },
  {
   "cell_type": "markdown",
   "metadata": {
    "id": "iHXsN411NUuh"
   },
   "source": [
    "### mutate_atを使う代わりに、mutateを使う場合は、across()と組み合わせると複数列を選択できる"
   ]
  },
  {
   "cell_type": "code",
   "execution_count": 43,
   "metadata": {
    "colab": {
     "base_uri": "https://localhost:8080/",
     "height": 190
    },
    "id": "WoBLuUX0Musj",
    "outputId": "5b889e21-37e1-4bb0-ef20-1f1a9f7ab720"
   },
   "outputs": [
    {
     "data": {
      "text/html": [
       "<table class=\"dataframe\">\n",
       "<caption>A data.frame: 3 × 5</caption>\n",
       "<thead>\n",
       "\t<tr><th></th><th scope=col>Sepal.Length</th><th scope=col>Sepal.Width</th><th scope=col>Petal.Length</th><th scope=col>Petal.Width</th><th scope=col>Species</th></tr>\n",
       "\t<tr><th></th><th scope=col>&lt;dbl&gt;</th><th scope=col>&lt;dbl[,1]&gt;</th><th scope=col>&lt;dbl&gt;</th><th scope=col>&lt;dbl[,1]&gt;</th><th scope=col>&lt;fct&gt;</th></tr>\n",
       "</thead>\n",
       "<tbody>\n",
       "\t<tr><th scope=row>1</th><td>5.1</td><td> 1.0156020</td><td>1.4</td><td>-1.311052</td><td>setosa</td></tr>\n",
       "\t<tr><th scope=row>2</th><td>4.9</td><td>-0.1315388</td><td>1.4</td><td>-1.311052</td><td>setosa</td></tr>\n",
       "\t<tr><th scope=row>3</th><td>4.7</td><td> 0.3273175</td><td>1.3</td><td>-1.311052</td><td>setosa</td></tr>\n",
       "</tbody>\n",
       "</table>\n"
      ],
      "text/latex": [
       "A data.frame: 3 × 5\n",
       "\\begin{tabular}{r|lllll}\n",
       "  & Sepal.Length & Sepal.Width & Petal.Length & Petal.Width & Species\\\\\n",
       "  & <dbl> & <dbl{[},1{]}> & <dbl> & <dbl{[},1{]}> & <fct>\\\\\n",
       "\\hline\n",
       "\t1 & 5.1 &  1.0156020 & 1.4 & -1.311052 & setosa\\\\\n",
       "\t2 & 4.9 & -0.1315388 & 1.4 & -1.311052 & setosa\\\\\n",
       "\t3 & 4.7 &  0.3273175 & 1.3 & -1.311052 & setosa\\\\\n",
       "\\end{tabular}\n"
      ],
      "text/markdown": [
       "\n",
       "A data.frame: 3 × 5\n",
       "\n",
       "| <!--/--> | Sepal.Length &lt;dbl&gt; | Sepal.Width &lt;dbl[,1]&gt; | Petal.Length &lt;dbl&gt; | Petal.Width &lt;dbl[,1]&gt; | Species &lt;fct&gt; |\n",
       "|---|---|---|---|---|---|\n",
       "| 1 | 5.1 |  1.0156020 | 1.4 | -1.311052 | setosa |\n",
       "| 2 | 4.9 | -0.1315388 | 1.4 | -1.311052 | setosa |\n",
       "| 3 | 4.7 |  0.3273175 | 1.3 | -1.311052 | setosa |\n",
       "\n"
      ],
      "text/plain": [
       "  Sepal.Length Sepal.Width Petal.Length Petal.Width Species\n",
       "1 5.1           1.0156020  1.4          -1.311052   setosa \n",
       "2 4.9          -0.1315388  1.4          -1.311052   setosa \n",
       "3 4.7           0.3273175  1.3          -1.311052   setosa "
      ]
     },
     "metadata": {
      "tags": []
     },
     "output_type": "display_data"
    }
   ],
   "source": [
    "iris %>%\n",
    "    mutate(across(c(\"Sepal.Width\", \"Petal.Width\"), scale)) %>%\n",
    "    head(n = 3)"
   ]
  },
  {
   "cell_type": "markdown",
   "metadata": {
    "id": "islo_pEzObFv"
   },
   "source": [
    "## 数値列のみなどの条件で絞る場合は、mutate_ifも使える場合がある"
   ]
  },
  {
   "cell_type": "code",
   "execution_count": 44,
   "metadata": {
    "colab": {
     "base_uri": "https://localhost:8080/",
     "height": 190
    },
    "id": "m97rzl09OUvc",
    "outputId": "6ebc57dc-b641-4cfc-9c4e-121fd1d6e8f1"
   },
   "outputs": [
    {
     "data": {
      "text/html": [
       "<table class=\"dataframe\">\n",
       "<caption>A data.frame: 3 × 5</caption>\n",
       "<thead>\n",
       "\t<tr><th></th><th scope=col>Sepal.Length</th><th scope=col>Sepal.Width</th><th scope=col>Petal.Length</th><th scope=col>Petal.Width</th><th scope=col>Species</th></tr>\n",
       "\t<tr><th></th><th scope=col>&lt;dbl[,1]&gt;</th><th scope=col>&lt;dbl[,1]&gt;</th><th scope=col>&lt;dbl[,1]&gt;</th><th scope=col>&lt;dbl[,1]&gt;</th><th scope=col>&lt;fct&gt;</th></tr>\n",
       "</thead>\n",
       "<tbody>\n",
       "\t<tr><th scope=row>1</th><td>-0.8976739</td><td> 1.0156020</td><td>-1.335752</td><td>-1.311052</td><td>setosa</td></tr>\n",
       "\t<tr><th scope=row>2</th><td>-1.1392005</td><td>-0.1315388</td><td>-1.335752</td><td>-1.311052</td><td>setosa</td></tr>\n",
       "\t<tr><th scope=row>3</th><td>-1.3807271</td><td> 0.3273175</td><td>-1.392399</td><td>-1.311052</td><td>setosa</td></tr>\n",
       "</tbody>\n",
       "</table>\n"
      ],
      "text/latex": [
       "A data.frame: 3 × 5\n",
       "\\begin{tabular}{r|lllll}\n",
       "  & Sepal.Length & Sepal.Width & Petal.Length & Petal.Width & Species\\\\\n",
       "  & <dbl{[},1{]}> & <dbl{[},1{]}> & <dbl{[},1{]}> & <dbl{[},1{]}> & <fct>\\\\\n",
       "\\hline\n",
       "\t1 & -0.8976739 &  1.0156020 & -1.335752 & -1.311052 & setosa\\\\\n",
       "\t2 & -1.1392005 & -0.1315388 & -1.335752 & -1.311052 & setosa\\\\\n",
       "\t3 & -1.3807271 &  0.3273175 & -1.392399 & -1.311052 & setosa\\\\\n",
       "\\end{tabular}\n"
      ],
      "text/markdown": [
       "\n",
       "A data.frame: 3 × 5\n",
       "\n",
       "| <!--/--> | Sepal.Length &lt;dbl[,1]&gt; | Sepal.Width &lt;dbl[,1]&gt; | Petal.Length &lt;dbl[,1]&gt; | Petal.Width &lt;dbl[,1]&gt; | Species &lt;fct&gt; |\n",
       "|---|---|---|---|---|---|\n",
       "| 1 | -0.8976739 |  1.0156020 | -1.335752 | -1.311052 | setosa |\n",
       "| 2 | -1.1392005 | -0.1315388 | -1.335752 | -1.311052 | setosa |\n",
       "| 3 | -1.3807271 |  0.3273175 | -1.392399 | -1.311052 | setosa |\n",
       "\n"
      ],
      "text/plain": [
       "  Sepal.Length Sepal.Width Petal.Length Petal.Width Species\n",
       "1 -0.8976739    1.0156020  -1.335752    -1.311052   setosa \n",
       "2 -1.1392005   -0.1315388  -1.335752    -1.311052   setosa \n",
       "3 -1.3807271    0.3273175  -1.392399    -1.311052   setosa "
      ]
     },
     "metadata": {
      "tags": []
     },
     "output_type": "display_data"
    }
   ],
   "source": [
    "iris %>%\n",
    "    mutate_if(is.numeric, scale) %>%\n",
    "    head(n = 3)"
   ]
  },
  {
   "cell_type": "markdown",
   "metadata": {
    "id": "t5rv4bsKPDIS"
   },
   "source": [
    "## mutateとacrossとwhereを組み合わせて条件に合う列を絞ることもできる"
   ]
  },
  {
   "cell_type": "code",
   "execution_count": 45,
   "metadata": {
    "colab": {
     "base_uri": "https://localhost:8080/",
     "height": 190
    },
    "id": "CGsZDODlOlv_",
    "outputId": "600ad805-4a99-4866-c5fc-3e2cac0dabb0"
   },
   "outputs": [
    {
     "data": {
      "text/html": [
       "<table class=\"dataframe\">\n",
       "<caption>A data.frame: 3 × 5</caption>\n",
       "<thead>\n",
       "\t<tr><th></th><th scope=col>Sepal.Length</th><th scope=col>Sepal.Width</th><th scope=col>Petal.Length</th><th scope=col>Petal.Width</th><th scope=col>Species</th></tr>\n",
       "\t<tr><th></th><th scope=col>&lt;dbl[,1]&gt;</th><th scope=col>&lt;dbl[,1]&gt;</th><th scope=col>&lt;dbl[,1]&gt;</th><th scope=col>&lt;dbl[,1]&gt;</th><th scope=col>&lt;fct&gt;</th></tr>\n",
       "</thead>\n",
       "<tbody>\n",
       "\t<tr><th scope=row>1</th><td>-0.8976739</td><td> 1.0156020</td><td>-1.335752</td><td>-1.311052</td><td>setosa</td></tr>\n",
       "\t<tr><th scope=row>2</th><td>-1.1392005</td><td>-0.1315388</td><td>-1.335752</td><td>-1.311052</td><td>setosa</td></tr>\n",
       "\t<tr><th scope=row>3</th><td>-1.3807271</td><td> 0.3273175</td><td>-1.392399</td><td>-1.311052</td><td>setosa</td></tr>\n",
       "</tbody>\n",
       "</table>\n"
      ],
      "text/latex": [
       "A data.frame: 3 × 5\n",
       "\\begin{tabular}{r|lllll}\n",
       "  & Sepal.Length & Sepal.Width & Petal.Length & Petal.Width & Species\\\\\n",
       "  & <dbl{[},1{]}> & <dbl{[},1{]}> & <dbl{[},1{]}> & <dbl{[},1{]}> & <fct>\\\\\n",
       "\\hline\n",
       "\t1 & -0.8976739 &  1.0156020 & -1.335752 & -1.311052 & setosa\\\\\n",
       "\t2 & -1.1392005 & -0.1315388 & -1.335752 & -1.311052 & setosa\\\\\n",
       "\t3 & -1.3807271 &  0.3273175 & -1.392399 & -1.311052 & setosa\\\\\n",
       "\\end{tabular}\n"
      ],
      "text/markdown": [
       "\n",
       "A data.frame: 3 × 5\n",
       "\n",
       "| <!--/--> | Sepal.Length &lt;dbl[,1]&gt; | Sepal.Width &lt;dbl[,1]&gt; | Petal.Length &lt;dbl[,1]&gt; | Petal.Width &lt;dbl[,1]&gt; | Species &lt;fct&gt; |\n",
       "|---|---|---|---|---|---|\n",
       "| 1 | -0.8976739 |  1.0156020 | -1.335752 | -1.311052 | setosa |\n",
       "| 2 | -1.1392005 | -0.1315388 | -1.335752 | -1.311052 | setosa |\n",
       "| 3 | -1.3807271 |  0.3273175 | -1.392399 | -1.311052 | setosa |\n",
       "\n"
      ],
      "text/plain": [
       "  Sepal.Length Sepal.Width Petal.Length Petal.Width Species\n",
       "1 -0.8976739    1.0156020  -1.335752    -1.311052   setosa \n",
       "2 -1.1392005   -0.1315388  -1.335752    -1.311052   setosa \n",
       "3 -1.3807271    0.3273175  -1.392399    -1.311052   setosa "
      ]
     },
     "metadata": {
      "tags": []
     },
     "output_type": "display_data"
    }
   ],
   "source": [
    "iris %>%\n",
    "    mutate(across(where(is.numeric), scale)) %>% \n",
    "    head(n = 3)"
   ]
  }
 ],
 "metadata": {
  "colab": {
   "name": "mutate_multiple_columns_etc_R.ipynb",
   "provenance": [],
   "toc_visible": true
  },
  "kernelspec": {
   "display_name": "R",
   "language": "R",
   "name": "ir"
  },
  "language_info": {
   "codemirror_mode": "r",
   "file_extension": ".r",
   "mimetype": "text/x-r-source",
   "name": "R",
   "pygments_lexer": "r",
   "version": "4.0.5"
  }
 },
 "nbformat": 4,
 "nbformat_minor": 4
}
