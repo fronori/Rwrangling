{
 "cells": [
  {
   "cell_type": "code",
   "execution_count": 1,
   "metadata": {
    "colab": {
     "base_uri": "https://localhost:8080/"
    },
    "id": "cs1hvLcjHpZT",
    "outputId": "f008a9db-fe21-499b-d6db-b9c09f3fc6c2"
   },
   "outputs": [
    {
     "name": "stderr",
     "output_type": "stream",
     "text": [
      "Warning message in system(\"timedatectl\", intern = TRUE):\n",
      "“running command 'timedatectl' had status 1”\n",
      "── \u001b[1mAttaching packages\u001b[22m ─────────────────────────────────────── tidyverse 1.3.1 ──\n",
      "\n",
      "\u001b[32m✔\u001b[39m \u001b[34mggplot2\u001b[39m 3.3.3     \u001b[32m✔\u001b[39m \u001b[34mpurrr  \u001b[39m 0.3.4\n",
      "\u001b[32m✔\u001b[39m \u001b[34mtibble \u001b[39m 3.1.2     \u001b[32m✔\u001b[39m \u001b[34mdplyr  \u001b[39m 1.0.6\n",
      "\u001b[32m✔\u001b[39m \u001b[34mtidyr  \u001b[39m 1.1.3     \u001b[32m✔\u001b[39m \u001b[34mstringr\u001b[39m 1.4.0\n",
      "\u001b[32m✔\u001b[39m \u001b[34mreadr  \u001b[39m 1.4.0     \u001b[32m✔\u001b[39m \u001b[34mforcats\u001b[39m 0.5.1\n",
      "\n",
      "── \u001b[1mConflicts\u001b[22m ────────────────────────────────────────── tidyverse_conflicts() ──\n",
      "\u001b[31m✖\u001b[39m \u001b[34mdplyr\u001b[39m::\u001b[32mfilter()\u001b[39m masks \u001b[34mstats\u001b[39m::filter()\n",
      "\u001b[31m✖\u001b[39m \u001b[34mdplyr\u001b[39m::\u001b[32mlag()\u001b[39m    masks \u001b[34mstats\u001b[39m::lag()\n",
      "\n"
     ]
    }
   ],
   "source": [
    "library(tidyverse)"
   ]
  },
  {
   "cell_type": "markdown",
   "metadata": {
    "id": "n7OEb1QDI8Xi"
   },
   "source": []
  },
  {
   "cell_type": "markdown",
   "metadata": {
    "id": "A9UyO9CnIYOJ"
   },
   "source": [
    "# mutate_atの引数の指定の仕方を色々試して見る"
   ]
  },
  {
   "cell_type": "markdown",
   "metadata": {
    "id": "0wMJXYwGJcFz"
   },
   "source": [
    "vars()の中に文字列で列名を入れて見る"
   ]
  },
  {
   "cell_type": "code",
   "execution_count": 6,
   "metadata": {
    "colab": {
     "base_uri": "https://localhost:8080/",
     "height": 283
    },
    "id": "wpJUHGZiHsod",
    "outputId": "12aa2270-7208-417d-bf27-33522e7e1f04"
   },
   "outputs": [
    {
     "data": {
      "text/html": [
       "<table class=\"dataframe\">\n",
       "<caption>A data.frame: 6 × 5</caption>\n",
       "<thead>\n",
       "\t<tr><th></th><th scope=col>Sepal.Length</th><th scope=col>Sepal.Width</th><th scope=col>Petal.Length</th><th scope=col>Petal.Width</th><th scope=col>Species</th></tr>\n",
       "\t<tr><th></th><th scope=col>&lt;dbl&gt;</th><th scope=col>&lt;dbl&gt;</th><th scope=col>&lt;dbl[,1]&gt;</th><th scope=col>&lt;dbl[,1]&gt;</th><th scope=col>&lt;fct&gt;</th></tr>\n",
       "</thead>\n",
       "<tbody>\n",
       "\t<tr><th scope=row>1</th><td>5.1</td><td>3.5</td><td>-1.335752</td><td>-1.311052</td><td>setosa</td></tr>\n",
       "\t<tr><th scope=row>2</th><td>4.9</td><td>3.0</td><td>-1.335752</td><td>-1.311052</td><td>setosa</td></tr>\n",
       "\t<tr><th scope=row>3</th><td>4.7</td><td>3.2</td><td>-1.392399</td><td>-1.311052</td><td>setosa</td></tr>\n",
       "\t<tr><th scope=row>4</th><td>4.6</td><td>3.1</td><td>-1.279104</td><td>-1.311052</td><td>setosa</td></tr>\n",
       "\t<tr><th scope=row>5</th><td>5.0</td><td>3.6</td><td>-1.335752</td><td>-1.311052</td><td>setosa</td></tr>\n",
       "\t<tr><th scope=row>6</th><td>5.4</td><td>3.9</td><td>-1.165809</td><td>-1.048667</td><td>setosa</td></tr>\n",
       "</tbody>\n",
       "</table>\n"
      ],
      "text/latex": [
       "A data.frame: 6 × 5\n",
       "\\begin{tabular}{r|lllll}\n",
       "  & Sepal.Length & Sepal.Width & Petal.Length & Petal.Width & Species\\\\\n",
       "  & <dbl> & <dbl> & <dbl{[},1{]}> & <dbl{[},1{]}> & <fct>\\\\\n",
       "\\hline\n",
       "\t1 & 5.1 & 3.5 & -1.335752 & -1.311052 & setosa\\\\\n",
       "\t2 & 4.9 & 3.0 & -1.335752 & -1.311052 & setosa\\\\\n",
       "\t3 & 4.7 & 3.2 & -1.392399 & -1.311052 & setosa\\\\\n",
       "\t4 & 4.6 & 3.1 & -1.279104 & -1.311052 & setosa\\\\\n",
       "\t5 & 5.0 & 3.6 & -1.335752 & -1.311052 & setosa\\\\\n",
       "\t6 & 5.4 & 3.9 & -1.165809 & -1.048667 & setosa\\\\\n",
       "\\end{tabular}\n"
      ],
      "text/markdown": [
       "\n",
       "A data.frame: 6 × 5\n",
       "\n",
       "| <!--/--> | Sepal.Length &lt;dbl&gt; | Sepal.Width &lt;dbl&gt; | Petal.Length &lt;dbl[,1]&gt; | Petal.Width &lt;dbl[,1]&gt; | Species &lt;fct&gt; |\n",
       "|---|---|---|---|---|---|\n",
       "| 1 | 5.1 | 3.5 | -1.335752 | -1.311052 | setosa |\n",
       "| 2 | 4.9 | 3.0 | -1.335752 | -1.311052 | setosa |\n",
       "| 3 | 4.7 | 3.2 | -1.392399 | -1.311052 | setosa |\n",
       "| 4 | 4.6 | 3.1 | -1.279104 | -1.311052 | setosa |\n",
       "| 5 | 5.0 | 3.6 | -1.335752 | -1.311052 | setosa |\n",
       "| 6 | 5.4 | 3.9 | -1.165809 | -1.048667 | setosa |\n",
       "\n"
      ],
      "text/plain": [
       "  Sepal.Length Sepal.Width Petal.Length Petal.Width Species\n",
       "1 5.1          3.5         -1.335752    -1.311052   setosa \n",
       "2 4.9          3.0         -1.335752    -1.311052   setosa \n",
       "3 4.7          3.2         -1.392399    -1.311052   setosa \n",
       "4 4.6          3.1         -1.279104    -1.311052   setosa \n",
       "5 5.0          3.6         -1.335752    -1.311052   setosa \n",
       "6 5.4          3.9         -1.165809    -1.048667   setosa "
      ]
     },
     "metadata": {
      "tags": []
     },
     "output_type": "display_data"
    }
   ],
   "source": [
    "iris %>%\n",
    "    mutate_at(vars(\"Petal.Length\", \"Petal.Width\"), scale) %>%\n",
    "    head()"
   ]
  },
  {
   "cell_type": "markdown",
   "metadata": {
    "id": "1q3mY_z1JiyL"
   },
   "source": [
    "vars()の中に列の範囲を : で区切って入れて見る"
   ]
  },
  {
   "cell_type": "code",
   "execution_count": 7,
   "metadata": {
    "colab": {
     "base_uri": "https://localhost:8080/",
     "height": 283
    },
    "id": "hzDB5agdH-Na",
    "outputId": "8fd72998-a4d3-4e7b-9d26-a53b93b3b9de"
   },
   "outputs": [
    {
     "data": {
      "text/html": [
       "<table class=\"dataframe\">\n",
       "<caption>A data.frame: 6 × 5</caption>\n",
       "<thead>\n",
       "\t<tr><th></th><th scope=col>Sepal.Length</th><th scope=col>Sepal.Width</th><th scope=col>Petal.Length</th><th scope=col>Petal.Width</th><th scope=col>Species</th></tr>\n",
       "\t<tr><th></th><th scope=col>&lt;dbl&gt;</th><th scope=col>&lt;dbl&gt;</th><th scope=col>&lt;dbl[,1]&gt;</th><th scope=col>&lt;dbl[,1]&gt;</th><th scope=col>&lt;fct&gt;</th></tr>\n",
       "</thead>\n",
       "<tbody>\n",
       "\t<tr><th scope=row>1</th><td>5.1</td><td>3.5</td><td>-1.335752</td><td>-1.311052</td><td>setosa</td></tr>\n",
       "\t<tr><th scope=row>2</th><td>4.9</td><td>3.0</td><td>-1.335752</td><td>-1.311052</td><td>setosa</td></tr>\n",
       "\t<tr><th scope=row>3</th><td>4.7</td><td>3.2</td><td>-1.392399</td><td>-1.311052</td><td>setosa</td></tr>\n",
       "\t<tr><th scope=row>4</th><td>4.6</td><td>3.1</td><td>-1.279104</td><td>-1.311052</td><td>setosa</td></tr>\n",
       "\t<tr><th scope=row>5</th><td>5.0</td><td>3.6</td><td>-1.335752</td><td>-1.311052</td><td>setosa</td></tr>\n",
       "\t<tr><th scope=row>6</th><td>5.4</td><td>3.9</td><td>-1.165809</td><td>-1.048667</td><td>setosa</td></tr>\n",
       "</tbody>\n",
       "</table>\n"
      ],
      "text/latex": [
       "A data.frame: 6 × 5\n",
       "\\begin{tabular}{r|lllll}\n",
       "  & Sepal.Length & Sepal.Width & Petal.Length & Petal.Width & Species\\\\\n",
       "  & <dbl> & <dbl> & <dbl{[},1{]}> & <dbl{[},1{]}> & <fct>\\\\\n",
       "\\hline\n",
       "\t1 & 5.1 & 3.5 & -1.335752 & -1.311052 & setosa\\\\\n",
       "\t2 & 4.9 & 3.0 & -1.335752 & -1.311052 & setosa\\\\\n",
       "\t3 & 4.7 & 3.2 & -1.392399 & -1.311052 & setosa\\\\\n",
       "\t4 & 4.6 & 3.1 & -1.279104 & -1.311052 & setosa\\\\\n",
       "\t5 & 5.0 & 3.6 & -1.335752 & -1.311052 & setosa\\\\\n",
       "\t6 & 5.4 & 3.9 & -1.165809 & -1.048667 & setosa\\\\\n",
       "\\end{tabular}\n"
      ],
      "text/markdown": [
       "\n",
       "A data.frame: 6 × 5\n",
       "\n",
       "| <!--/--> | Sepal.Length &lt;dbl&gt; | Sepal.Width &lt;dbl&gt; | Petal.Length &lt;dbl[,1]&gt; | Petal.Width &lt;dbl[,1]&gt; | Species &lt;fct&gt; |\n",
       "|---|---|---|---|---|---|\n",
       "| 1 | 5.1 | 3.5 | -1.335752 | -1.311052 | setosa |\n",
       "| 2 | 4.9 | 3.0 | -1.335752 | -1.311052 | setosa |\n",
       "| 3 | 4.7 | 3.2 | -1.392399 | -1.311052 | setosa |\n",
       "| 4 | 4.6 | 3.1 | -1.279104 | -1.311052 | setosa |\n",
       "| 5 | 5.0 | 3.6 | -1.335752 | -1.311052 | setosa |\n",
       "| 6 | 5.4 | 3.9 | -1.165809 | -1.048667 | setosa |\n",
       "\n"
      ],
      "text/plain": [
       "  Sepal.Length Sepal.Width Petal.Length Petal.Width Species\n",
       "1 5.1          3.5         -1.335752    -1.311052   setosa \n",
       "2 4.9          3.0         -1.335752    -1.311052   setosa \n",
       "3 4.7          3.2         -1.392399    -1.311052   setosa \n",
       "4 4.6          3.1         -1.279104    -1.311052   setosa \n",
       "5 5.0          3.6         -1.335752    -1.311052   setosa \n",
       "6 5.4          3.9         -1.165809    -1.048667   setosa "
      ]
     },
     "metadata": {
      "tags": []
     },
     "output_type": "display_data"
    }
   ],
   "source": [
    "iris %>%\n",
    "    mutate_at(vars(Petal.Length:Petal.Width), scale) %>%\n",
    "    head()"
   ]
  },
  {
   "cell_type": "markdown",
   "metadata": {
    "id": "llwW4awOJorF"
   },
   "source": [
    "vars()の中に \"Petal\"で始まる列を starts_with()を使って指定してみる"
   ]
  },
  {
   "cell_type": "code",
   "execution_count": 11,
   "metadata": {
    "colab": {
     "base_uri": "https://localhost:8080/",
     "height": 283
    },
    "id": "YLawPd99IH1-",
    "outputId": "afcc983d-83b5-4f24-c520-7ea9d39d11db"
   },
   "outputs": [
    {
     "data": {
      "text/html": [
       "<table class=\"dataframe\">\n",
       "<caption>A data.frame: 6 × 5</caption>\n",
       "<thead>\n",
       "\t<tr><th></th><th scope=col>Sepal.Length</th><th scope=col>Sepal.Width</th><th scope=col>Petal.Length</th><th scope=col>Petal.Width</th><th scope=col>Species</th></tr>\n",
       "\t<tr><th></th><th scope=col>&lt;dbl&gt;</th><th scope=col>&lt;dbl&gt;</th><th scope=col>&lt;dbl[,1]&gt;</th><th scope=col>&lt;dbl[,1]&gt;</th><th scope=col>&lt;fct&gt;</th></tr>\n",
       "</thead>\n",
       "<tbody>\n",
       "\t<tr><th scope=row>1</th><td>5.1</td><td>3.5</td><td>-1.335752</td><td>-1.311052</td><td>setosa</td></tr>\n",
       "\t<tr><th scope=row>2</th><td>4.9</td><td>3.0</td><td>-1.335752</td><td>-1.311052</td><td>setosa</td></tr>\n",
       "\t<tr><th scope=row>3</th><td>4.7</td><td>3.2</td><td>-1.392399</td><td>-1.311052</td><td>setosa</td></tr>\n",
       "\t<tr><th scope=row>4</th><td>4.6</td><td>3.1</td><td>-1.279104</td><td>-1.311052</td><td>setosa</td></tr>\n",
       "\t<tr><th scope=row>5</th><td>5.0</td><td>3.6</td><td>-1.335752</td><td>-1.311052</td><td>setosa</td></tr>\n",
       "\t<tr><th scope=row>6</th><td>5.4</td><td>3.9</td><td>-1.165809</td><td>-1.048667</td><td>setosa</td></tr>\n",
       "</tbody>\n",
       "</table>\n"
      ],
      "text/latex": [
       "A data.frame: 6 × 5\n",
       "\\begin{tabular}{r|lllll}\n",
       "  & Sepal.Length & Sepal.Width & Petal.Length & Petal.Width & Species\\\\\n",
       "  & <dbl> & <dbl> & <dbl{[},1{]}> & <dbl{[},1{]}> & <fct>\\\\\n",
       "\\hline\n",
       "\t1 & 5.1 & 3.5 & -1.335752 & -1.311052 & setosa\\\\\n",
       "\t2 & 4.9 & 3.0 & -1.335752 & -1.311052 & setosa\\\\\n",
       "\t3 & 4.7 & 3.2 & -1.392399 & -1.311052 & setosa\\\\\n",
       "\t4 & 4.6 & 3.1 & -1.279104 & -1.311052 & setosa\\\\\n",
       "\t5 & 5.0 & 3.6 & -1.335752 & -1.311052 & setosa\\\\\n",
       "\t6 & 5.4 & 3.9 & -1.165809 & -1.048667 & setosa\\\\\n",
       "\\end{tabular}\n"
      ],
      "text/markdown": [
       "\n",
       "A data.frame: 6 × 5\n",
       "\n",
       "| <!--/--> | Sepal.Length &lt;dbl&gt; | Sepal.Width &lt;dbl&gt; | Petal.Length &lt;dbl[,1]&gt; | Petal.Width &lt;dbl[,1]&gt; | Species &lt;fct&gt; |\n",
       "|---|---|---|---|---|---|\n",
       "| 1 | 5.1 | 3.5 | -1.335752 | -1.311052 | setosa |\n",
       "| 2 | 4.9 | 3.0 | -1.335752 | -1.311052 | setosa |\n",
       "| 3 | 4.7 | 3.2 | -1.392399 | -1.311052 | setosa |\n",
       "| 4 | 4.6 | 3.1 | -1.279104 | -1.311052 | setosa |\n",
       "| 5 | 5.0 | 3.6 | -1.335752 | -1.311052 | setosa |\n",
       "| 6 | 5.4 | 3.9 | -1.165809 | -1.048667 | setosa |\n",
       "\n"
      ],
      "text/plain": [
       "  Sepal.Length Sepal.Width Petal.Length Petal.Width Species\n",
       "1 5.1          3.5         -1.335752    -1.311052   setosa \n",
       "2 4.9          3.0         -1.335752    -1.311052   setosa \n",
       "3 4.7          3.2         -1.392399    -1.311052   setosa \n",
       "4 4.6          3.1         -1.279104    -1.311052   setosa \n",
       "5 5.0          3.6         -1.335752    -1.311052   setosa \n",
       "6 5.4          3.9         -1.165809    -1.048667   setosa "
      ]
     },
     "metadata": {
      "tags": []
     },
     "output_type": "display_data"
    }
   ],
   "source": [
    "iris %>%\n",
    "    mutate_at(vars(starts_with(\"Petal\")), scale) %>%\n",
    "    head()"
   ]
  },
  {
   "cell_type": "markdown",
   "metadata": {
    "id": "4yVxQm8VJzmF"
   },
   "source": [
    "適用する関数の引数であることを明示するために、 .funs = を加えみる"
   ]
  },
  {
   "cell_type": "code",
   "execution_count": 17,
   "metadata": {
    "colab": {
     "base_uri": "https://localhost:8080/",
     "height": 283
    },
    "id": "VrKCi_NRINrt",
    "outputId": "4a112e92-16e8-485b-85b4-eac708c0e382"
   },
   "outputs": [
    {
     "data": {
      "text/html": [
       "<table class=\"dataframe\">\n",
       "<caption>A data.frame: 6 × 5</caption>\n",
       "<thead>\n",
       "\t<tr><th></th><th scope=col>Sepal.Length</th><th scope=col>Sepal.Width</th><th scope=col>Petal.Length</th><th scope=col>Petal.Width</th><th scope=col>Species</th></tr>\n",
       "\t<tr><th></th><th scope=col>&lt;dbl&gt;</th><th scope=col>&lt;dbl&gt;</th><th scope=col>&lt;dbl[,1]&gt;</th><th scope=col>&lt;dbl[,1]&gt;</th><th scope=col>&lt;fct&gt;</th></tr>\n",
       "</thead>\n",
       "<tbody>\n",
       "\t<tr><th scope=row>1</th><td>5.1</td><td>3.5</td><td>-1.335752</td><td>-1.311052</td><td>setosa</td></tr>\n",
       "\t<tr><th scope=row>2</th><td>4.9</td><td>3.0</td><td>-1.335752</td><td>-1.311052</td><td>setosa</td></tr>\n",
       "\t<tr><th scope=row>3</th><td>4.7</td><td>3.2</td><td>-1.392399</td><td>-1.311052</td><td>setosa</td></tr>\n",
       "\t<tr><th scope=row>4</th><td>4.6</td><td>3.1</td><td>-1.279104</td><td>-1.311052</td><td>setosa</td></tr>\n",
       "\t<tr><th scope=row>5</th><td>5.0</td><td>3.6</td><td>-1.335752</td><td>-1.311052</td><td>setosa</td></tr>\n",
       "\t<tr><th scope=row>6</th><td>5.4</td><td>3.9</td><td>-1.165809</td><td>-1.048667</td><td>setosa</td></tr>\n",
       "</tbody>\n",
       "</table>\n"
      ],
      "text/latex": [
       "A data.frame: 6 × 5\n",
       "\\begin{tabular}{r|lllll}\n",
       "  & Sepal.Length & Sepal.Width & Petal.Length & Petal.Width & Species\\\\\n",
       "  & <dbl> & <dbl> & <dbl{[},1{]}> & <dbl{[},1{]}> & <fct>\\\\\n",
       "\\hline\n",
       "\t1 & 5.1 & 3.5 & -1.335752 & -1.311052 & setosa\\\\\n",
       "\t2 & 4.9 & 3.0 & -1.335752 & -1.311052 & setosa\\\\\n",
       "\t3 & 4.7 & 3.2 & -1.392399 & -1.311052 & setosa\\\\\n",
       "\t4 & 4.6 & 3.1 & -1.279104 & -1.311052 & setosa\\\\\n",
       "\t5 & 5.0 & 3.6 & -1.335752 & -1.311052 & setosa\\\\\n",
       "\t6 & 5.4 & 3.9 & -1.165809 & -1.048667 & setosa\\\\\n",
       "\\end{tabular}\n"
      ],
      "text/markdown": [
       "\n",
       "A data.frame: 6 × 5\n",
       "\n",
       "| <!--/--> | Sepal.Length &lt;dbl&gt; | Sepal.Width &lt;dbl&gt; | Petal.Length &lt;dbl[,1]&gt; | Petal.Width &lt;dbl[,1]&gt; | Species &lt;fct&gt; |\n",
       "|---|---|---|---|---|---|\n",
       "| 1 | 5.1 | 3.5 | -1.335752 | -1.311052 | setosa |\n",
       "| 2 | 4.9 | 3.0 | -1.335752 | -1.311052 | setosa |\n",
       "| 3 | 4.7 | 3.2 | -1.392399 | -1.311052 | setosa |\n",
       "| 4 | 4.6 | 3.1 | -1.279104 | -1.311052 | setosa |\n",
       "| 5 | 5.0 | 3.6 | -1.335752 | -1.311052 | setosa |\n",
       "| 6 | 5.4 | 3.9 | -1.165809 | -1.048667 | setosa |\n",
       "\n"
      ],
      "text/plain": [
       "  Sepal.Length Sepal.Width Petal.Length Petal.Width Species\n",
       "1 5.1          3.5         -1.335752    -1.311052   setosa \n",
       "2 4.9          3.0         -1.335752    -1.311052   setosa \n",
       "3 4.7          3.2         -1.392399    -1.311052   setosa \n",
       "4 4.6          3.1         -1.279104    -1.311052   setosa \n",
       "5 5.0          3.6         -1.335752    -1.311052   setosa \n",
       "6 5.4          3.9         -1.165809    -1.048667   setosa "
      ]
     },
     "metadata": {
      "tags": []
     },
     "output_type": "display_data"
    }
   ],
   "source": [
    "iris %>%\n",
    "    mutate_at(vars(starts_with(\"Petal\")), .funs = scale) %>%\n",
    "    head()"
   ]
  },
  {
   "cell_type": "markdown",
   "metadata": {
    "id": "KS-NBG5hLqOR"
   },
   "source": [
    "vars()の中で-Species で指定してみる。"
   ]
  },
  {
   "cell_type": "code",
   "execution_count": 36,
   "metadata": {
    "colab": {
     "base_uri": "https://localhost:8080/",
     "height": 283
    },
    "id": "SMbDARQAJyu2",
    "outputId": "42b16862-a781-46d6-fb87-13719d3aa249"
   },
   "outputs": [
    {
     "data": {
      "text/html": [
       "<table class=\"dataframe\">\n",
       "<caption>A data.frame: 6 × 5</caption>\n",
       "<thead>\n",
       "\t<tr><th></th><th scope=col>Sepal.Length</th><th scope=col>Sepal.Width</th><th scope=col>Petal.Length</th><th scope=col>Petal.Width</th><th scope=col>Species</th></tr>\n",
       "\t<tr><th></th><th scope=col>&lt;dbl[,1]&gt;</th><th scope=col>&lt;dbl[,1]&gt;</th><th scope=col>&lt;dbl[,1]&gt;</th><th scope=col>&lt;dbl[,1]&gt;</th><th scope=col>&lt;fct&gt;</th></tr>\n",
       "</thead>\n",
       "<tbody>\n",
       "\t<tr><th scope=row>1</th><td>-0.8976739</td><td> 1.01560199</td><td>-1.335752</td><td>-1.311052</td><td>setosa</td></tr>\n",
       "\t<tr><th scope=row>2</th><td>-1.1392005</td><td>-0.13153881</td><td>-1.335752</td><td>-1.311052</td><td>setosa</td></tr>\n",
       "\t<tr><th scope=row>3</th><td>-1.3807271</td><td> 0.32731751</td><td>-1.392399</td><td>-1.311052</td><td>setosa</td></tr>\n",
       "\t<tr><th scope=row>4</th><td>-1.5014904</td><td> 0.09788935</td><td>-1.279104</td><td>-1.311052</td><td>setosa</td></tr>\n",
       "\t<tr><th scope=row>5</th><td>-1.0184372</td><td> 1.24503015</td><td>-1.335752</td><td>-1.311052</td><td>setosa</td></tr>\n",
       "\t<tr><th scope=row>6</th><td>-0.5353840</td><td> 1.93331463</td><td>-1.165809</td><td>-1.048667</td><td>setosa</td></tr>\n",
       "</tbody>\n",
       "</table>\n"
      ],
      "text/latex": [
       "A data.frame: 6 × 5\n",
       "\\begin{tabular}{r|lllll}\n",
       "  & Sepal.Length & Sepal.Width & Petal.Length & Petal.Width & Species\\\\\n",
       "  & <dbl{[},1{]}> & <dbl{[},1{]}> & <dbl{[},1{]}> & <dbl{[},1{]}> & <fct>\\\\\n",
       "\\hline\n",
       "\t1 & -0.8976739 &  1.01560199 & -1.335752 & -1.311052 & setosa\\\\\n",
       "\t2 & -1.1392005 & -0.13153881 & -1.335752 & -1.311052 & setosa\\\\\n",
       "\t3 & -1.3807271 &  0.32731751 & -1.392399 & -1.311052 & setosa\\\\\n",
       "\t4 & -1.5014904 &  0.09788935 & -1.279104 & -1.311052 & setosa\\\\\n",
       "\t5 & -1.0184372 &  1.24503015 & -1.335752 & -1.311052 & setosa\\\\\n",
       "\t6 & -0.5353840 &  1.93331463 & -1.165809 & -1.048667 & setosa\\\\\n",
       "\\end{tabular}\n"
      ],
      "text/markdown": [
       "\n",
       "A data.frame: 6 × 5\n",
       "\n",
       "| <!--/--> | Sepal.Length &lt;dbl[,1]&gt; | Sepal.Width &lt;dbl[,1]&gt; | Petal.Length &lt;dbl[,1]&gt; | Petal.Width &lt;dbl[,1]&gt; | Species &lt;fct&gt; |\n",
       "|---|---|---|---|---|---|\n",
       "| 1 | -0.8976739 |  1.01560199 | -1.335752 | -1.311052 | setosa |\n",
       "| 2 | -1.1392005 | -0.13153881 | -1.335752 | -1.311052 | setosa |\n",
       "| 3 | -1.3807271 |  0.32731751 | -1.392399 | -1.311052 | setosa |\n",
       "| 4 | -1.5014904 |  0.09788935 | -1.279104 | -1.311052 | setosa |\n",
       "| 5 | -1.0184372 |  1.24503015 | -1.335752 | -1.311052 | setosa |\n",
       "| 6 | -0.5353840 |  1.93331463 | -1.165809 | -1.048667 | setosa |\n",
       "\n"
      ],
      "text/plain": [
       "  Sepal.Length Sepal.Width Petal.Length Petal.Width Species\n",
       "1 -0.8976739    1.01560199 -1.335752    -1.311052   setosa \n",
       "2 -1.1392005   -0.13153881 -1.335752    -1.311052   setosa \n",
       "3 -1.3807271    0.32731751 -1.392399    -1.311052   setosa \n",
       "4 -1.5014904    0.09788935 -1.279104    -1.311052   setosa \n",
       "5 -1.0184372    1.24503015 -1.335752    -1.311052   setosa \n",
       "6 -0.5353840    1.93331463 -1.165809    -1.048667   setosa "
      ]
     },
     "metadata": {
      "tags": []
     },
     "output_type": "display_data"
    }
   ],
   "source": [
    "iris %>%\n",
    "    mutate_at(vars(-Species), scale) %>%\n",
    "    head()"
   ]
  },
  {
   "cell_type": "markdown",
   "metadata": {
    "id": "GktYWj51N69v"
   },
   "source": [
    "\"Species\"を文字列で指定しても大丈夫みたいだ"
   ]
  },
  {
   "cell_type": "code",
   "execution_count": 37,
   "metadata": {
    "colab": {
     "base_uri": "https://localhost:8080/",
     "height": 283
    },
    "id": "TRAu7GAzJ_xS",
    "outputId": "254cad57-f304-47f1-c239-d20d1aa1ba62"
   },
   "outputs": [
    {
     "data": {
      "text/html": [
       "<table class=\"dataframe\">\n",
       "<caption>A data.frame: 6 × 5</caption>\n",
       "<thead>\n",
       "\t<tr><th></th><th scope=col>Sepal.Length</th><th scope=col>Sepal.Width</th><th scope=col>Petal.Length</th><th scope=col>Petal.Width</th><th scope=col>Species</th></tr>\n",
       "\t<tr><th></th><th scope=col>&lt;dbl[,1]&gt;</th><th scope=col>&lt;dbl[,1]&gt;</th><th scope=col>&lt;dbl[,1]&gt;</th><th scope=col>&lt;dbl[,1]&gt;</th><th scope=col>&lt;fct&gt;</th></tr>\n",
       "</thead>\n",
       "<tbody>\n",
       "\t<tr><th scope=row>1</th><td>-0.8976739</td><td> 1.01560199</td><td>-1.335752</td><td>-1.311052</td><td>setosa</td></tr>\n",
       "\t<tr><th scope=row>2</th><td>-1.1392005</td><td>-0.13153881</td><td>-1.335752</td><td>-1.311052</td><td>setosa</td></tr>\n",
       "\t<tr><th scope=row>3</th><td>-1.3807271</td><td> 0.32731751</td><td>-1.392399</td><td>-1.311052</td><td>setosa</td></tr>\n",
       "\t<tr><th scope=row>4</th><td>-1.5014904</td><td> 0.09788935</td><td>-1.279104</td><td>-1.311052</td><td>setosa</td></tr>\n",
       "\t<tr><th scope=row>5</th><td>-1.0184372</td><td> 1.24503015</td><td>-1.335752</td><td>-1.311052</td><td>setosa</td></tr>\n",
       "\t<tr><th scope=row>6</th><td>-0.5353840</td><td> 1.93331463</td><td>-1.165809</td><td>-1.048667</td><td>setosa</td></tr>\n",
       "</tbody>\n",
       "</table>\n"
      ],
      "text/latex": [
       "A data.frame: 6 × 5\n",
       "\\begin{tabular}{r|lllll}\n",
       "  & Sepal.Length & Sepal.Width & Petal.Length & Petal.Width & Species\\\\\n",
       "  & <dbl{[},1{]}> & <dbl{[},1{]}> & <dbl{[},1{]}> & <dbl{[},1{]}> & <fct>\\\\\n",
       "\\hline\n",
       "\t1 & -0.8976739 &  1.01560199 & -1.335752 & -1.311052 & setosa\\\\\n",
       "\t2 & -1.1392005 & -0.13153881 & -1.335752 & -1.311052 & setosa\\\\\n",
       "\t3 & -1.3807271 &  0.32731751 & -1.392399 & -1.311052 & setosa\\\\\n",
       "\t4 & -1.5014904 &  0.09788935 & -1.279104 & -1.311052 & setosa\\\\\n",
       "\t5 & -1.0184372 &  1.24503015 & -1.335752 & -1.311052 & setosa\\\\\n",
       "\t6 & -0.5353840 &  1.93331463 & -1.165809 & -1.048667 & setosa\\\\\n",
       "\\end{tabular}\n"
      ],
      "text/markdown": [
       "\n",
       "A data.frame: 6 × 5\n",
       "\n",
       "| <!--/--> | Sepal.Length &lt;dbl[,1]&gt; | Sepal.Width &lt;dbl[,1]&gt; | Petal.Length &lt;dbl[,1]&gt; | Petal.Width &lt;dbl[,1]&gt; | Species &lt;fct&gt; |\n",
       "|---|---|---|---|---|---|\n",
       "| 1 | -0.8976739 |  1.01560199 | -1.335752 | -1.311052 | setosa |\n",
       "| 2 | -1.1392005 | -0.13153881 | -1.335752 | -1.311052 | setosa |\n",
       "| 3 | -1.3807271 |  0.32731751 | -1.392399 | -1.311052 | setosa |\n",
       "| 4 | -1.5014904 |  0.09788935 | -1.279104 | -1.311052 | setosa |\n",
       "| 5 | -1.0184372 |  1.24503015 | -1.335752 | -1.311052 | setosa |\n",
       "| 6 | -0.5353840 |  1.93331463 | -1.165809 | -1.048667 | setosa |\n",
       "\n"
      ],
      "text/plain": [
       "  Sepal.Length Sepal.Width Petal.Length Petal.Width Species\n",
       "1 -0.8976739    1.01560199 -1.335752    -1.311052   setosa \n",
       "2 -1.1392005   -0.13153881 -1.335752    -1.311052   setosa \n",
       "3 -1.3807271    0.32731751 -1.392399    -1.311052   setosa \n",
       "4 -1.5014904    0.09788935 -1.279104    -1.311052   setosa \n",
       "5 -1.0184372    1.24503015 -1.335752    -1.311052   setosa \n",
       "6 -0.5353840    1.93331463 -1.165809    -1.048667   setosa "
      ]
     },
     "metadata": {
      "tags": []
     },
     "output_type": "display_data"
    }
   ],
   "source": [
    "iris %>%\n",
    "    mutate_at(vars(-\"Species\"), scale) %>%\n",
    "    head()"
   ]
  },
  {
   "cell_type": "markdown",
   "metadata": {
    "id": "iHXsN411NUuh"
   },
   "source": [
    "## mutate_atを使う代わりに、mutateを使う場合は、across()と組み合わせると複数列を選択できる"
   ]
  },
  {
   "cell_type": "code",
   "execution_count": 47,
   "metadata": {
    "colab": {
     "base_uri": "https://localhost:8080/",
     "height": 283
    },
    "id": "WoBLuUX0Musj",
    "outputId": "e5fd9064-78a7-4f13-c76e-b4a31964b9a6"
   },
   "outputs": [
    {
     "data": {
      "text/html": [
       "<table class=\"dataframe\">\n",
       "<caption>A data.frame: 6 × 5</caption>\n",
       "<thead>\n",
       "\t<tr><th></th><th scope=col>Sepal.Length</th><th scope=col>Sepal.Width</th><th scope=col>Petal.Length</th><th scope=col>Petal.Width</th><th scope=col>Species</th></tr>\n",
       "\t<tr><th></th><th scope=col>&lt;dbl&gt;</th><th scope=col>&lt;dbl[,1]&gt;</th><th scope=col>&lt;dbl&gt;</th><th scope=col>&lt;dbl[,1]&gt;</th><th scope=col>&lt;fct&gt;</th></tr>\n",
       "</thead>\n",
       "<tbody>\n",
       "\t<tr><th scope=row>1</th><td>5.1</td><td> 1.01560199</td><td>1.4</td><td>-1.311052</td><td>setosa</td></tr>\n",
       "\t<tr><th scope=row>2</th><td>4.9</td><td>-0.13153881</td><td>1.4</td><td>-1.311052</td><td>setosa</td></tr>\n",
       "\t<tr><th scope=row>3</th><td>4.7</td><td> 0.32731751</td><td>1.3</td><td>-1.311052</td><td>setosa</td></tr>\n",
       "\t<tr><th scope=row>4</th><td>4.6</td><td> 0.09788935</td><td>1.5</td><td>-1.311052</td><td>setosa</td></tr>\n",
       "\t<tr><th scope=row>5</th><td>5.0</td><td> 1.24503015</td><td>1.4</td><td>-1.311052</td><td>setosa</td></tr>\n",
       "\t<tr><th scope=row>6</th><td>5.4</td><td> 1.93331463</td><td>1.7</td><td>-1.048667</td><td>setosa</td></tr>\n",
       "</tbody>\n",
       "</table>\n"
      ],
      "text/latex": [
       "A data.frame: 6 × 5\n",
       "\\begin{tabular}{r|lllll}\n",
       "  & Sepal.Length & Sepal.Width & Petal.Length & Petal.Width & Species\\\\\n",
       "  & <dbl> & <dbl{[},1{]}> & <dbl> & <dbl{[},1{]}> & <fct>\\\\\n",
       "\\hline\n",
       "\t1 & 5.1 &  1.01560199 & 1.4 & -1.311052 & setosa\\\\\n",
       "\t2 & 4.9 & -0.13153881 & 1.4 & -1.311052 & setosa\\\\\n",
       "\t3 & 4.7 &  0.32731751 & 1.3 & -1.311052 & setosa\\\\\n",
       "\t4 & 4.6 &  0.09788935 & 1.5 & -1.311052 & setosa\\\\\n",
       "\t5 & 5.0 &  1.24503015 & 1.4 & -1.311052 & setosa\\\\\n",
       "\t6 & 5.4 &  1.93331463 & 1.7 & -1.048667 & setosa\\\\\n",
       "\\end{tabular}\n"
      ],
      "text/markdown": [
       "\n",
       "A data.frame: 6 × 5\n",
       "\n",
       "| <!--/--> | Sepal.Length &lt;dbl&gt; | Sepal.Width &lt;dbl[,1]&gt; | Petal.Length &lt;dbl&gt; | Petal.Width &lt;dbl[,1]&gt; | Species &lt;fct&gt; |\n",
       "|---|---|---|---|---|---|\n",
       "| 1 | 5.1 |  1.01560199 | 1.4 | -1.311052 | setosa |\n",
       "| 2 | 4.9 | -0.13153881 | 1.4 | -1.311052 | setosa |\n",
       "| 3 | 4.7 |  0.32731751 | 1.3 | -1.311052 | setosa |\n",
       "| 4 | 4.6 |  0.09788935 | 1.5 | -1.311052 | setosa |\n",
       "| 5 | 5.0 |  1.24503015 | 1.4 | -1.311052 | setosa |\n",
       "| 6 | 5.4 |  1.93331463 | 1.7 | -1.048667 | setosa |\n",
       "\n"
      ],
      "text/plain": [
       "  Sepal.Length Sepal.Width Petal.Length Petal.Width Species\n",
       "1 5.1           1.01560199 1.4          -1.311052   setosa \n",
       "2 4.9          -0.13153881 1.4          -1.311052   setosa \n",
       "3 4.7           0.32731751 1.3          -1.311052   setosa \n",
       "4 4.6           0.09788935 1.5          -1.311052   setosa \n",
       "5 5.0           1.24503015 1.4          -1.311052   setosa \n",
       "6 5.4           1.93331463 1.7          -1.048667   setosa "
      ]
     },
     "metadata": {
      "tags": []
     },
     "output_type": "display_data"
    }
   ],
   "source": [
    "iris %>%\n",
    "    mutate(across(c(\"Sepal.Width\", \"Petal.Width\"), scale)) %>%\n",
    "    head()"
   ]
  },
  {
   "cell_type": "markdown",
   "metadata": {
    "id": "islo_pEzObFv"
   },
   "source": [
    "## 数値列のみなどの条件で絞る場合は、mutate_ifも使える場合がある"
   ]
  },
  {
   "cell_type": "code",
   "execution_count": 50,
   "metadata": {
    "colab": {
     "base_uri": "https://localhost:8080/",
     "height": 283
    },
    "id": "m97rzl09OUvc",
    "outputId": "c6eb7c9c-df5a-410b-9e34-82cacd74913f"
   },
   "outputs": [
    {
     "data": {
      "text/html": [
       "<table class=\"dataframe\">\n",
       "<caption>A data.frame: 6 × 5</caption>\n",
       "<thead>\n",
       "\t<tr><th></th><th scope=col>Sepal.Length</th><th scope=col>Sepal.Width</th><th scope=col>Petal.Length</th><th scope=col>Petal.Width</th><th scope=col>Species</th></tr>\n",
       "\t<tr><th></th><th scope=col>&lt;dbl[,1]&gt;</th><th scope=col>&lt;dbl[,1]&gt;</th><th scope=col>&lt;dbl[,1]&gt;</th><th scope=col>&lt;dbl[,1]&gt;</th><th scope=col>&lt;fct&gt;</th></tr>\n",
       "</thead>\n",
       "<tbody>\n",
       "\t<tr><th scope=row>1</th><td>-0.8976739</td><td> 1.01560199</td><td>-1.335752</td><td>-1.311052</td><td>setosa</td></tr>\n",
       "\t<tr><th scope=row>2</th><td>-1.1392005</td><td>-0.13153881</td><td>-1.335752</td><td>-1.311052</td><td>setosa</td></tr>\n",
       "\t<tr><th scope=row>3</th><td>-1.3807271</td><td> 0.32731751</td><td>-1.392399</td><td>-1.311052</td><td>setosa</td></tr>\n",
       "\t<tr><th scope=row>4</th><td>-1.5014904</td><td> 0.09788935</td><td>-1.279104</td><td>-1.311052</td><td>setosa</td></tr>\n",
       "\t<tr><th scope=row>5</th><td>-1.0184372</td><td> 1.24503015</td><td>-1.335752</td><td>-1.311052</td><td>setosa</td></tr>\n",
       "\t<tr><th scope=row>6</th><td>-0.5353840</td><td> 1.93331463</td><td>-1.165809</td><td>-1.048667</td><td>setosa</td></tr>\n",
       "</tbody>\n",
       "</table>\n"
      ],
      "text/latex": [
       "A data.frame: 6 × 5\n",
       "\\begin{tabular}{r|lllll}\n",
       "  & Sepal.Length & Sepal.Width & Petal.Length & Petal.Width & Species\\\\\n",
       "  & <dbl{[},1{]}> & <dbl{[},1{]}> & <dbl{[},1{]}> & <dbl{[},1{]}> & <fct>\\\\\n",
       "\\hline\n",
       "\t1 & -0.8976739 &  1.01560199 & -1.335752 & -1.311052 & setosa\\\\\n",
       "\t2 & -1.1392005 & -0.13153881 & -1.335752 & -1.311052 & setosa\\\\\n",
       "\t3 & -1.3807271 &  0.32731751 & -1.392399 & -1.311052 & setosa\\\\\n",
       "\t4 & -1.5014904 &  0.09788935 & -1.279104 & -1.311052 & setosa\\\\\n",
       "\t5 & -1.0184372 &  1.24503015 & -1.335752 & -1.311052 & setosa\\\\\n",
       "\t6 & -0.5353840 &  1.93331463 & -1.165809 & -1.048667 & setosa\\\\\n",
       "\\end{tabular}\n"
      ],
      "text/markdown": [
       "\n",
       "A data.frame: 6 × 5\n",
       "\n",
       "| <!--/--> | Sepal.Length &lt;dbl[,1]&gt; | Sepal.Width &lt;dbl[,1]&gt; | Petal.Length &lt;dbl[,1]&gt; | Petal.Width &lt;dbl[,1]&gt; | Species &lt;fct&gt; |\n",
       "|---|---|---|---|---|---|\n",
       "| 1 | -0.8976739 |  1.01560199 | -1.335752 | -1.311052 | setosa |\n",
       "| 2 | -1.1392005 | -0.13153881 | -1.335752 | -1.311052 | setosa |\n",
       "| 3 | -1.3807271 |  0.32731751 | -1.392399 | -1.311052 | setosa |\n",
       "| 4 | -1.5014904 |  0.09788935 | -1.279104 | -1.311052 | setosa |\n",
       "| 5 | -1.0184372 |  1.24503015 | -1.335752 | -1.311052 | setosa |\n",
       "| 6 | -0.5353840 |  1.93331463 | -1.165809 | -1.048667 | setosa |\n",
       "\n"
      ],
      "text/plain": [
       "  Sepal.Length Sepal.Width Petal.Length Petal.Width Species\n",
       "1 -0.8976739    1.01560199 -1.335752    -1.311052   setosa \n",
       "2 -1.1392005   -0.13153881 -1.335752    -1.311052   setosa \n",
       "3 -1.3807271    0.32731751 -1.392399    -1.311052   setosa \n",
       "4 -1.5014904    0.09788935 -1.279104    -1.311052   setosa \n",
       "5 -1.0184372    1.24503015 -1.335752    -1.311052   setosa \n",
       "6 -0.5353840    1.93331463 -1.165809    -1.048667   setosa "
      ]
     },
     "metadata": {
      "tags": []
     },
     "output_type": "display_data"
    }
   ],
   "source": [
    "iris %>%\n",
    "    mutate_if(is.numeric, scale) %>%\n",
    "    head()"
   ]
  },
  {
   "cell_type": "markdown",
   "metadata": {
    "id": "t5rv4bsKPDIS"
   },
   "source": [
    "## mutateとacrossとwhereを組み合わせて条件に合う列を絞ることもできる"
   ]
  },
  {
   "cell_type": "code",
   "execution_count": 57,
   "metadata": {
    "colab": {
     "base_uri": "https://localhost:8080/",
     "height": 283
    },
    "id": "CGsZDODlOlv_",
    "outputId": "5a292c52-76b4-4f67-ebc4-27d858b65a3a"
   },
   "outputs": [
    {
     "data": {
      "text/html": [
       "<table class=\"dataframe\">\n",
       "<caption>A data.frame: 6 × 5</caption>\n",
       "<thead>\n",
       "\t<tr><th></th><th scope=col>Sepal.Length</th><th scope=col>Sepal.Width</th><th scope=col>Petal.Length</th><th scope=col>Petal.Width</th><th scope=col>Species</th></tr>\n",
       "\t<tr><th></th><th scope=col>&lt;dbl[,1]&gt;</th><th scope=col>&lt;dbl[,1]&gt;</th><th scope=col>&lt;dbl[,1]&gt;</th><th scope=col>&lt;dbl[,1]&gt;</th><th scope=col>&lt;fct&gt;</th></tr>\n",
       "</thead>\n",
       "<tbody>\n",
       "\t<tr><th scope=row>1</th><td>-0.8976739</td><td> 1.01560199</td><td>-1.335752</td><td>-1.311052</td><td>setosa</td></tr>\n",
       "\t<tr><th scope=row>2</th><td>-1.1392005</td><td>-0.13153881</td><td>-1.335752</td><td>-1.311052</td><td>setosa</td></tr>\n",
       "\t<tr><th scope=row>3</th><td>-1.3807271</td><td> 0.32731751</td><td>-1.392399</td><td>-1.311052</td><td>setosa</td></tr>\n",
       "\t<tr><th scope=row>4</th><td>-1.5014904</td><td> 0.09788935</td><td>-1.279104</td><td>-1.311052</td><td>setosa</td></tr>\n",
       "\t<tr><th scope=row>5</th><td>-1.0184372</td><td> 1.24503015</td><td>-1.335752</td><td>-1.311052</td><td>setosa</td></tr>\n",
       "\t<tr><th scope=row>6</th><td>-0.5353840</td><td> 1.93331463</td><td>-1.165809</td><td>-1.048667</td><td>setosa</td></tr>\n",
       "</tbody>\n",
       "</table>\n"
      ],
      "text/latex": [
       "A data.frame: 6 × 5\n",
       "\\begin{tabular}{r|lllll}\n",
       "  & Sepal.Length & Sepal.Width & Petal.Length & Petal.Width & Species\\\\\n",
       "  & <dbl{[},1{]}> & <dbl{[},1{]}> & <dbl{[},1{]}> & <dbl{[},1{]}> & <fct>\\\\\n",
       "\\hline\n",
       "\t1 & -0.8976739 &  1.01560199 & -1.335752 & -1.311052 & setosa\\\\\n",
       "\t2 & -1.1392005 & -0.13153881 & -1.335752 & -1.311052 & setosa\\\\\n",
       "\t3 & -1.3807271 &  0.32731751 & -1.392399 & -1.311052 & setosa\\\\\n",
       "\t4 & -1.5014904 &  0.09788935 & -1.279104 & -1.311052 & setosa\\\\\n",
       "\t5 & -1.0184372 &  1.24503015 & -1.335752 & -1.311052 & setosa\\\\\n",
       "\t6 & -0.5353840 &  1.93331463 & -1.165809 & -1.048667 & setosa\\\\\n",
       "\\end{tabular}\n"
      ],
      "text/markdown": [
       "\n",
       "A data.frame: 6 × 5\n",
       "\n",
       "| <!--/--> | Sepal.Length &lt;dbl[,1]&gt; | Sepal.Width &lt;dbl[,1]&gt; | Petal.Length &lt;dbl[,1]&gt; | Petal.Width &lt;dbl[,1]&gt; | Species &lt;fct&gt; |\n",
       "|---|---|---|---|---|---|\n",
       "| 1 | -0.8976739 |  1.01560199 | -1.335752 | -1.311052 | setosa |\n",
       "| 2 | -1.1392005 | -0.13153881 | -1.335752 | -1.311052 | setosa |\n",
       "| 3 | -1.3807271 |  0.32731751 | -1.392399 | -1.311052 | setosa |\n",
       "| 4 | -1.5014904 |  0.09788935 | -1.279104 | -1.311052 | setosa |\n",
       "| 5 | -1.0184372 |  1.24503015 | -1.335752 | -1.311052 | setosa |\n",
       "| 6 | -0.5353840 |  1.93331463 | -1.165809 | -1.048667 | setosa |\n",
       "\n"
      ],
      "text/plain": [
       "  Sepal.Length Sepal.Width Petal.Length Petal.Width Species\n",
       "1 -0.8976739    1.01560199 -1.335752    -1.311052   setosa \n",
       "2 -1.1392005   -0.13153881 -1.335752    -1.311052   setosa \n",
       "3 -1.3807271    0.32731751 -1.392399    -1.311052   setosa \n",
       "4 -1.5014904    0.09788935 -1.279104    -1.311052   setosa \n",
       "5 -1.0184372    1.24503015 -1.335752    -1.311052   setosa \n",
       "6 -0.5353840    1.93331463 -1.165809    -1.048667   setosa "
      ]
     },
     "metadata": {
      "tags": []
     },
     "output_type": "display_data"
    }
   ],
   "source": [
    "iris %>%\n",
    "    mutate(across(where(is.numeric), scale)) %>% \n",
    "    head()"
   ]
  },
  {
   "cell_type": "code",
   "execution_count": null,
   "metadata": {
    "id": "mg1lry46OXTy"
   },
   "outputs": [],
   "source": []
  }
 ],
 "metadata": {
  "colab": {
   "name": "mutate_multiple_columns_R.ipynb",
   "provenance": []
  },
  "kernelspec": {
   "display_name": "R",
   "language": "R",
   "name": "ir"
  },
  "language_info": {
   "codemirror_mode": "r",
   "file_extension": ".r",
   "mimetype": "text/x-r-source",
   "name": "R",
   "pygments_lexer": "r",
   "version": "4.0.5"
  }
 },
 "nbformat": 4,
 "nbformat_minor": 4
}
