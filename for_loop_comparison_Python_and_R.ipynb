{
 "cells": [
  {
   "cell_type": "markdown",
   "metadata": {
    "id": "aDHanSJdCIoD"
   },
   "source": [
    "# Pythonのforループ実行時間を正確に測りたい"
   ]
  },
  {
   "cell_type": "markdown",
   "metadata": {
    "id": "hQbmZAZLCD58"
   },
   "source": [
    "まず、講義資料で紹介されている下記のコードを検証しました。"
   ]
  },
  {
   "cell_type": "code",
   "execution_count": 1,
   "metadata": {
    "colab": {
     "base_uri": "https://localhost:8080/"
    },
    "id": "9wkFtnTiB-7h",
    "outputId": "6d8b38a7-5ebc-4db8-b7d6-347e77f18a86"
   },
   "outputs": [
    {
     "name": "stdout",
     "output_type": "stream",
     "text": [
      "\n",
      "real\t0m0.000s\n",
      "user\t0m0.000s\n",
      "sys\t0m0.000s\n"
     ]
    },
    {
     "data": {
      "text/plain": [
       "333283335000"
      ]
     },
     "execution_count": 1,
     "metadata": {},
     "output_type": "execute_result"
    }
   ],
   "source": [
    "!time\n",
    "a = 0\n",
    "for i in range(10000):\n",
    "  a += i**2\n",
    "a"
   ]
  },
  {
   "cell_type": "markdown",
   "metadata": {
    "id": "8X6CKxtrChPY"
   },
   "source": [
    "講義中、この結果からPythonだとループの計算に0.000秒しか時間がかかっていないと紹介されました。しかし、このコードはセル内の実行時間を計測しておりません。セルの２行目以下のPythonコードは確かに実行されてはいますが、その実行時間が表示されているわけではありません。もし、実行時間が計測できているのであれば、実行結果の前に実行時間が表示されているのはおかしいからです。また、実際にこのコードで行われていることは、Jupyterにおいては、!で始まるコマンドはOSコマンドの呼び出しであり、ここではLinux（Google Colabの中身はUbuntu）のtimeコマンドを実行しています。そして、そのtimeコマンドの後ろに計測すべきLinuxコマンドが書かれていないため、実行時間が０になっています。（余談ですが、ちなみに、!time コマンドの使い道としてはたとえば、!time ls などとするとlsコマンドの実行時間を計測できます。）"
   ]
  },
  {
   "cell_type": "markdown",
   "metadata": {
    "id": "FJcbukgfEtQJ"
   },
   "source": [
    "Jupyterで実行時間を計測するためのマジックコマンドは、１行のみのセルの場合は%time、複数行のセルの場合は、%%timeです。そのため、今回のforループを１回実行したときの実行時間を計測するスクリプトは以下のようになります。"
   ]
  },
  {
   "cell_type": "code",
   "execution_count": 2,
   "metadata": {
    "colab": {
     "base_uri": "https://localhost:8080/"
    },
    "id": "92CBrhckEtyC",
    "outputId": "9a7855f6-72af-4984-f563-b63e33df00f0"
   },
   "outputs": [
    {
     "name": "stdout",
     "output_type": "stream",
     "text": [
      "333283335000\n",
      "CPU times: user 6.57 ms, sys: 118 µs, total: 6.69 ms\n",
      "Wall time: 6.49 ms\n"
     ]
    }
   ],
   "source": [
    "%%time\n",
    "a = 0\n",
    "for i in range(10000):\n",
    "  a += i**2\n",
    "print(a)"
   ]
  },
  {
   "cell_type": "markdown",
   "metadata": {
    "id": "bzlclIH8FJiG"
   },
   "source": [
    "冒頭のコードと違って、実行結果を表示した後に、実行時間が表示されていることがわかります。print()自体に時間がかかっている可能性を排除するためには、下記のコードを検討するとよさそうです。"
   ]
  },
  {
   "cell_type": "code",
   "execution_count": 3,
   "metadata": {
    "colab": {
     "base_uri": "https://localhost:8080/"
    },
    "id": "6pPoTSFOEyrF",
    "outputId": "103d5207-b32f-4431-d643-ef8e929817a5"
   },
   "outputs": [
    {
     "name": "stdout",
     "output_type": "stream",
     "text": [
      "CPU times: user 5.87 ms, sys: 0 ns, total: 5.87 ms\n",
      "Wall time: 5.72 ms\n"
     ]
    }
   ],
   "source": [
    "%%time\n",
    "a = 0\n",
    "for i in range(10000):\n",
    "  a += i**2\n",
    "a"
   ]
  },
  {
   "cell_type": "code",
   "execution_count": 4,
   "metadata": {
    "colab": {
     "base_uri": "https://localhost:8080/"
    },
    "id": "uDGc7dZfE2A4",
    "outputId": "7546b377-11e7-4801-cfd1-480112fedbac"
   },
   "outputs": [
    {
     "name": "stdout",
     "output_type": "stream",
     "text": [
      "333283335000\n"
     ]
    }
   ],
   "source": [
    "print(a)"
   ]
  },
  {
   "cell_type": "markdown",
   "metadata": {
    "id": "EfDmLcNyHfAH"
   },
   "source": [
    "マジックコマンドではなく、time モジュールを使って処理の前後の時間の差分を使って実行時間を測る手法もあります。"
   ]
  },
  {
   "cell_type": "code",
   "execution_count": 5,
   "metadata": {
    "colab": {
     "base_uri": "https://localhost:8080/"
    },
    "id": "0_Ged4tJHb7i",
    "outputId": "47d0f8c5-6f93-4425-b2c3-b3d16f1f4a14"
   },
   "outputs": [
    {
     "name": "stdout",
     "output_type": "stream",
     "text": [
      "e_time:0.010224342346191406[s]\n"
     ]
    }
   ],
   "source": [
    "import time\n",
    "start = time.time()\n",
    "a = 0\n",
    "for i in range(10000):\n",
    "  a += i**2\n",
    "a\n",
    "e_time = time.time() - start\n",
    "print (\"e_time:{0}\".format(e_time) + \"[s]\")"
   ]
  },
  {
   "cell_type": "markdown",
   "metadata": {
    "id": "qp-4ozIUFiyx"
   },
   "source": [
    "ただし、１回のみの実行だけだとどれくらいばらつくかがわからないので、実行時間をより正確に測るには複数回繰り返して測定して、分布を見るのがよいでしょう。その目的のために使えるマジックコマンドが %%timeit です。"
   ]
  },
  {
   "cell_type": "code",
   "execution_count": 6,
   "metadata": {
    "colab": {
     "base_uri": "https://localhost:8080/"
    },
    "id": "kUr6ns8aFzjW",
    "outputId": "a2e6bb24-6584-491e-ec25-b66782be2c8d"
   },
   "outputs": [
    {
     "name": "stdout",
     "output_type": "stream",
     "text": [
      "100 loops, best of 5: 3.07 ms per loop\n"
     ]
    }
   ],
   "source": [
    "%%timeit\n",
    "a = 0\n",
    "for i in range(10000):\n",
    "  a += i**2\n",
    "a"
   ]
  },
  {
   "cell_type": "markdown",
   "metadata": {
    "id": "hcvenIsAG4x2"
   },
   "source": [
    "%%timeit は -n や -r に続けて数値を指定すると、それぞれnumberとrepeatの回数を指定もできます。cf. https://note.nkmk.me/en/python-timeit-measure/"
   ]
  },
  {
   "cell_type": "markdown",
   "metadata": {
    "id": "oK0j-BhQH4xO"
   },
   "source": [
    "Pythonのforループで10000個の平方数の和をGoogle Colab上で計算するのに、100回（loop）を５回（repeat）繰り返して、５回中一番早かったときの平均で3.07 msかかっていることがわかります（バックグラウンド処理のノイズなどの影響を取り除くために、このような表示がされるようです）。"
   ]
  },
  {
   "cell_type": "markdown",
   "metadata": {
    "id": "4V_u-xeQIjSp"
   },
   "source": [
    "# Rのforループがどれくらいかかるのか知りたい"
   ]
  },
  {
   "cell_type": "markdown",
   "metadata": {
    "id": "3ck_NhJSJx77"
   },
   "source": [
    "ノートブックをRカーネルで別途作ってもよいですが、ここでは同じファイル内で結果をまとめたいので、rpy2を用いてPythonカーネル内でRを実行できるようにする。"
   ]
  },
  {
   "cell_type": "code",
   "execution_count": 7,
   "metadata": {
    "id": "itfIAb0vIu8e"
   },
   "outputs": [],
   "source": [
    "%load_ext rpy2.ipython"
   ]
  },
  {
   "cell_type": "markdown",
   "metadata": {
    "id": "9oO-4x2YKPmX"
   },
   "source": [
    "上記のセルを実行した後、セルの先頭にに%%Rのマジックコマンドをつけると、そのセルはRのコードとして認識され、実行されます。（コードが１行飲みの場合は、%R の後ろにRのコードを書いてもよいです。）"
   ]
  },
  {
   "cell_type": "code",
   "execution_count": null,
   "metadata": {
    "id": "ZKYmbbb9KmHF"
   },
   "outputs": [],
   "source": [
    "%%R\n",
    "install.packages(\"tictoc\")\n",
    "library(tictoc)"
   ]
  },
  {
   "cell_type": "code",
   "execution_count": 9,
   "metadata": {
    "colab": {
     "base_uri": "https://localhost:8080/"
    },
    "id": "fWD4mwlELLe7",
    "outputId": "6e8f2b3b-882f-4a65-ef6b-aeda03ddb5df"
   },
   "outputs": [
    {
     "name": "stdout",
     "output_type": "stream",
     "text": [
      "0.082 sec elapsed\n"
     ]
    }
   ],
   "source": [
    "%%R\n",
    "tic()\n",
    "a <- 0\n",
    "for(i in 1:10000){\n",
    "    a <- a + i^2\n",
    "  }\n",
    "toc()"
   ]
  },
  {
   "cell_type": "markdown",
   "metadata": {
    "id": "_uznNDqgLbVW"
   },
   "source": [
    "tictocパッケージで計測した１回の実行時間は0.1秒以下くらいのようです。実行するタイミングにもよるかもしれません。Pythonのときと同様、何度も繰り返した場合にどれくらいばらつくかも知りたいので、実行時間の平均や分布を見ることにします。microbenchmarkパッケージが比較するのに便利です。"
   ]
  },
  {
   "cell_type": "code",
   "execution_count": null,
   "metadata": {
    "id": "Ag4KkBADInN2"
   },
   "outputs": [],
   "source": [
    "%%R\n",
    "install.packages(\"microbenchmark\")"
   ]
  },
  {
   "cell_type": "code",
   "execution_count": 11,
   "metadata": {
    "id": "-J4ByhWWJGmA"
   },
   "outputs": [],
   "source": [
    "%%R\n",
    "library(microbenchmark)"
   ]
  },
  {
   "cell_type": "code",
   "execution_count": 12,
   "metadata": {
    "id": "FS2m12NmJfPG"
   },
   "outputs": [],
   "source": [
    "%%R\n",
    "naive_for_loop <- function(n){\n",
    "  for(i in 1:n){\n",
    "    a <- 0\n",
    "    a <- a + i^2\n",
    "  }\n",
    "}\n",
    "\n",
    "naive_for_loop2 <- function(n){\n",
    "  a <- 0\n",
    "  for(i in 1:n){\n",
    "    a <- a + i^2\n",
    "  }\n",
    "}\n",
    "\n",
    "func_square <- function(x){\n",
    "  x^2\n",
    "}\n",
    "\n",
    "use_sapply1 <- function(n){\n",
    "  a <- 1:n\n",
    "  sum(sapply(a, func_square))\n",
    "}\n",
    "\n",
    "use_sapply2 <- function(n){\n",
    "  a <- 1:n\n",
    "  sum(sapply(a, \\(x) x^2))\n",
    "}\n",
    "\n",
    "func_sum_square <- function(n){\n",
    "  a <- 1:n\n",
    "  sum(n^2)\n",
    "}"
   ]
  },
  {
   "cell_type": "code",
   "execution_count": 13,
   "metadata": {
    "id": "jmhzbnBUJjcT"
   },
   "outputs": [],
   "source": [
    "%%R\n",
    "results <- microbenchmark(\n",
    "  naive_for_loop(10000), \n",
    "  naive_for_loop2(10000), \n",
    "  use_sapply1(10000), \n",
    "  use_sapply2(10000),\n",
    "  func_sum_square(10000), \n",
    "  times = 100, \n",
    "  unit = \"s\"\n",
    "  )"
   ]
  },
  {
   "cell_type": "code",
   "execution_count": 14,
   "metadata": {
    "colab": {
     "base_uri": "https://localhost:8080/",
     "height": 204
    },
    "id": "d22rzdDVJmn-",
    "outputId": "4198ac07-b3d5-4d87-b4c8-8b14931a4b6e"
   },
   "outputs": [
    {
     "data": {
      "text/html": [
       "<div>\n",
       "<style scoped>\n",
       "    .dataframe tbody tr th:only-of-type {\n",
       "        vertical-align: middle;\n",
       "    }\n",
       "\n",
       "    .dataframe tbody tr th {\n",
       "        vertical-align: top;\n",
       "    }\n",
       "\n",
       "    .dataframe thead th {\n",
       "        text-align: right;\n",
       "    }\n",
       "</style>\n",
       "<table border=\"1\" class=\"dataframe\">\n",
       "  <thead>\n",
       "    <tr style=\"text-align: right;\">\n",
       "      <th></th>\n",
       "      <th>expr</th>\n",
       "      <th>min</th>\n",
       "      <th>lq</th>\n",
       "      <th>mean</th>\n",
       "      <th>median</th>\n",
       "      <th>uq</th>\n",
       "      <th>max</th>\n",
       "      <th>neval</th>\n",
       "    </tr>\n",
       "  </thead>\n",
       "  <tbody>\n",
       "    <tr>\n",
       "      <th>1</th>\n",
       "      <td>naive_for_loop(10000)</td>\n",
       "      <td>4.617860e-04</td>\n",
       "      <td>0.000471</td>\n",
       "      <td>0.000564</td>\n",
       "      <td>0.000481</td>\n",
       "      <td>0.000495</td>\n",
       "      <td>0.004543</td>\n",
       "      <td>100.0</td>\n",
       "    </tr>\n",
       "    <tr>\n",
       "      <th>2</th>\n",
       "      <td>naive_for_loop2(10000)</td>\n",
       "      <td>3.500300e-04</td>\n",
       "      <td>0.000357</td>\n",
       "      <td>0.000436</td>\n",
       "      <td>0.000364</td>\n",
       "      <td>0.000376</td>\n",
       "      <td>0.003715</td>\n",
       "      <td>100.0</td>\n",
       "    </tr>\n",
       "    <tr>\n",
       "      <th>3</th>\n",
       "      <td>use_sapply1(10000)</td>\n",
       "      <td>6.460866e-03</td>\n",
       "      <td>0.006725</td>\n",
       "      <td>0.007765</td>\n",
       "      <td>0.007128</td>\n",
       "      <td>0.007782</td>\n",
       "      <td>0.017343</td>\n",
       "      <td>100.0</td>\n",
       "    </tr>\n",
       "    <tr>\n",
       "      <th>4</th>\n",
       "      <td>use_sapply2(10000)</td>\n",
       "      <td>6.464354e-03</td>\n",
       "      <td>0.006798</td>\n",
       "      <td>0.008105</td>\n",
       "      <td>0.007403</td>\n",
       "      <td>0.008934</td>\n",
       "      <td>0.012469</td>\n",
       "      <td>100.0</td>\n",
       "    </tr>\n",
       "    <tr>\n",
       "      <th>5</th>\n",
       "      <td>func_sum_square(10000)</td>\n",
       "      <td>8.550000e-07</td>\n",
       "      <td>0.000002</td>\n",
       "      <td>0.000030</td>\n",
       "      <td>0.000005</td>\n",
       "      <td>0.000006</td>\n",
       "      <td>0.002500</td>\n",
       "      <td>100.0</td>\n",
       "    </tr>\n",
       "  </tbody>\n",
       "</table>\n",
       "</div>"
      ],
      "text/plain": [
       "                     expr           min        lq  ...        uq       max  neval\n",
       "1   naive_for_loop(10000)  4.617860e-04  0.000471  ...  0.000495  0.004543  100.0\n",
       "2  naive_for_loop2(10000)  3.500300e-04  0.000357  ...  0.000376  0.003715  100.0\n",
       "3      use_sapply1(10000)  6.460866e-03  0.006725  ...  0.007782  0.017343  100.0\n",
       "4      use_sapply2(10000)  6.464354e-03  0.006798  ...  0.008934  0.012469  100.0\n",
       "5  func_sum_square(10000)  8.550000e-07  0.000002  ...  0.000006  0.002500  100.0\n",
       "\n",
       "[5 rows x 8 columns]"
      ]
     },
     "execution_count": 14,
     "metadata": {},
     "output_type": "execute_result"
    }
   ],
   "source": [
    "%R summary(results)"
   ]
  },
  {
   "cell_type": "markdown",
   "metadata": {
    "id": "Q1-y3NrDMD9a"
   },
   "source": [
    "いろいろな書き方で比較してみました。一番厳しい比較として、100回繰り返したときの最悪計算時間（max）で比較したとしても、Rで書いたナイーブなforループは１回の実行時間が3.7〜4.5msec程度で、冒頭で紹介したPythonのforループと大差ないようです。また、書き方の工夫が足りないのかapply()系のメリット（高速化）もこの場合はあまり感じられません（計測の仕方との相性が悪いのかもしれません）。ただし、ベクトル化した一番最後の方法では平均や中央値で見ても爆速になっていますので、大量の計算を行う場合は書き方に気をつけると時短が望めるかもしれません。"
   ]
  },
  {
   "cell_type": "markdown",
   "metadata": {
    "id": "CWWc2lhQOoTm"
   },
   "source": [
    "# まとめると、Rはとにかくforループが遅い（Pythonと比較してかなり遅い）というのは、最近のRにおいては事実と異なるので訂正が必要です。"
   ]
  },
  {
   "cell_type": "markdown",
   "metadata": {
    "id": "Q1-y3NrDMD9a"
   },
   "source": [
    "というのも、R 3.4.0以降はJITコンパイルがデフォルトで取り入れられたため、forループやfunctionが遅かったかつてのRほどは問題になりにくくなったからです。ただし、どの言語でも書き方を工夫すればちゃんと速くなるので、気をつけるに越したことはありません。"
   ]
  }
 ],
 "metadata": {
  "colab": {
   "name": "scratchpad",
   "provenance": []
  },
  "kernelspec": {
   "display_name": "Python 3 (ipykernel)",
   "language": "python",
   "name": "python3"
  },
  "language_info": {
   "codemirror_mode": {
    "name": "ipython",
    "version": 3
   },
   "file_extension": ".py",
   "mimetype": "text/x-python",
   "name": "python",
   "nbconvert_exporter": "python",
   "pygments_lexer": "ipython3",
   "version": "3.7.7"
  }
 },
 "nbformat": 4,
 "nbformat_minor": 4
}
