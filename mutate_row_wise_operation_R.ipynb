{
  "nbformat": 4,
  "nbformat_minor": 0,
  "metadata": {
    "colab": {
      "name": "mutate_row_wise_operation_R.ipynb",
      "provenance": []
    },
    "kernelspec": {
      "name": "ir",
      "display_name": "R"
    },
    "language_info": {
      "name": "R"
    }
  },
  "cells": [
    {
      "cell_type": "code",
      "metadata": {
        "colab": {
          "base_uri": "https://localhost:8080/"
        },
        "id": "OebHp46d8nAF",
        "outputId": "a8fe1f45-6fda-4d24-baa3-c74c33e2b051"
      },
      "source": [
        "library(tidyverse)"
      ],
      "execution_count": 1,
      "outputs": [
        {
          "output_type": "stream",
          "text": [
            "Warning message in system(\"timedatectl\", intern = TRUE):\n",
            "“running command 'timedatectl' had status 1”\n",
            "── \u001b[1mAttaching packages\u001b[22m ─────────────────────────────────────── tidyverse 1.3.1 ──\n",
            "\n",
            "\u001b[32m✔\u001b[39m \u001b[34mggplot2\u001b[39m 3.3.3     \u001b[32m✔\u001b[39m \u001b[34mpurrr  \u001b[39m 0.3.4\n",
            "\u001b[32m✔\u001b[39m \u001b[34mtibble \u001b[39m 3.1.2     \u001b[32m✔\u001b[39m \u001b[34mdplyr  \u001b[39m 1.0.6\n",
            "\u001b[32m✔\u001b[39m \u001b[34mtidyr  \u001b[39m 1.1.3     \u001b[32m✔\u001b[39m \u001b[34mstringr\u001b[39m 1.4.0\n",
            "\u001b[32m✔\u001b[39m \u001b[34mreadr  \u001b[39m 1.4.0     \u001b[32m✔\u001b[39m \u001b[34mforcats\u001b[39m 0.5.1\n",
            "\n",
            "── \u001b[1mConflicts\u001b[22m ────────────────────────────────────────── tidyverse_conflicts() ──\n",
            "\u001b[31m✖\u001b[39m \u001b[34mdplyr\u001b[39m::\u001b[32mfilter()\u001b[39m masks \u001b[34mstats\u001b[39m::filter()\n",
            "\u001b[31m✖\u001b[39m \u001b[34mdplyr\u001b[39m::\u001b[32mlag()\u001b[39m    masks \u001b[34mstats\u001b[39m::lag()\n",
            "\n"
          ],
          "name": "stderr"
        }
      ]
    },
    {
      "cell_type": "markdown",
      "metadata": {
        "id": "2Iuov9eWHOUV"
      },
      "source": [
        "このページ https://github.com/tidyverse/dplyr/issues/4544 のデータを例にQで始まる列の和を求めるコードをいくつか紹介する。"
      ]
    },
    {
      "cell_type": "code",
      "metadata": {
        "colab": {
          "base_uri": "https://localhost:8080/",
          "height": 283
        },
        "id": "kUcHAUnf8obk",
        "outputId": "6dc5ab07-ad4c-4609-f357-06a3664e4873"
      },
      "source": [
        "QIMU_raw <- data.frame(\n",
        "  ID = c(1L, 2L, 3L, 4L, 5L, 6L),\n",
        "  Age = c(25L, 20L, 23L, 29L, 24L, 27L),\n",
        "  Q1 = c(-0.49, -0.08, -2.01, 1, 0.27, -0.45),\n",
        "  Q2 = c(0.4, 0.71, -0.77, 0.88, -1.92, -0.48),\n",
        "  Q3 = c(0.53, 0.71, -1.02, -0.09, 0.17, -0.31),\n",
        "  Q4 = c(-0.47, -0.51, -2.27, -0.26, -1.35, -1.45),\n",
        "  Q5 = c(-0.44, 0.64, -1.05, 0.8, 0.83, 0.01),\n",
        "  Q6 = c(-1.02, -0.02, -1.57, 0.07, -0.52, -0.9),\n",
        "  Sex = as.factor(c(\"F\", \"F\", \"F\", \"F\", \"M\", \"M\"))\n",
        ")\n",
        "QIMU_raw"
      ],
      "execution_count": 2,
      "outputs": [
        {
          "output_type": "display_data",
          "data": {
            "text/plain": [
              "  ID Age Q1    Q2    Q3    Q4    Q5    Q6    Sex\n",
              "1 1  25  -0.49  0.40  0.53 -0.47 -0.44 -1.02 F  \n",
              "2 2  20  -0.08  0.71  0.71 -0.51  0.64 -0.02 F  \n",
              "3 3  23  -2.01 -0.77 -1.02 -2.27 -1.05 -1.57 F  \n",
              "4 4  29   1.00  0.88 -0.09 -0.26  0.80  0.07 F  \n",
              "5 5  24   0.27 -1.92  0.17 -1.35  0.83 -0.52 M  \n",
              "6 6  27  -0.45 -0.48 -0.31 -1.45  0.01 -0.90 M  "
            ],
            "text/latex": "A data.frame: 6 × 9\n\\begin{tabular}{lllllllll}\n ID & Age & Q1 & Q2 & Q3 & Q4 & Q5 & Q6 & Sex\\\\\n <int> & <int> & <dbl> & <dbl> & <dbl> & <dbl> & <dbl> & <dbl> & <fct>\\\\\n\\hline\n\t 1 & 25 & -0.49 &  0.40 &  0.53 & -0.47 & -0.44 & -1.02 & F\\\\\n\t 2 & 20 & -0.08 &  0.71 &  0.71 & -0.51 &  0.64 & -0.02 & F\\\\\n\t 3 & 23 & -2.01 & -0.77 & -1.02 & -2.27 & -1.05 & -1.57 & F\\\\\n\t 4 & 29 &  1.00 &  0.88 & -0.09 & -0.26 &  0.80 &  0.07 & F\\\\\n\t 5 & 24 &  0.27 & -1.92 &  0.17 & -1.35 &  0.83 & -0.52 & M\\\\\n\t 6 & 27 & -0.45 & -0.48 & -0.31 & -1.45 &  0.01 & -0.90 & M\\\\\n\\end{tabular}\n",
            "text/markdown": "\nA data.frame: 6 × 9\n\n| ID &lt;int&gt; | Age &lt;int&gt; | Q1 &lt;dbl&gt; | Q2 &lt;dbl&gt; | Q3 &lt;dbl&gt; | Q4 &lt;dbl&gt; | Q5 &lt;dbl&gt; | Q6 &lt;dbl&gt; | Sex &lt;fct&gt; |\n|---|---|---|---|---|---|---|---|---|\n| 1 | 25 | -0.49 |  0.40 |  0.53 | -0.47 | -0.44 | -1.02 | F |\n| 2 | 20 | -0.08 |  0.71 |  0.71 | -0.51 |  0.64 | -0.02 | F |\n| 3 | 23 | -2.01 | -0.77 | -1.02 | -2.27 | -1.05 | -1.57 | F |\n| 4 | 29 |  1.00 |  0.88 | -0.09 | -0.26 |  0.80 |  0.07 | F |\n| 5 | 24 |  0.27 | -1.92 |  0.17 | -1.35 |  0.83 | -0.52 | M |\n| 6 | 27 | -0.45 | -0.48 | -0.31 | -1.45 |  0.01 | -0.90 | M |\n\n",
            "text/html": [
              "<table class=\"dataframe\">\n",
              "<caption>A data.frame: 6 × 9</caption>\n",
              "<thead>\n",
              "\t<tr><th scope=col>ID</th><th scope=col>Age</th><th scope=col>Q1</th><th scope=col>Q2</th><th scope=col>Q3</th><th scope=col>Q4</th><th scope=col>Q5</th><th scope=col>Q6</th><th scope=col>Sex</th></tr>\n",
              "\t<tr><th scope=col>&lt;int&gt;</th><th scope=col>&lt;int&gt;</th><th scope=col>&lt;dbl&gt;</th><th scope=col>&lt;dbl&gt;</th><th scope=col>&lt;dbl&gt;</th><th scope=col>&lt;dbl&gt;</th><th scope=col>&lt;dbl&gt;</th><th scope=col>&lt;dbl&gt;</th><th scope=col>&lt;fct&gt;</th></tr>\n",
              "</thead>\n",
              "<tbody>\n",
              "\t<tr><td>1</td><td>25</td><td>-0.49</td><td> 0.40</td><td> 0.53</td><td>-0.47</td><td>-0.44</td><td>-1.02</td><td>F</td></tr>\n",
              "\t<tr><td>2</td><td>20</td><td>-0.08</td><td> 0.71</td><td> 0.71</td><td>-0.51</td><td> 0.64</td><td>-0.02</td><td>F</td></tr>\n",
              "\t<tr><td>3</td><td>23</td><td>-2.01</td><td>-0.77</td><td>-1.02</td><td>-2.27</td><td>-1.05</td><td>-1.57</td><td>F</td></tr>\n",
              "\t<tr><td>4</td><td>29</td><td> 1.00</td><td> 0.88</td><td>-0.09</td><td>-0.26</td><td> 0.80</td><td> 0.07</td><td>F</td></tr>\n",
              "\t<tr><td>5</td><td>24</td><td> 0.27</td><td>-1.92</td><td> 0.17</td><td>-1.35</td><td> 0.83</td><td>-0.52</td><td>M</td></tr>\n",
              "\t<tr><td>6</td><td>27</td><td>-0.45</td><td>-0.48</td><td>-0.31</td><td>-1.45</td><td> 0.01</td><td>-0.90</td><td>M</td></tr>\n",
              "</tbody>\n",
              "</table>\n"
            ]
          },
          "metadata": {
            "tags": []
          }
        }
      ]
    },
    {
      "cell_type": "markdown",
      "metadata": {
        "id": "KjP5FmmqLphX"
      },
      "source": [
        "このデータに対して、Q1からQ6までの列の和を求めて、Q_totalという列を作るのを目標とする！"
      ]
    },
    {
      "cell_type": "markdown",
      "metadata": {
        "id": "4EF5xDcUHdri"
      },
      "source": [
        "Q1からQ6までしか列がなければ、apply()で簡単に書ける。第２引数の1で行方向の操作であることを指定している。"
      ]
    },
    {
      "cell_type": "code",
      "metadata": {
        "colab": {
          "base_uri": "https://localhost:8080/",
          "height": 283
        },
        "id": "5z5BldfHHlmz",
        "outputId": "558d3c05-01a7-456f-d55c-fd7931c73849"
      },
      "source": [
        "QIMU_raw %>% \n",
        "  select(Q1:Q6) %>%\n",
        "  mutate(Q_total = apply(., 1, sum))"
      ],
      "execution_count": 3,
      "outputs": [
        {
          "output_type": "display_data",
          "data": {
            "text/plain": [
              "  Q1    Q2    Q3    Q4    Q5    Q6    Q_total\n",
              "1 -0.49  0.40  0.53 -0.47 -0.44 -1.02 -1.49  \n",
              "2 -0.08  0.71  0.71 -0.51  0.64 -0.02  1.45  \n",
              "3 -2.01 -0.77 -1.02 -2.27 -1.05 -1.57 -8.69  \n",
              "4  1.00  0.88 -0.09 -0.26  0.80  0.07  2.40  \n",
              "5  0.27 -1.92  0.17 -1.35  0.83 -0.52 -2.52  \n",
              "6 -0.45 -0.48 -0.31 -1.45  0.01 -0.90 -3.58  "
            ],
            "text/latex": "A data.frame: 6 × 7\n\\begin{tabular}{lllllll}\n Q1 & Q2 & Q3 & Q4 & Q5 & Q6 & Q\\_total\\\\\n <dbl> & <dbl> & <dbl> & <dbl> & <dbl> & <dbl> & <dbl>\\\\\n\\hline\n\t -0.49 &  0.40 &  0.53 & -0.47 & -0.44 & -1.02 & -1.49\\\\\n\t -0.08 &  0.71 &  0.71 & -0.51 &  0.64 & -0.02 &  1.45\\\\\n\t -2.01 & -0.77 & -1.02 & -2.27 & -1.05 & -1.57 & -8.69\\\\\n\t  1.00 &  0.88 & -0.09 & -0.26 &  0.80 &  0.07 &  2.40\\\\\n\t  0.27 & -1.92 &  0.17 & -1.35 &  0.83 & -0.52 & -2.52\\\\\n\t -0.45 & -0.48 & -0.31 & -1.45 &  0.01 & -0.90 & -3.58\\\\\n\\end{tabular}\n",
            "text/markdown": "\nA data.frame: 6 × 7\n\n| Q1 &lt;dbl&gt; | Q2 &lt;dbl&gt; | Q3 &lt;dbl&gt; | Q4 &lt;dbl&gt; | Q5 &lt;dbl&gt; | Q6 &lt;dbl&gt; | Q_total &lt;dbl&gt; |\n|---|---|---|---|---|---|---|\n| -0.49 |  0.40 |  0.53 | -0.47 | -0.44 | -1.02 | -1.49 |\n| -0.08 |  0.71 |  0.71 | -0.51 |  0.64 | -0.02 |  1.45 |\n| -2.01 | -0.77 | -1.02 | -2.27 | -1.05 | -1.57 | -8.69 |\n|  1.00 |  0.88 | -0.09 | -0.26 |  0.80 |  0.07 |  2.40 |\n|  0.27 | -1.92 |  0.17 | -1.35 |  0.83 | -0.52 | -2.52 |\n| -0.45 | -0.48 | -0.31 | -1.45 |  0.01 | -0.90 | -3.58 |\n\n",
            "text/html": [
              "<table class=\"dataframe\">\n",
              "<caption>A data.frame: 6 × 7</caption>\n",
              "<thead>\n",
              "\t<tr><th scope=col>Q1</th><th scope=col>Q2</th><th scope=col>Q3</th><th scope=col>Q4</th><th scope=col>Q5</th><th scope=col>Q6</th><th scope=col>Q_total</th></tr>\n",
              "\t<tr><th scope=col>&lt;dbl&gt;</th><th scope=col>&lt;dbl&gt;</th><th scope=col>&lt;dbl&gt;</th><th scope=col>&lt;dbl&gt;</th><th scope=col>&lt;dbl&gt;</th><th scope=col>&lt;dbl&gt;</th><th scope=col>&lt;dbl&gt;</th></tr>\n",
              "</thead>\n",
              "<tbody>\n",
              "\t<tr><td>-0.49</td><td> 0.40</td><td> 0.53</td><td>-0.47</td><td>-0.44</td><td>-1.02</td><td>-1.49</td></tr>\n",
              "\t<tr><td>-0.08</td><td> 0.71</td><td> 0.71</td><td>-0.51</td><td> 0.64</td><td>-0.02</td><td> 1.45</td></tr>\n",
              "\t<tr><td>-2.01</td><td>-0.77</td><td>-1.02</td><td>-2.27</td><td>-1.05</td><td>-1.57</td><td>-8.69</td></tr>\n",
              "\t<tr><td> 1.00</td><td> 0.88</td><td>-0.09</td><td>-0.26</td><td> 0.80</td><td> 0.07</td><td> 2.40</td></tr>\n",
              "\t<tr><td> 0.27</td><td>-1.92</td><td> 0.17</td><td>-1.35</td><td> 0.83</td><td>-0.52</td><td>-2.52</td></tr>\n",
              "\t<tr><td>-0.45</td><td>-0.48</td><td>-0.31</td><td>-1.45</td><td> 0.01</td><td>-0.90</td><td>-3.58</td></tr>\n",
              "</tbody>\n",
              "</table>\n"
            ]
          },
          "metadata": {
            "tags": []
          }
        }
      ]
    },
    {
      "cell_type": "markdown",
      "metadata": {
        "id": "CWYlNWRRH5O7"
      },
      "source": [
        "しかし、Qで始まる列以外も残したいときはどうするか？"
      ]
    },
    {
      "cell_type": "code",
      "metadata": {
        "colab": {
          "base_uri": "https://localhost:8080/",
          "height": 283
        },
        "id": "u2XH7KltIE8y",
        "outputId": "d003d57a-964c-42e0-aa33-e06cf85e2957"
      },
      "source": [
        "QIMU_raw %>% \n",
        "  mutate(Q_total = apply(select(., Q1:Q6), 1, sum))"
      ],
      "execution_count": 4,
      "outputs": [
        {
          "output_type": "display_data",
          "data": {
            "text/plain": [
              "  ID Age Q1    Q2    Q3    Q4    Q5    Q6    Sex Q_total\n",
              "1 1  25  -0.49  0.40  0.53 -0.47 -0.44 -1.02 F   -1.49  \n",
              "2 2  20  -0.08  0.71  0.71 -0.51  0.64 -0.02 F    1.45  \n",
              "3 3  23  -2.01 -0.77 -1.02 -2.27 -1.05 -1.57 F   -8.69  \n",
              "4 4  29   1.00  0.88 -0.09 -0.26  0.80  0.07 F    2.40  \n",
              "5 5  24   0.27 -1.92  0.17 -1.35  0.83 -0.52 M   -2.52  \n",
              "6 6  27  -0.45 -0.48 -0.31 -1.45  0.01 -0.90 M   -3.58  "
            ],
            "text/latex": "A data.frame: 6 × 10\n\\begin{tabular}{llllllllll}\n ID & Age & Q1 & Q2 & Q3 & Q4 & Q5 & Q6 & Sex & Q\\_total\\\\\n <int> & <int> & <dbl> & <dbl> & <dbl> & <dbl> & <dbl> & <dbl> & <fct> & <dbl>\\\\\n\\hline\n\t 1 & 25 & -0.49 &  0.40 &  0.53 & -0.47 & -0.44 & -1.02 & F & -1.49\\\\\n\t 2 & 20 & -0.08 &  0.71 &  0.71 & -0.51 &  0.64 & -0.02 & F &  1.45\\\\\n\t 3 & 23 & -2.01 & -0.77 & -1.02 & -2.27 & -1.05 & -1.57 & F & -8.69\\\\\n\t 4 & 29 &  1.00 &  0.88 & -0.09 & -0.26 &  0.80 &  0.07 & F &  2.40\\\\\n\t 5 & 24 &  0.27 & -1.92 &  0.17 & -1.35 &  0.83 & -0.52 & M & -2.52\\\\\n\t 6 & 27 & -0.45 & -0.48 & -0.31 & -1.45 &  0.01 & -0.90 & M & -3.58\\\\\n\\end{tabular}\n",
            "text/markdown": "\nA data.frame: 6 × 10\n\n| ID &lt;int&gt; | Age &lt;int&gt; | Q1 &lt;dbl&gt; | Q2 &lt;dbl&gt; | Q3 &lt;dbl&gt; | Q4 &lt;dbl&gt; | Q5 &lt;dbl&gt; | Q6 &lt;dbl&gt; | Sex &lt;fct&gt; | Q_total &lt;dbl&gt; |\n|---|---|---|---|---|---|---|---|---|---|\n| 1 | 25 | -0.49 |  0.40 |  0.53 | -0.47 | -0.44 | -1.02 | F | -1.49 |\n| 2 | 20 | -0.08 |  0.71 |  0.71 | -0.51 |  0.64 | -0.02 | F |  1.45 |\n| 3 | 23 | -2.01 | -0.77 | -1.02 | -2.27 | -1.05 | -1.57 | F | -8.69 |\n| 4 | 29 |  1.00 |  0.88 | -0.09 | -0.26 |  0.80 |  0.07 | F |  2.40 |\n| 5 | 24 |  0.27 | -1.92 |  0.17 | -1.35 |  0.83 | -0.52 | M | -2.52 |\n| 6 | 27 | -0.45 | -0.48 | -0.31 | -1.45 |  0.01 | -0.90 | M | -3.58 |\n\n",
            "text/html": [
              "<table class=\"dataframe\">\n",
              "<caption>A data.frame: 6 × 10</caption>\n",
              "<thead>\n",
              "\t<tr><th scope=col>ID</th><th scope=col>Age</th><th scope=col>Q1</th><th scope=col>Q2</th><th scope=col>Q3</th><th scope=col>Q4</th><th scope=col>Q5</th><th scope=col>Q6</th><th scope=col>Sex</th><th scope=col>Q_total</th></tr>\n",
              "\t<tr><th scope=col>&lt;int&gt;</th><th scope=col>&lt;int&gt;</th><th scope=col>&lt;dbl&gt;</th><th scope=col>&lt;dbl&gt;</th><th scope=col>&lt;dbl&gt;</th><th scope=col>&lt;dbl&gt;</th><th scope=col>&lt;dbl&gt;</th><th scope=col>&lt;dbl&gt;</th><th scope=col>&lt;fct&gt;</th><th scope=col>&lt;dbl&gt;</th></tr>\n",
              "</thead>\n",
              "<tbody>\n",
              "\t<tr><td>1</td><td>25</td><td>-0.49</td><td> 0.40</td><td> 0.53</td><td>-0.47</td><td>-0.44</td><td>-1.02</td><td>F</td><td>-1.49</td></tr>\n",
              "\t<tr><td>2</td><td>20</td><td>-0.08</td><td> 0.71</td><td> 0.71</td><td>-0.51</td><td> 0.64</td><td>-0.02</td><td>F</td><td> 1.45</td></tr>\n",
              "\t<tr><td>3</td><td>23</td><td>-2.01</td><td>-0.77</td><td>-1.02</td><td>-2.27</td><td>-1.05</td><td>-1.57</td><td>F</td><td>-8.69</td></tr>\n",
              "\t<tr><td>4</td><td>29</td><td> 1.00</td><td> 0.88</td><td>-0.09</td><td>-0.26</td><td> 0.80</td><td> 0.07</td><td>F</td><td> 2.40</td></tr>\n",
              "\t<tr><td>5</td><td>24</td><td> 0.27</td><td>-1.92</td><td> 0.17</td><td>-1.35</td><td> 0.83</td><td>-0.52</td><td>M</td><td>-2.52</td></tr>\n",
              "\t<tr><td>6</td><td>27</td><td>-0.45</td><td>-0.48</td><td>-0.31</td><td>-1.45</td><td> 0.01</td><td>-0.90</td><td>M</td><td>-3.58</td></tr>\n",
              "</tbody>\n",
              "</table>\n"
            ]
          },
          "metadata": {
            "tags": []
          }
        }
      ]
    },
    {
      "cell_type": "markdown",
      "metadata": {
        "id": "j8XCJhuZIOJx"
      },
      "source": [
        "select()の列選択をstarts_with()などにするとより応用が広がる"
      ]
    },
    {
      "cell_type": "code",
      "metadata": {
        "colab": {
          "base_uri": "https://localhost:8080/",
          "height": 283
        },
        "id": "bTV1sWNxIbKC",
        "outputId": "82e28182-8d95-4601-f237-7d07a95cd970"
      },
      "source": [
        "QIMU_raw %>% \n",
        "  mutate(Q_total = apply(select(., starts_with(\"Q\")), 1, sum))"
      ],
      "execution_count": 5,
      "outputs": [
        {
          "output_type": "display_data",
          "data": {
            "text/plain": [
              "  ID Age Q1    Q2    Q3    Q4    Q5    Q6    Sex Q_total\n",
              "1 1  25  -0.49  0.40  0.53 -0.47 -0.44 -1.02 F   -1.49  \n",
              "2 2  20  -0.08  0.71  0.71 -0.51  0.64 -0.02 F    1.45  \n",
              "3 3  23  -2.01 -0.77 -1.02 -2.27 -1.05 -1.57 F   -8.69  \n",
              "4 4  29   1.00  0.88 -0.09 -0.26  0.80  0.07 F    2.40  \n",
              "5 5  24   0.27 -1.92  0.17 -1.35  0.83 -0.52 M   -2.52  \n",
              "6 6  27  -0.45 -0.48 -0.31 -1.45  0.01 -0.90 M   -3.58  "
            ],
            "text/latex": "A data.frame: 6 × 10\n\\begin{tabular}{llllllllll}\n ID & Age & Q1 & Q2 & Q3 & Q4 & Q5 & Q6 & Sex & Q\\_total\\\\\n <int> & <int> & <dbl> & <dbl> & <dbl> & <dbl> & <dbl> & <dbl> & <fct> & <dbl>\\\\\n\\hline\n\t 1 & 25 & -0.49 &  0.40 &  0.53 & -0.47 & -0.44 & -1.02 & F & -1.49\\\\\n\t 2 & 20 & -0.08 &  0.71 &  0.71 & -0.51 &  0.64 & -0.02 & F &  1.45\\\\\n\t 3 & 23 & -2.01 & -0.77 & -1.02 & -2.27 & -1.05 & -1.57 & F & -8.69\\\\\n\t 4 & 29 &  1.00 &  0.88 & -0.09 & -0.26 &  0.80 &  0.07 & F &  2.40\\\\\n\t 5 & 24 &  0.27 & -1.92 &  0.17 & -1.35 &  0.83 & -0.52 & M & -2.52\\\\\n\t 6 & 27 & -0.45 & -0.48 & -0.31 & -1.45 &  0.01 & -0.90 & M & -3.58\\\\\n\\end{tabular}\n",
            "text/markdown": "\nA data.frame: 6 × 10\n\n| ID &lt;int&gt; | Age &lt;int&gt; | Q1 &lt;dbl&gt; | Q2 &lt;dbl&gt; | Q3 &lt;dbl&gt; | Q4 &lt;dbl&gt; | Q5 &lt;dbl&gt; | Q6 &lt;dbl&gt; | Sex &lt;fct&gt; | Q_total &lt;dbl&gt; |\n|---|---|---|---|---|---|---|---|---|---|\n| 1 | 25 | -0.49 |  0.40 |  0.53 | -0.47 | -0.44 | -1.02 | F | -1.49 |\n| 2 | 20 | -0.08 |  0.71 |  0.71 | -0.51 |  0.64 | -0.02 | F |  1.45 |\n| 3 | 23 | -2.01 | -0.77 | -1.02 | -2.27 | -1.05 | -1.57 | F | -8.69 |\n| 4 | 29 |  1.00 |  0.88 | -0.09 | -0.26 |  0.80 |  0.07 | F |  2.40 |\n| 5 | 24 |  0.27 | -1.92 |  0.17 | -1.35 |  0.83 | -0.52 | M | -2.52 |\n| 6 | 27 | -0.45 | -0.48 | -0.31 | -1.45 |  0.01 | -0.90 | M | -3.58 |\n\n",
            "text/html": [
              "<table class=\"dataframe\">\n",
              "<caption>A data.frame: 6 × 10</caption>\n",
              "<thead>\n",
              "\t<tr><th scope=col>ID</th><th scope=col>Age</th><th scope=col>Q1</th><th scope=col>Q2</th><th scope=col>Q3</th><th scope=col>Q4</th><th scope=col>Q5</th><th scope=col>Q6</th><th scope=col>Sex</th><th scope=col>Q_total</th></tr>\n",
              "\t<tr><th scope=col>&lt;int&gt;</th><th scope=col>&lt;int&gt;</th><th scope=col>&lt;dbl&gt;</th><th scope=col>&lt;dbl&gt;</th><th scope=col>&lt;dbl&gt;</th><th scope=col>&lt;dbl&gt;</th><th scope=col>&lt;dbl&gt;</th><th scope=col>&lt;dbl&gt;</th><th scope=col>&lt;fct&gt;</th><th scope=col>&lt;dbl&gt;</th></tr>\n",
              "</thead>\n",
              "<tbody>\n",
              "\t<tr><td>1</td><td>25</td><td>-0.49</td><td> 0.40</td><td> 0.53</td><td>-0.47</td><td>-0.44</td><td>-1.02</td><td>F</td><td>-1.49</td></tr>\n",
              "\t<tr><td>2</td><td>20</td><td>-0.08</td><td> 0.71</td><td> 0.71</td><td>-0.51</td><td> 0.64</td><td>-0.02</td><td>F</td><td> 1.45</td></tr>\n",
              "\t<tr><td>3</td><td>23</td><td>-2.01</td><td>-0.77</td><td>-1.02</td><td>-2.27</td><td>-1.05</td><td>-1.57</td><td>F</td><td>-8.69</td></tr>\n",
              "\t<tr><td>4</td><td>29</td><td> 1.00</td><td> 0.88</td><td>-0.09</td><td>-0.26</td><td> 0.80</td><td> 0.07</td><td>F</td><td> 2.40</td></tr>\n",
              "\t<tr><td>5</td><td>24</td><td> 0.27</td><td>-1.92</td><td> 0.17</td><td>-1.35</td><td> 0.83</td><td>-0.52</td><td>M</td><td>-2.52</td></tr>\n",
              "\t<tr><td>6</td><td>27</td><td>-0.45</td><td>-0.48</td><td>-0.31</td><td>-1.45</td><td> 0.01</td><td>-0.90</td><td>M</td><td>-3.58</td></tr>\n",
              "</tbody>\n",
              "</table>\n"
            ]
          },
          "metadata": {
            "tags": []
          }
        }
      ]
    },
    {
      "cell_type": "markdown",
      "metadata": {
        "id": "_zdt2zM1Ivq-"
      },
      "source": [
        "apply()とsum()の組み合わせの代わりに、rowSums()を使うこともできる"
      ]
    },
    {
      "cell_type": "code",
      "metadata": {
        "colab": {
          "base_uri": "https://localhost:8080/",
          "height": 283
        },
        "id": "88611jJ7I0z4",
        "outputId": "b3a49aa7-b301-4f66-9de2-92362f7c511f"
      },
      "source": [
        "QIMU_raw %>% \n",
        "  select(Q1:Q6) %>%  \n",
        "  mutate(Q_total = rowSums(.))"
      ],
      "execution_count": 6,
      "outputs": [
        {
          "output_type": "display_data",
          "data": {
            "text/plain": [
              "  Q1    Q2    Q3    Q4    Q5    Q6    Q_total\n",
              "1 -0.49  0.40  0.53 -0.47 -0.44 -1.02 -1.49  \n",
              "2 -0.08  0.71  0.71 -0.51  0.64 -0.02  1.45  \n",
              "3 -2.01 -0.77 -1.02 -2.27 -1.05 -1.57 -8.69  \n",
              "4  1.00  0.88 -0.09 -0.26  0.80  0.07  2.40  \n",
              "5  0.27 -1.92  0.17 -1.35  0.83 -0.52 -2.52  \n",
              "6 -0.45 -0.48 -0.31 -1.45  0.01 -0.90 -3.58  "
            ],
            "text/latex": "A data.frame: 6 × 7\n\\begin{tabular}{lllllll}\n Q1 & Q2 & Q3 & Q4 & Q5 & Q6 & Q\\_total\\\\\n <dbl> & <dbl> & <dbl> & <dbl> & <dbl> & <dbl> & <dbl>\\\\\n\\hline\n\t -0.49 &  0.40 &  0.53 & -0.47 & -0.44 & -1.02 & -1.49\\\\\n\t -0.08 &  0.71 &  0.71 & -0.51 &  0.64 & -0.02 &  1.45\\\\\n\t -2.01 & -0.77 & -1.02 & -2.27 & -1.05 & -1.57 & -8.69\\\\\n\t  1.00 &  0.88 & -0.09 & -0.26 &  0.80 &  0.07 &  2.40\\\\\n\t  0.27 & -1.92 &  0.17 & -1.35 &  0.83 & -0.52 & -2.52\\\\\n\t -0.45 & -0.48 & -0.31 & -1.45 &  0.01 & -0.90 & -3.58\\\\\n\\end{tabular}\n",
            "text/markdown": "\nA data.frame: 6 × 7\n\n| Q1 &lt;dbl&gt; | Q2 &lt;dbl&gt; | Q3 &lt;dbl&gt; | Q4 &lt;dbl&gt; | Q5 &lt;dbl&gt; | Q6 &lt;dbl&gt; | Q_total &lt;dbl&gt; |\n|---|---|---|---|---|---|---|\n| -0.49 |  0.40 |  0.53 | -0.47 | -0.44 | -1.02 | -1.49 |\n| -0.08 |  0.71 |  0.71 | -0.51 |  0.64 | -0.02 |  1.45 |\n| -2.01 | -0.77 | -1.02 | -2.27 | -1.05 | -1.57 | -8.69 |\n|  1.00 |  0.88 | -0.09 | -0.26 |  0.80 |  0.07 |  2.40 |\n|  0.27 | -1.92 |  0.17 | -1.35 |  0.83 | -0.52 | -2.52 |\n| -0.45 | -0.48 | -0.31 | -1.45 |  0.01 | -0.90 | -3.58 |\n\n",
            "text/html": [
              "<table class=\"dataframe\">\n",
              "<caption>A data.frame: 6 × 7</caption>\n",
              "<thead>\n",
              "\t<tr><th scope=col>Q1</th><th scope=col>Q2</th><th scope=col>Q3</th><th scope=col>Q4</th><th scope=col>Q5</th><th scope=col>Q6</th><th scope=col>Q_total</th></tr>\n",
              "\t<tr><th scope=col>&lt;dbl&gt;</th><th scope=col>&lt;dbl&gt;</th><th scope=col>&lt;dbl&gt;</th><th scope=col>&lt;dbl&gt;</th><th scope=col>&lt;dbl&gt;</th><th scope=col>&lt;dbl&gt;</th><th scope=col>&lt;dbl&gt;</th></tr>\n",
              "</thead>\n",
              "<tbody>\n",
              "\t<tr><td>-0.49</td><td> 0.40</td><td> 0.53</td><td>-0.47</td><td>-0.44</td><td>-1.02</td><td>-1.49</td></tr>\n",
              "\t<tr><td>-0.08</td><td> 0.71</td><td> 0.71</td><td>-0.51</td><td> 0.64</td><td>-0.02</td><td> 1.45</td></tr>\n",
              "\t<tr><td>-2.01</td><td>-0.77</td><td>-1.02</td><td>-2.27</td><td>-1.05</td><td>-1.57</td><td>-8.69</td></tr>\n",
              "\t<tr><td> 1.00</td><td> 0.88</td><td>-0.09</td><td>-0.26</td><td> 0.80</td><td> 0.07</td><td> 2.40</td></tr>\n",
              "\t<tr><td> 0.27</td><td>-1.92</td><td> 0.17</td><td>-1.35</td><td> 0.83</td><td>-0.52</td><td>-2.52</td></tr>\n",
              "\t<tr><td>-0.45</td><td>-0.48</td><td>-0.31</td><td>-1.45</td><td> 0.01</td><td>-0.90</td><td>-3.58</td></tr>\n",
              "</tbody>\n",
              "</table>\n"
            ]
          },
          "metadata": {
            "tags": []
          }
        }
      ]
    },
    {
      "cell_type": "markdown",
      "metadata": {
        "id": "LZdf9P_XJNZD"
      },
      "source": [
        "Qで始まる以外の列も残したまま同じことを実現するには？"
      ]
    },
    {
      "cell_type": "code",
      "metadata": {
        "colab": {
          "base_uri": "https://localhost:8080/",
          "height": 283
        },
        "id": "qrMlv-49JR-d",
        "outputId": "516220e1-d8da-43e4-b5d4-5df49bfc675f"
      },
      "source": [
        "QIMU_raw %>% \n",
        "  mutate(Q_total = rowSums(select(., Q1:Q6)))"
      ],
      "execution_count": 7,
      "outputs": [
        {
          "output_type": "display_data",
          "data": {
            "text/plain": [
              "  ID Age Q1    Q2    Q3    Q4    Q5    Q6    Sex Q_total\n",
              "1 1  25  -0.49  0.40  0.53 -0.47 -0.44 -1.02 F   -1.49  \n",
              "2 2  20  -0.08  0.71  0.71 -0.51  0.64 -0.02 F    1.45  \n",
              "3 3  23  -2.01 -0.77 -1.02 -2.27 -1.05 -1.57 F   -8.69  \n",
              "4 4  29   1.00  0.88 -0.09 -0.26  0.80  0.07 F    2.40  \n",
              "5 5  24   0.27 -1.92  0.17 -1.35  0.83 -0.52 M   -2.52  \n",
              "6 6  27  -0.45 -0.48 -0.31 -1.45  0.01 -0.90 M   -3.58  "
            ],
            "text/latex": "A data.frame: 6 × 10\n\\begin{tabular}{llllllllll}\n ID & Age & Q1 & Q2 & Q3 & Q4 & Q5 & Q6 & Sex & Q\\_total\\\\\n <int> & <int> & <dbl> & <dbl> & <dbl> & <dbl> & <dbl> & <dbl> & <fct> & <dbl>\\\\\n\\hline\n\t 1 & 25 & -0.49 &  0.40 &  0.53 & -0.47 & -0.44 & -1.02 & F & -1.49\\\\\n\t 2 & 20 & -0.08 &  0.71 &  0.71 & -0.51 &  0.64 & -0.02 & F &  1.45\\\\\n\t 3 & 23 & -2.01 & -0.77 & -1.02 & -2.27 & -1.05 & -1.57 & F & -8.69\\\\\n\t 4 & 29 &  1.00 &  0.88 & -0.09 & -0.26 &  0.80 &  0.07 & F &  2.40\\\\\n\t 5 & 24 &  0.27 & -1.92 &  0.17 & -1.35 &  0.83 & -0.52 & M & -2.52\\\\\n\t 6 & 27 & -0.45 & -0.48 & -0.31 & -1.45 &  0.01 & -0.90 & M & -3.58\\\\\n\\end{tabular}\n",
            "text/markdown": "\nA data.frame: 6 × 10\n\n| ID &lt;int&gt; | Age &lt;int&gt; | Q1 &lt;dbl&gt; | Q2 &lt;dbl&gt; | Q3 &lt;dbl&gt; | Q4 &lt;dbl&gt; | Q5 &lt;dbl&gt; | Q6 &lt;dbl&gt; | Sex &lt;fct&gt; | Q_total &lt;dbl&gt; |\n|---|---|---|---|---|---|---|---|---|---|\n| 1 | 25 | -0.49 |  0.40 |  0.53 | -0.47 | -0.44 | -1.02 | F | -1.49 |\n| 2 | 20 | -0.08 |  0.71 |  0.71 | -0.51 |  0.64 | -0.02 | F |  1.45 |\n| 3 | 23 | -2.01 | -0.77 | -1.02 | -2.27 | -1.05 | -1.57 | F | -8.69 |\n| 4 | 29 |  1.00 |  0.88 | -0.09 | -0.26 |  0.80 |  0.07 | F |  2.40 |\n| 5 | 24 |  0.27 | -1.92 |  0.17 | -1.35 |  0.83 | -0.52 | M | -2.52 |\n| 6 | 27 | -0.45 | -0.48 | -0.31 | -1.45 |  0.01 | -0.90 | M | -3.58 |\n\n",
            "text/html": [
              "<table class=\"dataframe\">\n",
              "<caption>A data.frame: 6 × 10</caption>\n",
              "<thead>\n",
              "\t<tr><th scope=col>ID</th><th scope=col>Age</th><th scope=col>Q1</th><th scope=col>Q2</th><th scope=col>Q3</th><th scope=col>Q4</th><th scope=col>Q5</th><th scope=col>Q6</th><th scope=col>Sex</th><th scope=col>Q_total</th></tr>\n",
              "\t<tr><th scope=col>&lt;int&gt;</th><th scope=col>&lt;int&gt;</th><th scope=col>&lt;dbl&gt;</th><th scope=col>&lt;dbl&gt;</th><th scope=col>&lt;dbl&gt;</th><th scope=col>&lt;dbl&gt;</th><th scope=col>&lt;dbl&gt;</th><th scope=col>&lt;dbl&gt;</th><th scope=col>&lt;fct&gt;</th><th scope=col>&lt;dbl&gt;</th></tr>\n",
              "</thead>\n",
              "<tbody>\n",
              "\t<tr><td>1</td><td>25</td><td>-0.49</td><td> 0.40</td><td> 0.53</td><td>-0.47</td><td>-0.44</td><td>-1.02</td><td>F</td><td>-1.49</td></tr>\n",
              "\t<tr><td>2</td><td>20</td><td>-0.08</td><td> 0.71</td><td> 0.71</td><td>-0.51</td><td> 0.64</td><td>-0.02</td><td>F</td><td> 1.45</td></tr>\n",
              "\t<tr><td>3</td><td>23</td><td>-2.01</td><td>-0.77</td><td>-1.02</td><td>-2.27</td><td>-1.05</td><td>-1.57</td><td>F</td><td>-8.69</td></tr>\n",
              "\t<tr><td>4</td><td>29</td><td> 1.00</td><td> 0.88</td><td>-0.09</td><td>-0.26</td><td> 0.80</td><td> 0.07</td><td>F</td><td> 2.40</td></tr>\n",
              "\t<tr><td>5</td><td>24</td><td> 0.27</td><td>-1.92</td><td> 0.17</td><td>-1.35</td><td> 0.83</td><td>-0.52</td><td>M</td><td>-2.52</td></tr>\n",
              "\t<tr><td>6</td><td>27</td><td>-0.45</td><td>-0.48</td><td>-0.31</td><td>-1.45</td><td> 0.01</td><td>-0.90</td><td>M</td><td>-3.58</td></tr>\n",
              "</tbody>\n",
              "</table>\n"
            ]
          },
          "metadata": {
            "tags": []
          }
        }
      ]
    },
    {
      "cell_type": "code",
      "metadata": {
        "colab": {
          "base_uri": "https://localhost:8080/",
          "height": 283
        },
        "id": "9zwi_xLqJad4",
        "outputId": "229fc8bc-2050-43f9-ad72-10b53b4ca136"
      },
      "source": [
        "QIMU_raw %>% \n",
        "  mutate(Q_total = rowSums(select(., starts_with(\"Q\"))))"
      ],
      "execution_count": 8,
      "outputs": [
        {
          "output_type": "display_data",
          "data": {
            "text/plain": [
              "  ID Age Q1    Q2    Q3    Q4    Q5    Q6    Sex Q_total\n",
              "1 1  25  -0.49  0.40  0.53 -0.47 -0.44 -1.02 F   -1.49  \n",
              "2 2  20  -0.08  0.71  0.71 -0.51  0.64 -0.02 F    1.45  \n",
              "3 3  23  -2.01 -0.77 -1.02 -2.27 -1.05 -1.57 F   -8.69  \n",
              "4 4  29   1.00  0.88 -0.09 -0.26  0.80  0.07 F    2.40  \n",
              "5 5  24   0.27 -1.92  0.17 -1.35  0.83 -0.52 M   -2.52  \n",
              "6 6  27  -0.45 -0.48 -0.31 -1.45  0.01 -0.90 M   -3.58  "
            ],
            "text/latex": "A data.frame: 6 × 10\n\\begin{tabular}{llllllllll}\n ID & Age & Q1 & Q2 & Q3 & Q4 & Q5 & Q6 & Sex & Q\\_total\\\\\n <int> & <int> & <dbl> & <dbl> & <dbl> & <dbl> & <dbl> & <dbl> & <fct> & <dbl>\\\\\n\\hline\n\t 1 & 25 & -0.49 &  0.40 &  0.53 & -0.47 & -0.44 & -1.02 & F & -1.49\\\\\n\t 2 & 20 & -0.08 &  0.71 &  0.71 & -0.51 &  0.64 & -0.02 & F &  1.45\\\\\n\t 3 & 23 & -2.01 & -0.77 & -1.02 & -2.27 & -1.05 & -1.57 & F & -8.69\\\\\n\t 4 & 29 &  1.00 &  0.88 & -0.09 & -0.26 &  0.80 &  0.07 & F &  2.40\\\\\n\t 5 & 24 &  0.27 & -1.92 &  0.17 & -1.35 &  0.83 & -0.52 & M & -2.52\\\\\n\t 6 & 27 & -0.45 & -0.48 & -0.31 & -1.45 &  0.01 & -0.90 & M & -3.58\\\\\n\\end{tabular}\n",
            "text/markdown": "\nA data.frame: 6 × 10\n\n| ID &lt;int&gt; | Age &lt;int&gt; | Q1 &lt;dbl&gt; | Q2 &lt;dbl&gt; | Q3 &lt;dbl&gt; | Q4 &lt;dbl&gt; | Q5 &lt;dbl&gt; | Q6 &lt;dbl&gt; | Sex &lt;fct&gt; | Q_total &lt;dbl&gt; |\n|---|---|---|---|---|---|---|---|---|---|\n| 1 | 25 | -0.49 |  0.40 |  0.53 | -0.47 | -0.44 | -1.02 | F | -1.49 |\n| 2 | 20 | -0.08 |  0.71 |  0.71 | -0.51 |  0.64 | -0.02 | F |  1.45 |\n| 3 | 23 | -2.01 | -0.77 | -1.02 | -2.27 | -1.05 | -1.57 | F | -8.69 |\n| 4 | 29 |  1.00 |  0.88 | -0.09 | -0.26 |  0.80 |  0.07 | F |  2.40 |\n| 5 | 24 |  0.27 | -1.92 |  0.17 | -1.35 |  0.83 | -0.52 | M | -2.52 |\n| 6 | 27 | -0.45 | -0.48 | -0.31 | -1.45 |  0.01 | -0.90 | M | -3.58 |\n\n",
            "text/html": [
              "<table class=\"dataframe\">\n",
              "<caption>A data.frame: 6 × 10</caption>\n",
              "<thead>\n",
              "\t<tr><th scope=col>ID</th><th scope=col>Age</th><th scope=col>Q1</th><th scope=col>Q2</th><th scope=col>Q3</th><th scope=col>Q4</th><th scope=col>Q5</th><th scope=col>Q6</th><th scope=col>Sex</th><th scope=col>Q_total</th></tr>\n",
              "\t<tr><th scope=col>&lt;int&gt;</th><th scope=col>&lt;int&gt;</th><th scope=col>&lt;dbl&gt;</th><th scope=col>&lt;dbl&gt;</th><th scope=col>&lt;dbl&gt;</th><th scope=col>&lt;dbl&gt;</th><th scope=col>&lt;dbl&gt;</th><th scope=col>&lt;dbl&gt;</th><th scope=col>&lt;fct&gt;</th><th scope=col>&lt;dbl&gt;</th></tr>\n",
              "</thead>\n",
              "<tbody>\n",
              "\t<tr><td>1</td><td>25</td><td>-0.49</td><td> 0.40</td><td> 0.53</td><td>-0.47</td><td>-0.44</td><td>-1.02</td><td>F</td><td>-1.49</td></tr>\n",
              "\t<tr><td>2</td><td>20</td><td>-0.08</td><td> 0.71</td><td> 0.71</td><td>-0.51</td><td> 0.64</td><td>-0.02</td><td>F</td><td> 1.45</td></tr>\n",
              "\t<tr><td>3</td><td>23</td><td>-2.01</td><td>-0.77</td><td>-1.02</td><td>-2.27</td><td>-1.05</td><td>-1.57</td><td>F</td><td>-8.69</td></tr>\n",
              "\t<tr><td>4</td><td>29</td><td> 1.00</td><td> 0.88</td><td>-0.09</td><td>-0.26</td><td> 0.80</td><td> 0.07</td><td>F</td><td> 2.40</td></tr>\n",
              "\t<tr><td>5</td><td>24</td><td> 0.27</td><td>-1.92</td><td> 0.17</td><td>-1.35</td><td> 0.83</td><td>-0.52</td><td>M</td><td>-2.52</td></tr>\n",
              "\t<tr><td>6</td><td>27</td><td>-0.45</td><td>-0.48</td><td>-0.31</td><td>-1.45</td><td> 0.01</td><td>-0.90</td><td>M</td><td>-3.58</td></tr>\n",
              "</tbody>\n",
              "</table>\n"
            ]
          },
          "metadata": {
            "tags": []
          }
        }
      ]
    },
    {
      "cell_type": "markdown",
      "metadata": {
        "id": "ZuDx8YVaIgoJ"
      },
      "source": [
        "さらに、よりモダンなtidyverse-likeな書き方も見てみよう"
      ]
    },
    {
      "cell_type": "markdown",
      "metadata": {
        "id": "Lb-pXmHyJMtw"
      },
      "source": [
        "複数の列に対して操作を実現するacross()を使ってみよう"
      ]
    },
    {
      "cell_type": "code",
      "metadata": {
        "colab": {
          "base_uri": "https://localhost:8080/",
          "height": 283
        },
        "id": "fvJfs6BfJwJW",
        "outputId": "346aead1-137f-47a5-e698-911668091898"
      },
      "source": [
        "QIMU_raw %>%\n",
        "  mutate(Q_total = rowSums(across(Q1:Q6)))"
      ],
      "execution_count": 9,
      "outputs": [
        {
          "output_type": "display_data",
          "data": {
            "text/plain": [
              "  ID Age Q1    Q2    Q3    Q4    Q5    Q6    Sex Q_total\n",
              "1 1  25  -0.49  0.40  0.53 -0.47 -0.44 -1.02 F   -1.49  \n",
              "2 2  20  -0.08  0.71  0.71 -0.51  0.64 -0.02 F    1.45  \n",
              "3 3  23  -2.01 -0.77 -1.02 -2.27 -1.05 -1.57 F   -8.69  \n",
              "4 4  29   1.00  0.88 -0.09 -0.26  0.80  0.07 F    2.40  \n",
              "5 5  24   0.27 -1.92  0.17 -1.35  0.83 -0.52 M   -2.52  \n",
              "6 6  27  -0.45 -0.48 -0.31 -1.45  0.01 -0.90 M   -3.58  "
            ],
            "text/latex": "A data.frame: 6 × 10\n\\begin{tabular}{llllllllll}\n ID & Age & Q1 & Q2 & Q3 & Q4 & Q5 & Q6 & Sex & Q\\_total\\\\\n <int> & <int> & <dbl> & <dbl> & <dbl> & <dbl> & <dbl> & <dbl> & <fct> & <dbl>\\\\\n\\hline\n\t 1 & 25 & -0.49 &  0.40 &  0.53 & -0.47 & -0.44 & -1.02 & F & -1.49\\\\\n\t 2 & 20 & -0.08 &  0.71 &  0.71 & -0.51 &  0.64 & -0.02 & F &  1.45\\\\\n\t 3 & 23 & -2.01 & -0.77 & -1.02 & -2.27 & -1.05 & -1.57 & F & -8.69\\\\\n\t 4 & 29 &  1.00 &  0.88 & -0.09 & -0.26 &  0.80 &  0.07 & F &  2.40\\\\\n\t 5 & 24 &  0.27 & -1.92 &  0.17 & -1.35 &  0.83 & -0.52 & M & -2.52\\\\\n\t 6 & 27 & -0.45 & -0.48 & -0.31 & -1.45 &  0.01 & -0.90 & M & -3.58\\\\\n\\end{tabular}\n",
            "text/markdown": "\nA data.frame: 6 × 10\n\n| ID &lt;int&gt; | Age &lt;int&gt; | Q1 &lt;dbl&gt; | Q2 &lt;dbl&gt; | Q3 &lt;dbl&gt; | Q4 &lt;dbl&gt; | Q5 &lt;dbl&gt; | Q6 &lt;dbl&gt; | Sex &lt;fct&gt; | Q_total &lt;dbl&gt; |\n|---|---|---|---|---|---|---|---|---|---|\n| 1 | 25 | -0.49 |  0.40 |  0.53 | -0.47 | -0.44 | -1.02 | F | -1.49 |\n| 2 | 20 | -0.08 |  0.71 |  0.71 | -0.51 |  0.64 | -0.02 | F |  1.45 |\n| 3 | 23 | -2.01 | -0.77 | -1.02 | -2.27 | -1.05 | -1.57 | F | -8.69 |\n| 4 | 29 |  1.00 |  0.88 | -0.09 | -0.26 |  0.80 |  0.07 | F |  2.40 |\n| 5 | 24 |  0.27 | -1.92 |  0.17 | -1.35 |  0.83 | -0.52 | M | -2.52 |\n| 6 | 27 | -0.45 | -0.48 | -0.31 | -1.45 |  0.01 | -0.90 | M | -3.58 |\n\n",
            "text/html": [
              "<table class=\"dataframe\">\n",
              "<caption>A data.frame: 6 × 10</caption>\n",
              "<thead>\n",
              "\t<tr><th scope=col>ID</th><th scope=col>Age</th><th scope=col>Q1</th><th scope=col>Q2</th><th scope=col>Q3</th><th scope=col>Q4</th><th scope=col>Q5</th><th scope=col>Q6</th><th scope=col>Sex</th><th scope=col>Q_total</th></tr>\n",
              "\t<tr><th scope=col>&lt;int&gt;</th><th scope=col>&lt;int&gt;</th><th scope=col>&lt;dbl&gt;</th><th scope=col>&lt;dbl&gt;</th><th scope=col>&lt;dbl&gt;</th><th scope=col>&lt;dbl&gt;</th><th scope=col>&lt;dbl&gt;</th><th scope=col>&lt;dbl&gt;</th><th scope=col>&lt;fct&gt;</th><th scope=col>&lt;dbl&gt;</th></tr>\n",
              "</thead>\n",
              "<tbody>\n",
              "\t<tr><td>1</td><td>25</td><td>-0.49</td><td> 0.40</td><td> 0.53</td><td>-0.47</td><td>-0.44</td><td>-1.02</td><td>F</td><td>-1.49</td></tr>\n",
              "\t<tr><td>2</td><td>20</td><td>-0.08</td><td> 0.71</td><td> 0.71</td><td>-0.51</td><td> 0.64</td><td>-0.02</td><td>F</td><td> 1.45</td></tr>\n",
              "\t<tr><td>3</td><td>23</td><td>-2.01</td><td>-0.77</td><td>-1.02</td><td>-2.27</td><td>-1.05</td><td>-1.57</td><td>F</td><td>-8.69</td></tr>\n",
              "\t<tr><td>4</td><td>29</td><td> 1.00</td><td> 0.88</td><td>-0.09</td><td>-0.26</td><td> 0.80</td><td> 0.07</td><td>F</td><td> 2.40</td></tr>\n",
              "\t<tr><td>5</td><td>24</td><td> 0.27</td><td>-1.92</td><td> 0.17</td><td>-1.35</td><td> 0.83</td><td>-0.52</td><td>M</td><td>-2.52</td></tr>\n",
              "\t<tr><td>6</td><td>27</td><td>-0.45</td><td>-0.48</td><td>-0.31</td><td>-1.45</td><td> 0.01</td><td>-0.90</td><td>M</td><td>-3.58</td></tr>\n",
              "</tbody>\n",
              "</table>\n"
            ]
          },
          "metadata": {
            "tags": []
          }
        }
      ]
    },
    {
      "cell_type": "code",
      "metadata": {
        "colab": {
          "base_uri": "https://localhost:8080/",
          "height": 283
        },
        "id": "xxk29tBuJ6KK",
        "outputId": "ab0c3edc-1afc-46f0-d9ff-b43bd3ae925c"
      },
      "source": [
        "QIMU_raw %>%\n",
        "  mutate(Q_total = rowSums(across(starts_with(\"Q\"))))"
      ],
      "execution_count": 10,
      "outputs": [
        {
          "output_type": "display_data",
          "data": {
            "text/plain": [
              "  ID Age Q1    Q2    Q3    Q4    Q5    Q6    Sex Q_total\n",
              "1 1  25  -0.49  0.40  0.53 -0.47 -0.44 -1.02 F   -1.49  \n",
              "2 2  20  -0.08  0.71  0.71 -0.51  0.64 -0.02 F    1.45  \n",
              "3 3  23  -2.01 -0.77 -1.02 -2.27 -1.05 -1.57 F   -8.69  \n",
              "4 4  29   1.00  0.88 -0.09 -0.26  0.80  0.07 F    2.40  \n",
              "5 5  24   0.27 -1.92  0.17 -1.35  0.83 -0.52 M   -2.52  \n",
              "6 6  27  -0.45 -0.48 -0.31 -1.45  0.01 -0.90 M   -3.58  "
            ],
            "text/latex": "A data.frame: 6 × 10\n\\begin{tabular}{llllllllll}\n ID & Age & Q1 & Q2 & Q3 & Q4 & Q5 & Q6 & Sex & Q\\_total\\\\\n <int> & <int> & <dbl> & <dbl> & <dbl> & <dbl> & <dbl> & <dbl> & <fct> & <dbl>\\\\\n\\hline\n\t 1 & 25 & -0.49 &  0.40 &  0.53 & -0.47 & -0.44 & -1.02 & F & -1.49\\\\\n\t 2 & 20 & -0.08 &  0.71 &  0.71 & -0.51 &  0.64 & -0.02 & F &  1.45\\\\\n\t 3 & 23 & -2.01 & -0.77 & -1.02 & -2.27 & -1.05 & -1.57 & F & -8.69\\\\\n\t 4 & 29 &  1.00 &  0.88 & -0.09 & -0.26 &  0.80 &  0.07 & F &  2.40\\\\\n\t 5 & 24 &  0.27 & -1.92 &  0.17 & -1.35 &  0.83 & -0.52 & M & -2.52\\\\\n\t 6 & 27 & -0.45 & -0.48 & -0.31 & -1.45 &  0.01 & -0.90 & M & -3.58\\\\\n\\end{tabular}\n",
            "text/markdown": "\nA data.frame: 6 × 10\n\n| ID &lt;int&gt; | Age &lt;int&gt; | Q1 &lt;dbl&gt; | Q2 &lt;dbl&gt; | Q3 &lt;dbl&gt; | Q4 &lt;dbl&gt; | Q5 &lt;dbl&gt; | Q6 &lt;dbl&gt; | Sex &lt;fct&gt; | Q_total &lt;dbl&gt; |\n|---|---|---|---|---|---|---|---|---|---|\n| 1 | 25 | -0.49 |  0.40 |  0.53 | -0.47 | -0.44 | -1.02 | F | -1.49 |\n| 2 | 20 | -0.08 |  0.71 |  0.71 | -0.51 |  0.64 | -0.02 | F |  1.45 |\n| 3 | 23 | -2.01 | -0.77 | -1.02 | -2.27 | -1.05 | -1.57 | F | -8.69 |\n| 4 | 29 |  1.00 |  0.88 | -0.09 | -0.26 |  0.80 |  0.07 | F |  2.40 |\n| 5 | 24 |  0.27 | -1.92 |  0.17 | -1.35 |  0.83 | -0.52 | M | -2.52 |\n| 6 | 27 | -0.45 | -0.48 | -0.31 | -1.45 |  0.01 | -0.90 | M | -3.58 |\n\n",
            "text/html": [
              "<table class=\"dataframe\">\n",
              "<caption>A data.frame: 6 × 10</caption>\n",
              "<thead>\n",
              "\t<tr><th scope=col>ID</th><th scope=col>Age</th><th scope=col>Q1</th><th scope=col>Q2</th><th scope=col>Q3</th><th scope=col>Q4</th><th scope=col>Q5</th><th scope=col>Q6</th><th scope=col>Sex</th><th scope=col>Q_total</th></tr>\n",
              "\t<tr><th scope=col>&lt;int&gt;</th><th scope=col>&lt;int&gt;</th><th scope=col>&lt;dbl&gt;</th><th scope=col>&lt;dbl&gt;</th><th scope=col>&lt;dbl&gt;</th><th scope=col>&lt;dbl&gt;</th><th scope=col>&lt;dbl&gt;</th><th scope=col>&lt;dbl&gt;</th><th scope=col>&lt;fct&gt;</th><th scope=col>&lt;dbl&gt;</th></tr>\n",
              "</thead>\n",
              "<tbody>\n",
              "\t<tr><td>1</td><td>25</td><td>-0.49</td><td> 0.40</td><td> 0.53</td><td>-0.47</td><td>-0.44</td><td>-1.02</td><td>F</td><td>-1.49</td></tr>\n",
              "\t<tr><td>2</td><td>20</td><td>-0.08</td><td> 0.71</td><td> 0.71</td><td>-0.51</td><td> 0.64</td><td>-0.02</td><td>F</td><td> 1.45</td></tr>\n",
              "\t<tr><td>3</td><td>23</td><td>-2.01</td><td>-0.77</td><td>-1.02</td><td>-2.27</td><td>-1.05</td><td>-1.57</td><td>F</td><td>-8.69</td></tr>\n",
              "\t<tr><td>4</td><td>29</td><td> 1.00</td><td> 0.88</td><td>-0.09</td><td>-0.26</td><td> 0.80</td><td> 0.07</td><td>F</td><td> 2.40</td></tr>\n",
              "\t<tr><td>5</td><td>24</td><td> 0.27</td><td>-1.92</td><td> 0.17</td><td>-1.35</td><td> 0.83</td><td>-0.52</td><td>M</td><td>-2.52</td></tr>\n",
              "\t<tr><td>6</td><td>27</td><td>-0.45</td><td>-0.48</td><td>-0.31</td><td>-1.45</td><td> 0.01</td><td>-0.90</td><td>M</td><td>-3.58</td></tr>\n",
              "</tbody>\n",
              "</table>\n"
            ]
          },
          "metadata": {
            "tags": []
          }
        }
      ]
    },
    {
      "cell_type": "markdown",
      "metadata": {
        "id": "wy1p3QJONobO"
      },
      "source": [
        "across()の詳しい説明は https://dplyr.tidyverse.org/reference/across.html （ただし、詳しすぎて混乱するかも）"
      ]
    },
    {
      "cell_type": "markdown",
      "metadata": {
        "id": "tFNu5wqgJ_5M"
      },
      "source": [
        "また、行方向に操作することを明示的に行うrowwise()と組み合わせることもできる。\n",
        "さらに、c_across()で列の範囲を指定できる。"
      ]
    },
    {
      "cell_type": "code",
      "metadata": {
        "colab": {
          "base_uri": "https://localhost:8080/",
          "height": 283
        },
        "id": "OViUqQPnKUrf",
        "outputId": "ed3b6815-0c32-4b29-e3e2-7758871add17"
      },
      "source": [
        "QIMU_raw %>% \n",
        "  rowwise() %>%\n",
        "  mutate(Q_total = sum(c_across(Q1:Q6)))"
      ],
      "execution_count": 11,
      "outputs": [
        {
          "output_type": "display_data",
          "data": {
            "text/plain": [
              "  ID Age Q1    Q2    Q3    Q4    Q5    Q6    Sex Q_total\n",
              "1 1  25  -0.49  0.40  0.53 -0.47 -0.44 -1.02 F   -1.49  \n",
              "2 2  20  -0.08  0.71  0.71 -0.51  0.64 -0.02 F    1.45  \n",
              "3 3  23  -2.01 -0.77 -1.02 -2.27 -1.05 -1.57 F   -8.69  \n",
              "4 4  29   1.00  0.88 -0.09 -0.26  0.80  0.07 F    2.40  \n",
              "5 5  24   0.27 -1.92  0.17 -1.35  0.83 -0.52 M   -2.52  \n",
              "6 6  27  -0.45 -0.48 -0.31 -1.45  0.01 -0.90 M   -3.58  "
            ],
            "text/latex": "A rowwise\\_df: 6 × 10\n\\begin{tabular}{llllllllll}\n ID & Age & Q1 & Q2 & Q3 & Q4 & Q5 & Q6 & Sex & Q\\_total\\\\\n <int> & <int> & <dbl> & <dbl> & <dbl> & <dbl> & <dbl> & <dbl> & <fct> & <dbl>\\\\\n\\hline\n\t 1 & 25 & -0.49 &  0.40 &  0.53 & -0.47 & -0.44 & -1.02 & F & -1.49\\\\\n\t 2 & 20 & -0.08 &  0.71 &  0.71 & -0.51 &  0.64 & -0.02 & F &  1.45\\\\\n\t 3 & 23 & -2.01 & -0.77 & -1.02 & -2.27 & -1.05 & -1.57 & F & -8.69\\\\\n\t 4 & 29 &  1.00 &  0.88 & -0.09 & -0.26 &  0.80 &  0.07 & F &  2.40\\\\\n\t 5 & 24 &  0.27 & -1.92 &  0.17 & -1.35 &  0.83 & -0.52 & M & -2.52\\\\\n\t 6 & 27 & -0.45 & -0.48 & -0.31 & -1.45 &  0.01 & -0.90 & M & -3.58\\\\\n\\end{tabular}\n",
            "text/markdown": "\nA rowwise_df: 6 × 10\n\n| ID &lt;int&gt; | Age &lt;int&gt; | Q1 &lt;dbl&gt; | Q2 &lt;dbl&gt; | Q3 &lt;dbl&gt; | Q4 &lt;dbl&gt; | Q5 &lt;dbl&gt; | Q6 &lt;dbl&gt; | Sex &lt;fct&gt; | Q_total &lt;dbl&gt; |\n|---|---|---|---|---|---|---|---|---|---|\n| 1 | 25 | -0.49 |  0.40 |  0.53 | -0.47 | -0.44 | -1.02 | F | -1.49 |\n| 2 | 20 | -0.08 |  0.71 |  0.71 | -0.51 |  0.64 | -0.02 | F |  1.45 |\n| 3 | 23 | -2.01 | -0.77 | -1.02 | -2.27 | -1.05 | -1.57 | F | -8.69 |\n| 4 | 29 |  1.00 |  0.88 | -0.09 | -0.26 |  0.80 |  0.07 | F |  2.40 |\n| 5 | 24 |  0.27 | -1.92 |  0.17 | -1.35 |  0.83 | -0.52 | M | -2.52 |\n| 6 | 27 | -0.45 | -0.48 | -0.31 | -1.45 |  0.01 | -0.90 | M | -3.58 |\n\n",
            "text/html": [
              "<table class=\"dataframe\">\n",
              "<caption>A rowwise_df: 6 × 10</caption>\n",
              "<thead>\n",
              "\t<tr><th scope=col>ID</th><th scope=col>Age</th><th scope=col>Q1</th><th scope=col>Q2</th><th scope=col>Q3</th><th scope=col>Q4</th><th scope=col>Q5</th><th scope=col>Q6</th><th scope=col>Sex</th><th scope=col>Q_total</th></tr>\n",
              "\t<tr><th scope=col>&lt;int&gt;</th><th scope=col>&lt;int&gt;</th><th scope=col>&lt;dbl&gt;</th><th scope=col>&lt;dbl&gt;</th><th scope=col>&lt;dbl&gt;</th><th scope=col>&lt;dbl&gt;</th><th scope=col>&lt;dbl&gt;</th><th scope=col>&lt;dbl&gt;</th><th scope=col>&lt;fct&gt;</th><th scope=col>&lt;dbl&gt;</th></tr>\n",
              "</thead>\n",
              "<tbody>\n",
              "\t<tr><td>1</td><td>25</td><td>-0.49</td><td> 0.40</td><td> 0.53</td><td>-0.47</td><td>-0.44</td><td>-1.02</td><td>F</td><td>-1.49</td></tr>\n",
              "\t<tr><td>2</td><td>20</td><td>-0.08</td><td> 0.71</td><td> 0.71</td><td>-0.51</td><td> 0.64</td><td>-0.02</td><td>F</td><td> 1.45</td></tr>\n",
              "\t<tr><td>3</td><td>23</td><td>-2.01</td><td>-0.77</td><td>-1.02</td><td>-2.27</td><td>-1.05</td><td>-1.57</td><td>F</td><td>-8.69</td></tr>\n",
              "\t<tr><td>4</td><td>29</td><td> 1.00</td><td> 0.88</td><td>-0.09</td><td>-0.26</td><td> 0.80</td><td> 0.07</td><td>F</td><td> 2.40</td></tr>\n",
              "\t<tr><td>5</td><td>24</td><td> 0.27</td><td>-1.92</td><td> 0.17</td><td>-1.35</td><td> 0.83</td><td>-0.52</td><td>M</td><td>-2.52</td></tr>\n",
              "\t<tr><td>6</td><td>27</td><td>-0.45</td><td>-0.48</td><td>-0.31</td><td>-1.45</td><td> 0.01</td><td>-0.90</td><td>M</td><td>-3.58</td></tr>\n",
              "</tbody>\n",
              "</table>\n"
            ]
          },
          "metadata": {
            "tags": []
          }
        }
      ]
    },
    {
      "cell_type": "markdown",
      "metadata": {
        "id": "NpD720WYKYjt"
      },
      "source": [
        "この場合は、rowSums()ではなく、sum()になっていることに注意しよう。なぜなら、rowwise()ですでに行方向に操作をすることは指定済みのため。"
      ]
    },
    {
      "cell_type": "markdown",
      "metadata": {
        "id": "utyrXdCKN1vQ"
      },
      "source": [
        "rowwise()の詳しい説明はここ https://dplyr.tidyverse.org/articles/rowwise.html"
      ]
    },
    {
      "cell_type": "markdown",
      "metadata": {
        "id": "9B2PMau8K2so"
      },
      "source": [
        "さらに発展編として、purrrパッケージのpmap_***()を使って実現することもできる。"
      ]
    },
    {
      "cell_type": "code",
      "metadata": {
        "colab": {
          "base_uri": "https://localhost:8080/",
          "height": 283
        },
        "id": "Eq7z9FPLLBY8",
        "outputId": "cb51770b-2c40-4426-aad3-bb464e823158"
      },
      "source": [
        "QIMU_raw %>% \n",
        "  mutate(Q_total = pmap_dbl(select(., starts_with(\"Q\")), sum))"
      ],
      "execution_count": 12,
      "outputs": [
        {
          "output_type": "display_data",
          "data": {
            "text/plain": [
              "  ID Age Q1    Q2    Q3    Q4    Q5    Q6    Sex Q_total\n",
              "1 1  25  -0.49  0.40  0.53 -0.47 -0.44 -1.02 F   -1.49  \n",
              "2 2  20  -0.08  0.71  0.71 -0.51  0.64 -0.02 F    1.45  \n",
              "3 3  23  -2.01 -0.77 -1.02 -2.27 -1.05 -1.57 F   -8.69  \n",
              "4 4  29   1.00  0.88 -0.09 -0.26  0.80  0.07 F    2.40  \n",
              "5 5  24   0.27 -1.92  0.17 -1.35  0.83 -0.52 M   -2.52  \n",
              "6 6  27  -0.45 -0.48 -0.31 -1.45  0.01 -0.90 M   -3.58  "
            ],
            "text/latex": "A data.frame: 6 × 10\n\\begin{tabular}{llllllllll}\n ID & Age & Q1 & Q2 & Q3 & Q4 & Q5 & Q6 & Sex & Q\\_total\\\\\n <int> & <int> & <dbl> & <dbl> & <dbl> & <dbl> & <dbl> & <dbl> & <fct> & <dbl>\\\\\n\\hline\n\t 1 & 25 & -0.49 &  0.40 &  0.53 & -0.47 & -0.44 & -1.02 & F & -1.49\\\\\n\t 2 & 20 & -0.08 &  0.71 &  0.71 & -0.51 &  0.64 & -0.02 & F &  1.45\\\\\n\t 3 & 23 & -2.01 & -0.77 & -1.02 & -2.27 & -1.05 & -1.57 & F & -8.69\\\\\n\t 4 & 29 &  1.00 &  0.88 & -0.09 & -0.26 &  0.80 &  0.07 & F &  2.40\\\\\n\t 5 & 24 &  0.27 & -1.92 &  0.17 & -1.35 &  0.83 & -0.52 & M & -2.52\\\\\n\t 6 & 27 & -0.45 & -0.48 & -0.31 & -1.45 &  0.01 & -0.90 & M & -3.58\\\\\n\\end{tabular}\n",
            "text/markdown": "\nA data.frame: 6 × 10\n\n| ID &lt;int&gt; | Age &lt;int&gt; | Q1 &lt;dbl&gt; | Q2 &lt;dbl&gt; | Q3 &lt;dbl&gt; | Q4 &lt;dbl&gt; | Q5 &lt;dbl&gt; | Q6 &lt;dbl&gt; | Sex &lt;fct&gt; | Q_total &lt;dbl&gt; |\n|---|---|---|---|---|---|---|---|---|---|\n| 1 | 25 | -0.49 |  0.40 |  0.53 | -0.47 | -0.44 | -1.02 | F | -1.49 |\n| 2 | 20 | -0.08 |  0.71 |  0.71 | -0.51 |  0.64 | -0.02 | F |  1.45 |\n| 3 | 23 | -2.01 | -0.77 | -1.02 | -2.27 | -1.05 | -1.57 | F | -8.69 |\n| 4 | 29 |  1.00 |  0.88 | -0.09 | -0.26 |  0.80 |  0.07 | F |  2.40 |\n| 5 | 24 |  0.27 | -1.92 |  0.17 | -1.35 |  0.83 | -0.52 | M | -2.52 |\n| 6 | 27 | -0.45 | -0.48 | -0.31 | -1.45 |  0.01 | -0.90 | M | -3.58 |\n\n",
            "text/html": [
              "<table class=\"dataframe\">\n",
              "<caption>A data.frame: 6 × 10</caption>\n",
              "<thead>\n",
              "\t<tr><th scope=col>ID</th><th scope=col>Age</th><th scope=col>Q1</th><th scope=col>Q2</th><th scope=col>Q3</th><th scope=col>Q4</th><th scope=col>Q5</th><th scope=col>Q6</th><th scope=col>Sex</th><th scope=col>Q_total</th></tr>\n",
              "\t<tr><th scope=col>&lt;int&gt;</th><th scope=col>&lt;int&gt;</th><th scope=col>&lt;dbl&gt;</th><th scope=col>&lt;dbl&gt;</th><th scope=col>&lt;dbl&gt;</th><th scope=col>&lt;dbl&gt;</th><th scope=col>&lt;dbl&gt;</th><th scope=col>&lt;dbl&gt;</th><th scope=col>&lt;fct&gt;</th><th scope=col>&lt;dbl&gt;</th></tr>\n",
              "</thead>\n",
              "<tbody>\n",
              "\t<tr><td>1</td><td>25</td><td>-0.49</td><td> 0.40</td><td> 0.53</td><td>-0.47</td><td>-0.44</td><td>-1.02</td><td>F</td><td>-1.49</td></tr>\n",
              "\t<tr><td>2</td><td>20</td><td>-0.08</td><td> 0.71</td><td> 0.71</td><td>-0.51</td><td> 0.64</td><td>-0.02</td><td>F</td><td> 1.45</td></tr>\n",
              "\t<tr><td>3</td><td>23</td><td>-2.01</td><td>-0.77</td><td>-1.02</td><td>-2.27</td><td>-1.05</td><td>-1.57</td><td>F</td><td>-8.69</td></tr>\n",
              "\t<tr><td>4</td><td>29</td><td> 1.00</td><td> 0.88</td><td>-0.09</td><td>-0.26</td><td> 0.80</td><td> 0.07</td><td>F</td><td> 2.40</td></tr>\n",
              "\t<tr><td>5</td><td>24</td><td> 0.27</td><td>-1.92</td><td> 0.17</td><td>-1.35</td><td> 0.83</td><td>-0.52</td><td>M</td><td>-2.52</td></tr>\n",
              "\t<tr><td>6</td><td>27</td><td>-0.45</td><td>-0.48</td><td>-0.31</td><td>-1.45</td><td> 0.01</td><td>-0.90</td><td>M</td><td>-3.58</td></tr>\n",
              "</tbody>\n",
              "</table>\n"
            ]
          },
          "metadata": {
            "tags": []
          }
        }
      ]
    },
    {
      "cell_type": "markdown",
      "metadata": {
        "id": "I8bj9wSvLGC3"
      },
      "source": [
        "新しく作成されるQ_total列がdblの型のため、ここで用いるpmap系の関数もpmap_dbl()となる。  \n",
        "しかし、難しすぎるので覚えなくてよい"
      ]
    },
    {
      "cell_type": "markdown",
      "metadata": {
        "id": "vAU8kWbJO20-"
      },
      "source": [
        "最後に、  \n",
        "不要な列を削除してから複数の列の和を求めて、もともとあった列を付け足すのでも、もちろんよい。   \n",
        "\n",
        "上に列挙した書き方のバリエーションはリファレンスを見ながら試行錯誤で編み出したため、  \n",
        "正直、リファレンスを見ずに適切な関数と引数の与え方を書ける自信はまったくない。\n",
        "\n",
        "一番わかりやすい、読みやすい、間違いの少ない書き方がひとつできればそれでよい。  \n",
        "シンプルな自分に合った書き方が見つかれば、それを使っていければよい。\n"
      ]
    }
  ]
}